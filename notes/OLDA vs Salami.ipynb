{
 "cells": [
  {
   "cell_type": "code",
   "execution_count": 1,
   "metadata": {
    "collapsed": false
   },
   "outputs": [],
   "source": [
    "import pandas as pd\n",
    "import numpy as np\n",
    "%matplotlib inline\n",
    "import seaborn as sns\n",
    "import matplotlib.pyplot as plt\n",
    "sns.set()\n",
    "pd.set_option('display.precision', 4)\n",
    "np.set_printoptions(precision=3)"
   ]
  },
  {
   "cell_type": "code",
   "execution_count": 12,
   "metadata": {
    "collapsed": true
   },
   "outputs": [],
   "source": [
    "raw_scores = pd.read_csv('../results_olda_reduced.csv', index_col='track_id')"
   ]
  },
  {
   "cell_type": "code",
   "execution_count": 13,
   "metadata": {
    "collapsed": false
   },
   "outputs": [],
   "source": [
    "del raw_scores['Unnamed: 0']"
   ]
  },
  {
   "cell_type": "code",
   "execution_count": 14,
   "metadata": {
    "collapsed": false
   },
   "outputs": [],
   "source": [
    "scores = raw_scores.dropna()"
   ]
  },
  {
   "cell_type": "code",
   "execution_count": 15,
   "metadata": {
    "collapsed": false
   },
   "outputs": [
    {
     "data": {
      "text/html": [
       "<div style=\"max-height:1000px;max-width:1500px;overflow:auto;\">\n",
       "<table border=\"1\" class=\"dataframe\">\n",
       "  <thead>\n",
       "    <tr style=\"text-align: right;\">\n",
       "      <th></th>\n",
       "      <th>t_measure10</th>\n",
       "      <th>t_measure15</th>\n",
       "      <th>t_measure30</th>\n",
       "      <th>t_precision10</th>\n",
       "      <th>t_precision15</th>\n",
       "      <th>t_precision30</th>\n",
       "      <th>t_recall10</th>\n",
       "      <th>t_recall15</th>\n",
       "      <th>t_recall30</th>\n",
       "    </tr>\n",
       "    <tr>\n",
       "      <th>track_id</th>\n",
       "      <th></th>\n",
       "      <th></th>\n",
       "      <th></th>\n",
       "      <th></th>\n",
       "      <th></th>\n",
       "      <th></th>\n",
       "      <th></th>\n",
       "      <th></th>\n",
       "      <th></th>\n",
       "    </tr>\n",
       "  </thead>\n",
       "  <tbody>\n",
       "    <tr>\n",
       "      <th>SALAMI_10</th>\n",
       "      <td>0.337</td>\n",
       "      <td>0.354</td>\n",
       "      <td>0.213</td>\n",
       "      <td>0.242</td>\n",
       "      <td>0.244</td>\n",
       "      <td>0.126</td>\n",
       "      <td>0.558</td>\n",
       "      <td>0.644</td>\n",
       "      <td>0.698</td>\n",
       "    </tr>\n",
       "    <tr>\n",
       "      <th>SALAMI_100</th>\n",
       "      <td>0.387</td>\n",
       "      <td>0.503</td>\n",
       "      <td>0.520</td>\n",
       "      <td>0.317</td>\n",
       "      <td>0.438</td>\n",
       "      <td>0.407</td>\n",
       "      <td>0.496</td>\n",
       "      <td>0.592</td>\n",
       "      <td>0.721</td>\n",
       "    </tr>\n",
       "    <tr>\n",
       "      <th>SALAMI_1000</th>\n",
       "      <td>0.374</td>\n",
       "      <td>0.377</td>\n",
       "      <td>0.394</td>\n",
       "      <td>0.331</td>\n",
       "      <td>0.306</td>\n",
       "      <td>0.290</td>\n",
       "      <td>0.430</td>\n",
       "      <td>0.491</td>\n",
       "      <td>0.611</td>\n",
       "    </tr>\n",
       "    <tr>\n",
       "      <th>SALAMI_1002</th>\n",
       "      <td>0.430</td>\n",
       "      <td>0.418</td>\n",
       "      <td>0.054</td>\n",
       "      <td>0.361</td>\n",
       "      <td>0.317</td>\n",
       "      <td>0.028</td>\n",
       "      <td>0.531</td>\n",
       "      <td>0.614</td>\n",
       "      <td>0.689</td>\n",
       "    </tr>\n",
       "    <tr>\n",
       "      <th>SALAMI_1004</th>\n",
       "      <td>0.192</td>\n",
       "      <td>0.162</td>\n",
       "      <td>0.120</td>\n",
       "      <td>0.119</td>\n",
       "      <td>0.093</td>\n",
       "      <td>0.065</td>\n",
       "      <td>0.498</td>\n",
       "      <td>0.640</td>\n",
       "      <td>0.791</td>\n",
       "    </tr>\n",
       "  </tbody>\n",
       "</table>\n",
       "</div>"
      ],
      "text/plain": [
       "             t_measure10  t_measure15  t_measure30  t_precision10  \\\n",
       "track_id                                                            \n",
       "SALAMI_10          0.337        0.354        0.213          0.242   \n",
       "SALAMI_100         0.387        0.503        0.520          0.317   \n",
       "SALAMI_1000        0.374        0.377        0.394          0.331   \n",
       "SALAMI_1002        0.430        0.418        0.054          0.361   \n",
       "SALAMI_1004        0.192        0.162        0.120          0.119   \n",
       "\n",
       "             t_precision15  t_precision30  t_recall10  t_recall15  t_recall30  \n",
       "track_id                                                                       \n",
       "SALAMI_10            0.244          0.126       0.558       0.644       0.698  \n",
       "SALAMI_100           0.438          0.407       0.496       0.592       0.721  \n",
       "SALAMI_1000          0.306          0.290       0.430       0.491       0.611  \n",
       "SALAMI_1002          0.317          0.028       0.531       0.614       0.689  \n",
       "SALAMI_1004          0.093          0.065       0.498       0.640       0.791  "
      ]
     },
     "execution_count": 15,
     "metadata": {},
     "output_type": "execute_result"
    }
   ],
   "source": [
    "scores.head(5)"
   ]
  },
  {
   "cell_type": "code",
   "execution_count": 16,
   "metadata": {
    "collapsed": false
   },
   "outputs": [],
   "source": [
    "scores.columns = ['T_F @ 10','T_F @ 15', 'T_F @ 30', 'T_P @ 10', 'T_P @ 15', 'T_P @ 30', 'T_R @ 10', 'T_R @ 15', 'T_R @ 30']"
   ]
  },
  {
   "cell_type": "code",
   "execution_count": 17,
   "metadata": {
    "collapsed": false
   },
   "outputs": [],
   "source": [
    "scores = scores[['T_F @ 10',  'T_P @ 10', 'T_R @ 10',\n",
    "                 'T_F @ 15',  'T_P @ 15', 'T_R @ 15',\n",
    "                 'T_F @ 30', 'T_P @ 30', 'T_R @ 30']]"
   ]
  },
  {
   "cell_type": "code",
   "execution_count": 18,
   "metadata": {
    "collapsed": false
   },
   "outputs": [
    {
     "data": {
      "text/html": [
       "<div style=\"max-height:1000px;max-width:1500px;overflow:auto;\">\n",
       "<table border=\"1\" class=\"dataframe\">\n",
       "  <thead>\n",
       "    <tr style=\"text-align: right;\">\n",
       "      <th></th>\n",
       "      <th>T_F @ 10</th>\n",
       "      <th>T_P @ 10</th>\n",
       "      <th>T_R @ 10</th>\n",
       "      <th>T_F @ 15</th>\n",
       "      <th>T_P @ 15</th>\n",
       "      <th>T_R @ 15</th>\n",
       "      <th>T_F @ 30</th>\n",
       "      <th>T_P @ 30</th>\n",
       "      <th>T_R @ 30</th>\n",
       "    </tr>\n",
       "  </thead>\n",
       "  <tbody>\n",
       "    <tr>\n",
       "      <th>count</th>\n",
       "      <td>738.000</td>\n",
       "      <td>738.000</td>\n",
       "      <td>738.000</td>\n",
       "      <td>738.000</td>\n",
       "      <td>738.000</td>\n",
       "      <td>738.000</td>\n",
       "      <td>738.000</td>\n",
       "      <td>738.000</td>\n",
       "      <td>738.000</td>\n",
       "    </tr>\n",
       "    <tr>\n",
       "      <th>mean</th>\n",
       "      <td>0.363</td>\n",
       "      <td>0.344</td>\n",
       "      <td>0.466</td>\n",
       "      <td>0.391</td>\n",
       "      <td>0.333</td>\n",
       "      <td>0.570</td>\n",
       "      <td>0.367</td>\n",
       "      <td>0.282</td>\n",
       "      <td>0.681</td>\n",
       "    </tr>\n",
       "    <tr>\n",
       "      <th>std</th>\n",
       "      <td>0.149</td>\n",
       "      <td>0.194</td>\n",
       "      <td>0.092</td>\n",
       "      <td>0.156</td>\n",
       "      <td>0.180</td>\n",
       "      <td>0.090</td>\n",
       "      <td>0.173</td>\n",
       "      <td>0.176</td>\n",
       "      <td>0.099</td>\n",
       "    </tr>\n",
       "    <tr>\n",
       "      <th>min</th>\n",
       "      <td>0.000</td>\n",
       "      <td>0.000</td>\n",
       "      <td>0.000</td>\n",
       "      <td>0.000</td>\n",
       "      <td>0.000</td>\n",
       "      <td>0.000</td>\n",
       "      <td>0.000</td>\n",
       "      <td>0.000</td>\n",
       "      <td>0.000</td>\n",
       "    </tr>\n",
       "    <tr>\n",
       "      <th>25%</th>\n",
       "      <td>0.282</td>\n",
       "      <td>0.207</td>\n",
       "      <td>0.420</td>\n",
       "      <td>0.300</td>\n",
       "      <td>0.208</td>\n",
       "      <td>0.529</td>\n",
       "      <td>0.244</td>\n",
       "      <td>0.149</td>\n",
       "      <td>0.635</td>\n",
       "    </tr>\n",
       "    <tr>\n",
       "      <th>50%</th>\n",
       "      <td>0.381</td>\n",
       "      <td>0.336</td>\n",
       "      <td>0.462</td>\n",
       "      <td>0.405</td>\n",
       "      <td>0.322</td>\n",
       "      <td>0.571</td>\n",
       "      <td>0.357</td>\n",
       "      <td>0.247</td>\n",
       "      <td>0.689</td>\n",
       "    </tr>\n",
       "    <tr>\n",
       "      <th>75%</th>\n",
       "      <td>0.462</td>\n",
       "      <td>0.461</td>\n",
       "      <td>0.512</td>\n",
       "      <td>0.495</td>\n",
       "      <td>0.446</td>\n",
       "      <td>0.621</td>\n",
       "      <td>0.491</td>\n",
       "      <td>0.391</td>\n",
       "      <td>0.739</td>\n",
       "    </tr>\n",
       "    <tr>\n",
       "      <th>max</th>\n",
       "      <td>0.820</td>\n",
       "      <td>1.000</td>\n",
       "      <td>0.857</td>\n",
       "      <td>0.817</td>\n",
       "      <td>0.986</td>\n",
       "      <td>0.855</td>\n",
       "      <td>0.871</td>\n",
       "      <td>0.935</td>\n",
       "      <td>0.922</td>\n",
       "    </tr>\n",
       "  </tbody>\n",
       "</table>\n",
       "</div>"
      ],
      "text/plain": [
       "       T_F @ 10  T_P @ 10  T_R @ 10  T_F @ 15  T_P @ 15  T_R @ 15  T_F @ 30  \\\n",
       "count   738.000   738.000   738.000   738.000   738.000   738.000   738.000   \n",
       "mean      0.363     0.344     0.466     0.391     0.333     0.570     0.367   \n",
       "std       0.149     0.194     0.092     0.156     0.180     0.090     0.173   \n",
       "min       0.000     0.000     0.000     0.000     0.000     0.000     0.000   \n",
       "25%       0.282     0.207     0.420     0.300     0.208     0.529     0.244   \n",
       "50%       0.381     0.336     0.462     0.405     0.322     0.571     0.357   \n",
       "75%       0.462     0.461     0.512     0.495     0.446     0.621     0.491   \n",
       "max       0.820     1.000     0.857     0.817     0.986     0.855     0.871   \n",
       "\n",
       "       T_P @ 30  T_R @ 30  \n",
       "count   738.000   738.000  \n",
       "mean      0.282     0.681  \n",
       "std       0.176     0.099  \n",
       "min       0.000     0.000  \n",
       "25%       0.149     0.635  \n",
       "50%       0.247     0.689  \n",
       "75%       0.391     0.739  \n",
       "max       0.935     0.922  "
      ]
     },
     "execution_count": 18,
     "metadata": {},
     "output_type": "execute_result"
    }
   ],
   "source": [
    "scores.describe()"
   ]
  },
  {
   "cell_type": "code",
   "execution_count": 21,
   "metadata": {
    "collapsed": false
   },
   "outputs": [
    {
     "data": {
      "image/png": "[encoded data removed]",
      "text/plain": [
       "<matplotlib.figure.Figure at 0x7f5a21cc5950>"
      ]
     },
     "metadata": {},
     "output_type": "display_data"
    }
   ],
   "source": [
    "sns.set_style('darkgrid')\n",
    "plt.figure(figsize=(6,3))\n",
    "sns.boxplot(scores[['T_F @ 10', 'T_F @ 15', 'T_F @ 30']], color=sns.color_palette('Greens')[3])\n",
    "plt.ylabel('$\\mathcal{T}_F$')\n",
    "plt.xticks([1,2,3], [10, 15, 30])\n",
    "plt.ylim([0, 1])\n",
    "plt.xlabel('$w$ (seconds)')\n",
    "plt.tight_layout()\n",
    "plt.savefig('../paper/figs/salami-olda-stats.pdf', pad_inches=0.0, bbox_inches='tight')\n",
    "!convert ../paper/figs/salami-olda-stats.pdf ../paper/figs/salami-olda-stats.eps"
   ]
  },
  {
   "cell_type": "code",
   "execution_count": 20,
   "metadata": {
    "collapsed": false
   },
   "outputs": [
    {
     "data": {
      "image/png": "[encoded data removed]",
      "text/plain": [
       "<matplotlib.figure.Figure at 0x7f5a21f5a110>"
      ]
     },
     "metadata": {},
     "output_type": "display_data"
    }
   ],
   "source": [
    "sns.set_style('darkgrid')\n",
    "plt.figure(figsize=(6,3))\n",
    "#sns.boxplot(scores[['T_F @ 10', 'T_F @ 15', 'T_F @ 30']], color=sns.color_palette('Greens')[3])\n",
    "sns.boxplot(scores)#, color=sns.color_palette('Greens')[3])\n",
    "#plt.ylabel('$\\mathcal{T}_F$')\n",
    "#plt.xticks([1,2,3], [10, 15, 30])\n",
    "#plt.xlabel('$w$ (seconds)')\n",
    "plt.tight_layout()\n",
    "#plt.savefig('../paper/figs/salami-olda-stats.pdf', pad_inches=0.0, bbox_inches='tight')\n",
    "#!convert ../paper/figs/salami-olda-stats.pdf ../paper/figs/salami-olda-stats.eps"
   ]
  }
 ],
 "metadata": {
  "kernelspec": {
   "display_name": "Python 2",
   "language": "python",
   "name": "python2"
  },
  "language_info": {
   "codemirror_mode": {
    "name": "ipython",
    "version": 2
   },
   "file_extension": ".py",
   "mimetype": "text/x-python",
   "name": "python",
   "nbconvert_exporter": "python",
   "pygments_lexer": "ipython2",
   "version": "2.7.8"
  }
 },
 "nbformat": 4,
 "nbformat_minor": 0
}

{
 "cells": [
  {
   "cell_type": "code",
   "execution_count": 1,
   "metadata": {
    "collapsed": false
   },
   "outputs": [],
   "source": [
    "import pandas as pd\n",
    "import numpy as np\n",
    "%matplotlib inline\n",
    "import seaborn as sns\n",
    "import matplotlib.pyplot as plt\n",
    "sns.set()\n",
    "pd.set_option('display.precision', 4)\n",
    "np.set_printoptions(precision=3)"
   ]
  },
  {
   "cell_type": "code",
   "execution_count": 2,
   "metadata": {
    "collapsed": true
   },
   "outputs": [],
   "source": [
    "raw_scores = pd.read_csv('../results_olda.csv', index_col='track_id')"
   ]
  },
  {
   "cell_type": "code",
   "execution_count": 3,
   "metadata": {
    "collapsed": false
   },
   "outputs": [],
   "source": [
    "del raw_scores['Unnamed: 0']"
   ]
  },
  {
   "cell_type": "code",
   "execution_count": 4,
   "metadata": {
    "collapsed": false
   },
   "outputs": [],
   "source": [
    "scores = raw_scores.dropna()"
   ]
  },
  {
   "cell_type": "code",
   "execution_count": 5,
   "metadata": {
    "collapsed": false
   },
   "outputs": [
    {
     "data": {
      "text/html": [
       "<div style=\"max-height:1000px;max-width:1500px;overflow:auto;\">\n",
       "<table border=\"1\" class=\"dataframe\">\n",
       "  <thead>\n",
       "    <tr style=\"text-align: right;\">\n",
       "      <th></th>\n",
       "      <th>t_measure10</th>\n",
       "      <th>t_measure15</th>\n",
       "      <th>t_measure30</th>\n",
       "      <th>t_precision10</th>\n",
       "      <th>t_precision15</th>\n",
       "      <th>t_precision30</th>\n",
       "      <th>t_recall10</th>\n",
       "      <th>t_recall15</th>\n",
       "      <th>t_recall30</th>\n",
       "    </tr>\n",
       "    <tr>\n",
       "      <th>track_id</th>\n",
       "      <th></th>\n",
       "      <th></th>\n",
       "      <th></th>\n",
       "      <th></th>\n",
       "      <th></th>\n",
       "      <th></th>\n",
       "      <th></th>\n",
       "      <th></th>\n",
       "      <th></th>\n",
       "    </tr>\n",
       "  </thead>\n",
       "  <tbody>\n",
       "    <tr>\n",
       "      <th>SALAMI_10</th>\n",
       "      <td>0.142</td>\n",
       "      <td>0.177</td>\n",
       "      <td>0.279</td>\n",
       "      <td>0.172</td>\n",
       "      <td>0.212</td>\n",
       "      <td>0.318</td>\n",
       "      <td>0.121</td>\n",
       "      <td>0.152</td>\n",
       "      <td>0.249</td>\n",
       "    </tr>\n",
       "    <tr>\n",
       "      <th>SALAMI_100</th>\n",
       "      <td>0.084</td>\n",
       "      <td>0.123</td>\n",
       "      <td>0.215</td>\n",
       "      <td>0.071</td>\n",
       "      <td>0.105</td>\n",
       "      <td>0.187</td>\n",
       "      <td>0.103</td>\n",
       "      <td>0.148</td>\n",
       "      <td>0.252</td>\n",
       "    </tr>\n",
       "    <tr>\n",
       "      <th>SALAMI_1000</th>\n",
       "      <td>0.140</td>\n",
       "      <td>0.171</td>\n",
       "      <td>0.250</td>\n",
       "      <td>0.129</td>\n",
       "      <td>0.155</td>\n",
       "      <td>0.210</td>\n",
       "      <td>0.153</td>\n",
       "      <td>0.191</td>\n",
       "      <td>0.308</td>\n",
       "    </tr>\n",
       "    <tr>\n",
       "      <th>SALAMI_1002</th>\n",
       "      <td>0.143</td>\n",
       "      <td>0.179</td>\n",
       "      <td>0.299</td>\n",
       "      <td>0.164</td>\n",
       "      <td>0.201</td>\n",
       "      <td>0.322</td>\n",
       "      <td>0.127</td>\n",
       "      <td>0.162</td>\n",
       "      <td>0.279</td>\n",
       "    </tr>\n",
       "    <tr>\n",
       "      <th>SALAMI_1004</th>\n",
       "      <td>0.270</td>\n",
       "      <td>0.313</td>\n",
       "      <td>0.390</td>\n",
       "      <td>0.187</td>\n",
       "      <td>0.216</td>\n",
       "      <td>0.274</td>\n",
       "      <td>0.492</td>\n",
       "      <td>0.571</td>\n",
       "      <td>0.677</td>\n",
       "    </tr>\n",
       "  </tbody>\n",
       "</table>\n",
       "</div>"
      ],
      "text/plain": [
       "             t_measure10  t_measure15  t_measure30  t_precision10  \\\n",
       "track_id                                                            \n",
       "SALAMI_10          0.142        0.177        0.279          0.172   \n",
       "SALAMI_100         0.084        0.123        0.215          0.071   \n",
       "SALAMI_1000        0.140        0.171        0.250          0.129   \n",
       "SALAMI_1002        0.143        0.179        0.299          0.164   \n",
       "SALAMI_1004        0.270        0.313        0.390          0.187   \n",
       "\n",
       "             t_precision15  t_precision30  t_recall10  t_recall15  t_recall30  \n",
       "track_id                                                                       \n",
       "SALAMI_10            0.212          0.318       0.121       0.152       0.249  \n",
       "SALAMI_100           0.105          0.187       0.103       0.148       0.252  \n",
       "SALAMI_1000          0.155          0.210       0.153       0.191       0.308  \n",
       "SALAMI_1002          0.201          0.322       0.127       0.162       0.279  \n",
       "SALAMI_1004          0.216          0.274       0.492       0.571       0.677  "
      ]
     },
     "execution_count": 5,
     "metadata": {},
     "output_type": "execute_result"
    }
   ],
   "source": [
    "scores.head(5)"
   ]
  },
  {
   "cell_type": "code",
   "execution_count": 6,
   "metadata": {
    "collapsed": false
   },
   "outputs": [],
   "source": [
    "scores.columns = ['T_F @ 10','T_F @ 15', 'T_F @ 30', 'T_P @ 10', 'T_P @ 15', 'T_P @ 30', 'T_R @ 10', 'T_R @ 15', 'T_R @ 30']"
   ]
  },
  {
   "cell_type": "code",
   "execution_count": 7,
   "metadata": {
    "collapsed": false
   },
   "outputs": [],
   "source": [
    "scores = scores[['T_F @ 10',  'T_P @ 10', 'T_R @ 10',\n",
    "                 'T_F @ 15',  'T_P @ 15', 'T_R @ 15',\n",
    "                 'T_F @ 30', 'T_P @ 30', 'T_R @ 30']]"
   ]
  },
  {
   "cell_type": "code",
   "execution_count": 8,
   "metadata": {
    "collapsed": false
   },
   "outputs": [
    {
     "data": {
      "text/html": [
       "<div style=\"max-height:1000px;max-width:1500px;overflow:auto;\">\n",
       "<table border=\"1\" class=\"dataframe\">\n",
       "  <thead>\n",
       "    <tr style=\"text-align: right;\">\n",
       "      <th></th>\n",
       "      <th>T_F @ 10</th>\n",
       "      <th>T_P @ 10</th>\n",
       "      <th>T_R @ 10</th>\n",
       "      <th>T_F @ 15</th>\n",
       "      <th>T_P @ 15</th>\n",
       "      <th>T_R @ 15</th>\n",
       "      <th>T_F @ 30</th>\n",
       "      <th>T_P @ 30</th>\n",
       "      <th>T_R @ 30</th>\n",
       "    </tr>\n",
       "  </thead>\n",
       "  <tbody>\n",
       "    <tr>\n",
       "      <th>count</th>\n",
       "      <td>726.000</td>\n",
       "      <td>726.000</td>\n",
       "      <td>726.000</td>\n",
       "      <td>726.000</td>\n",
       "      <td>726.000</td>\n",
       "      <td>726.000</td>\n",
       "      <td>726.000</td>\n",
       "      <td>726.000</td>\n",
       "      <td>726.000</td>\n",
       "    </tr>\n",
       "    <tr>\n",
       "      <th>mean</th>\n",
       "      <td>0.147</td>\n",
       "      <td>0.127</td>\n",
       "      <td>0.218</td>\n",
       "      <td>0.183</td>\n",
       "      <td>0.158</td>\n",
       "      <td>0.273</td>\n",
       "      <td>0.261</td>\n",
       "      <td>0.222</td>\n",
       "      <td>0.384</td>\n",
       "    </tr>\n",
       "    <tr>\n",
       "      <th>std</th>\n",
       "      <td>0.071</td>\n",
       "      <td>0.072</td>\n",
       "      <td>0.123</td>\n",
       "      <td>0.077</td>\n",
       "      <td>0.080</td>\n",
       "      <td>0.137</td>\n",
       "      <td>0.083</td>\n",
       "      <td>0.091</td>\n",
       "      <td>0.147</td>\n",
       "    </tr>\n",
       "    <tr>\n",
       "      <th>min</th>\n",
       "      <td>0.000</td>\n",
       "      <td>0.000</td>\n",
       "      <td>0.000</td>\n",
       "      <td>0.000</td>\n",
       "      <td>0.000</td>\n",
       "      <td>0.000</td>\n",
       "      <td>0.000</td>\n",
       "      <td>0.000</td>\n",
       "      <td>0.000</td>\n",
       "    </tr>\n",
       "    <tr>\n",
       "      <th>25%</th>\n",
       "      <td>0.096</td>\n",
       "      <td>0.076</td>\n",
       "      <td>0.127</td>\n",
       "      <td>0.130</td>\n",
       "      <td>0.100</td>\n",
       "      <td>0.170</td>\n",
       "      <td>0.207</td>\n",
       "      <td>0.158</td>\n",
       "      <td>0.280</td>\n",
       "    </tr>\n",
       "    <tr>\n",
       "      <th>50%</th>\n",
       "      <td>0.140</td>\n",
       "      <td>0.115</td>\n",
       "      <td>0.200</td>\n",
       "      <td>0.176</td>\n",
       "      <td>0.145</td>\n",
       "      <td>0.255</td>\n",
       "      <td>0.258</td>\n",
       "      <td>0.208</td>\n",
       "      <td>0.381</td>\n",
       "    </tr>\n",
       "    <tr>\n",
       "      <th>75%</th>\n",
       "      <td>0.187</td>\n",
       "      <td>0.164</td>\n",
       "      <td>0.295</td>\n",
       "      <td>0.226</td>\n",
       "      <td>0.202</td>\n",
       "      <td>0.364</td>\n",
       "      <td>0.313</td>\n",
       "      <td>0.270</td>\n",
       "      <td>0.497</td>\n",
       "    </tr>\n",
       "    <tr>\n",
       "      <th>max</th>\n",
       "      <td>0.407</td>\n",
       "      <td>0.492</td>\n",
       "      <td>0.745</td>\n",
       "      <td>0.445</td>\n",
       "      <td>0.552</td>\n",
       "      <td>0.801</td>\n",
       "      <td>0.530</td>\n",
       "      <td>0.618</td>\n",
       "      <td>0.834</td>\n",
       "    </tr>\n",
       "  </tbody>\n",
       "</table>\n",
       "</div>"
      ],
      "text/plain": [
       "       T_F @ 10  T_P @ 10  T_R @ 10  T_F @ 15  T_P @ 15  T_R @ 15  T_F @ 30  \\\n",
       "count   726.000   726.000   726.000   726.000   726.000   726.000   726.000   \n",
       "mean      0.147     0.127     0.218     0.183     0.158     0.273     0.261   \n",
       "std       0.071     0.072     0.123     0.077     0.080     0.137     0.083   \n",
       "min       0.000     0.000     0.000     0.000     0.000     0.000     0.000   \n",
       "25%       0.096     0.076     0.127     0.130     0.100     0.170     0.207   \n",
       "50%       0.140     0.115     0.200     0.176     0.145     0.255     0.258   \n",
       "75%       0.187     0.164     0.295     0.226     0.202     0.364     0.313   \n",
       "max       0.407     0.492     0.745     0.445     0.552     0.801     0.530   \n",
       "\n",
       "       T_P @ 30  T_R @ 30  \n",
       "count   726.000   726.000  \n",
       "mean      0.222     0.384  \n",
       "std       0.091     0.147  \n",
       "min       0.000     0.000  \n",
       "25%       0.158     0.280  \n",
       "50%       0.208     0.381  \n",
       "75%       0.270     0.497  \n",
       "max       0.618     0.834  "
      ]
     },
     "execution_count": 8,
     "metadata": {},
     "output_type": "execute_result"
    }
   ],
   "source": [
    "scores.describe()"
   ]
  },
  {
   "cell_type": "code",
   "execution_count": 9,
   "metadata": {
    "collapsed": false
   },
   "outputs": [
    {
     "data": {
      "image/png": "[encoded data removed]",
      "text/plain": [
       "<matplotlib.figure.Figure at 0x7f01f86edcd0>"
      ]
     },
     "metadata": {},
     "output_type": "display_data"
    }
   ],
   "source": [
    "sns.set_style('darkgrid')\n",
    "plt.figure(figsize=(6,3))\n",
    "sns.boxplot(scores[['T_F @ 10', 'T_F @ 15', 'T_F @ 30']], color=sns.color_palette('Greens')[3])\n",
    "plt.ylabel('$\\mathcal{T}_F$')\n",
    "plt.xticks([1,2,3], [10, 15, 30])\n",
    "plt.xlabel('$w$ (seconds)')\n",
    "plt.tight_layout()\n",
    "plt.savefig('../paper/figs/salami-olda-stats.pdf', pad_inches=0.0, bbox_inches='tight')\n",
    "!convert ../paper/figs/salami-olda-stats.pdf ../paper/figs/salami-olda-stats.eps"
   ]
  },
  {
   "cell_type": "code",
   "execution_count": 37,
   "metadata": {
    "collapsed": false
   },
   "outputs": [
    {
     "data": {
      "image/png": "[encoded data removed]",
      "text/plain": [
       "<matplotlib.figure.Figure at 0x7f0584ec5a90>"
      ]
     },
     "metadata": {},
     "output_type": "display_data"
    }
   ],
   "source": [
    "sns.set_style('darkgrid')\n",
    "plt.figure(figsize=(6,3))\n",
    "#sns.boxplot(scores[['T_F @ 10', 'T_F @ 15', 'T_F @ 30']], color=sns.color_palette('Greens')[3])\n",
    "sns.boxplot(scores)#, color=sns.color_palette('Greens')[3])\n",
    "#plt.ylabel('$\\mathcal{T}_F$')\n",
    "#plt.xticks([1,2,3], [10, 15, 30])\n",
    "#plt.xlabel('$w$ (seconds)')\n",
    "plt.tight_layout()\n",
    "#plt.savefig('../paper/figs/salami-olda-stats.pdf', pad_inches=0.0, bbox_inches='tight')\n",
    "#!convert ../paper/figs/salami-olda-stats.pdf ../paper/figs/salami-olda-stats.eps"
   ]
  }
 ],
 "metadata": {
  "kernelspec": {
   "display_name": "Python 2",
   "language": "python",
   "name": "python2"
  },
  "language_info": {
   "codemirror_mode": {
    "name": "ipython",
    "version": 2
   },
   "file_extension": ".py",
   "mimetype": "text/x-python",
   "name": "python",
   "nbconvert_exporter": "python",
   "pygments_lexer": "ipython2",
   "version": "2.7.8"
  }
 },
 "nbformat": 4,
 "nbformat_minor": 0
}

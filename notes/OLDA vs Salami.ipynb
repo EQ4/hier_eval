{
 "cells": [
  {
   "cell_type": "code",
   "execution_count": 1,
   "metadata": {
    "collapsed": false
   },
   "outputs": [],
   "source": [
    "import pandas as pd\n",
    "import numpy as np\n",
    "%matplotlib inline\n",
    "import seaborn as sns\n",
    "import matplotlib.pyplot as plt\n",
    "sns.set()\n",
    "pd.set_option('display.precision', 4)\n",
    "np.set_printoptions(precision=3)"
   ]
  },
  {
   "cell_type": "code",
   "execution_count": 3,
   "metadata": {
    "collapsed": true
   },
   "outputs": [],
   "source": [
    "raw_scores = pd.read_csv('../results_olda_reduced.csv', index_col='track_id')"
   ]
  },
  {
   "cell_type": "code",
   "execution_count": 4,
   "metadata": {
    "collapsed": false
   },
   "outputs": [],
   "source": [
    "del raw_scores['Unnamed: 0']"
   ]
  },
  {
   "cell_type": "code",
   "execution_count": 5,
   "metadata": {
    "collapsed": false
   },
   "outputs": [],
   "source": [
    "scores = raw_scores.dropna()"
   ]
  },
  {
   "cell_type": "code",
   "execution_count": 6,
   "metadata": {
    "collapsed": false
   },
   "outputs": [
    {
     "data": {
      "text/html": [
       "<div style=\"max-height:1000px;max-width:1500px;overflow:auto;\">\n",
       "<table border=\"1\" class=\"dataframe\">\n",
       "  <thead>\n",
       "    <tr style=\"text-align: right;\">\n",
       "      <th></th>\n",
       "      <th>t_measure10</th>\n",
       "      <th>t_measure15</th>\n",
       "      <th>t_measure30</th>\n",
       "      <th>t_precision10</th>\n",
       "      <th>t_precision15</th>\n",
       "      <th>t_precision30</th>\n",
       "      <th>t_recall10</th>\n",
       "      <th>t_recall15</th>\n",
       "      <th>t_recall30</th>\n",
       "    </tr>\n",
       "    <tr>\n",
       "      <th>track_id</th>\n",
       "      <th></th>\n",
       "      <th></th>\n",
       "      <th></th>\n",
       "      <th></th>\n",
       "      <th></th>\n",
       "      <th></th>\n",
       "      <th></th>\n",
       "      <th></th>\n",
       "      <th></th>\n",
       "    </tr>\n",
       "  </thead>\n",
       "  <tbody>\n",
       "    <tr>\n",
       "      <th>SALAMI_10</th>\n",
       "      <td>0.207</td>\n",
       "      <td>0.260</td>\n",
       "      <td>0.382</td>\n",
       "      <td>0.140</td>\n",
       "      <td>0.181</td>\n",
       "      <td>0.276</td>\n",
       "      <td>0.396</td>\n",
       "      <td>0.464</td>\n",
       "      <td>0.620</td>\n",
       "    </tr>\n",
       "    <tr>\n",
       "      <th>SALAMI_100</th>\n",
       "      <td>0.080</td>\n",
       "      <td>0.103</td>\n",
       "      <td>0.155</td>\n",
       "      <td>0.084</td>\n",
       "      <td>0.109</td>\n",
       "      <td>0.153</td>\n",
       "      <td>0.076</td>\n",
       "      <td>0.098</td>\n",
       "      <td>0.156</td>\n",
       "    </tr>\n",
       "    <tr>\n",
       "      <th>SALAMI_1000</th>\n",
       "      <td>0.134</td>\n",
       "      <td>0.168</td>\n",
       "      <td>0.240</td>\n",
       "      <td>0.140</td>\n",
       "      <td>0.168</td>\n",
       "      <td>0.237</td>\n",
       "      <td>0.128</td>\n",
       "      <td>0.167</td>\n",
       "      <td>0.243</td>\n",
       "    </tr>\n",
       "    <tr>\n",
       "      <th>SALAMI_1002</th>\n",
       "      <td>0.157</td>\n",
       "      <td>0.194</td>\n",
       "      <td>0.304</td>\n",
       "      <td>0.131</td>\n",
       "      <td>0.167</td>\n",
       "      <td>0.293</td>\n",
       "      <td>0.196</td>\n",
       "      <td>0.231</td>\n",
       "      <td>0.316</td>\n",
       "    </tr>\n",
       "    <tr>\n",
       "      <th>SALAMI_1004</th>\n",
       "      <td>0.275</td>\n",
       "      <td>0.310</td>\n",
       "      <td>0.360</td>\n",
       "      <td>0.171</td>\n",
       "      <td>0.195</td>\n",
       "      <td>0.231</td>\n",
       "      <td>0.705</td>\n",
       "      <td>0.759</td>\n",
       "      <td>0.808</td>\n",
       "    </tr>\n",
       "  </tbody>\n",
       "</table>\n",
       "</div>"
      ],
      "text/plain": [
       "             t_measure10  t_measure15  t_measure30  t_precision10  \\\n",
       "track_id                                                            \n",
       "SALAMI_10          0.207        0.260        0.382          0.140   \n",
       "SALAMI_100         0.080        0.103        0.155          0.084   \n",
       "SALAMI_1000        0.134        0.168        0.240          0.140   \n",
       "SALAMI_1002        0.157        0.194        0.304          0.131   \n",
       "SALAMI_1004        0.275        0.310        0.360          0.171   \n",
       "\n",
       "             t_precision15  t_precision30  t_recall10  t_recall15  t_recall30  \n",
       "track_id                                                                       \n",
       "SALAMI_10            0.181          0.276       0.396       0.464       0.620  \n",
       "SALAMI_100           0.109          0.153       0.076       0.098       0.156  \n",
       "SALAMI_1000          0.168          0.237       0.128       0.167       0.243  \n",
       "SALAMI_1002          0.167          0.293       0.196       0.231       0.316  \n",
       "SALAMI_1004          0.195          0.231       0.705       0.759       0.808  "
      ]
     },
     "execution_count": 6,
     "metadata": {},
     "output_type": "execute_result"
    }
   ],
   "source": [
    "scores.head(5)"
   ]
  },
  {
   "cell_type": "code",
   "execution_count": 7,
   "metadata": {
    "collapsed": false
   },
   "outputs": [],
   "source": [
    "scores.columns = ['T_F @ 10','T_F @ 15', 'T_F @ 30', 'T_P @ 10', 'T_P @ 15', 'T_P @ 30', 'T_R @ 10', 'T_R @ 15', 'T_R @ 30']"
   ]
  },
  {
   "cell_type": "code",
   "execution_count": 8,
   "metadata": {
    "collapsed": false
   },
   "outputs": [],
   "source": [
    "scores = scores[['T_F @ 10',  'T_P @ 10', 'T_R @ 10',\n",
    "                 'T_F @ 15',  'T_P @ 15', 'T_R @ 15',\n",
    "                 'T_F @ 30', 'T_P @ 30', 'T_R @ 30']]"
   ]
  },
  {
   "cell_type": "code",
   "execution_count": 9,
   "metadata": {
    "collapsed": false
   },
   "outputs": [
    {
     "data": {
      "text/html": [
       "<div style=\"max-height:1000px;max-width:1500px;overflow:auto;\">\n",
       "<table border=\"1\" class=\"dataframe\">\n",
       "  <thead>\n",
       "    <tr style=\"text-align: right;\">\n",
       "      <th></th>\n",
       "      <th>T_F @ 10</th>\n",
       "      <th>T_P @ 10</th>\n",
       "      <th>T_R @ 10</th>\n",
       "      <th>T_F @ 15</th>\n",
       "      <th>T_P @ 15</th>\n",
       "      <th>T_R @ 15</th>\n",
       "      <th>T_F @ 30</th>\n",
       "      <th>T_P @ 30</th>\n",
       "      <th>T_R @ 30</th>\n",
       "    </tr>\n",
       "  </thead>\n",
       "  <tbody>\n",
       "    <tr>\n",
       "      <th>count</th>\n",
       "      <td>726.000</td>\n",
       "      <td>726.000</td>\n",
       "      <td>726.000</td>\n",
       "      <td>726.000</td>\n",
       "      <td>726.000</td>\n",
       "      <td>726.000</td>\n",
       "      <td>726.000</td>\n",
       "      <td>726.000</td>\n",
       "      <td>726.000</td>\n",
       "    </tr>\n",
       "    <tr>\n",
       "      <th>mean</th>\n",
       "      <td>0.088</td>\n",
       "      <td>0.091</td>\n",
       "      <td>0.214</td>\n",
       "      <td>0.116</td>\n",
       "      <td>0.115</td>\n",
       "      <td>0.265</td>\n",
       "      <td>0.181</td>\n",
       "      <td>0.164</td>\n",
       "      <td>0.368</td>\n",
       "    </tr>\n",
       "    <tr>\n",
       "      <th>std</th>\n",
       "      <td>0.089</td>\n",
       "      <td>0.082</td>\n",
       "      <td>0.229</td>\n",
       "      <td>0.099</td>\n",
       "      <td>0.093</td>\n",
       "      <td>0.242</td>\n",
       "      <td>0.114</td>\n",
       "      <td>0.110</td>\n",
       "      <td>0.242</td>\n",
       "    </tr>\n",
       "    <tr>\n",
       "      <th>min</th>\n",
       "      <td>0.000</td>\n",
       "      <td>0.000</td>\n",
       "      <td>0.000</td>\n",
       "      <td>0.000</td>\n",
       "      <td>0.000</td>\n",
       "      <td>0.000</td>\n",
       "      <td>0.000</td>\n",
       "      <td>0.000</td>\n",
       "      <td>0.000</td>\n",
       "    </tr>\n",
       "    <tr>\n",
       "      <th>25%</th>\n",
       "      <td>0.000</td>\n",
       "      <td>0.034</td>\n",
       "      <td>0.007</td>\n",
       "      <td>0.026</td>\n",
       "      <td>0.047</td>\n",
       "      <td>0.061</td>\n",
       "      <td>0.103</td>\n",
       "      <td>0.083</td>\n",
       "      <td>0.177</td>\n",
       "    </tr>\n",
       "    <tr>\n",
       "      <th>50%</th>\n",
       "      <td>0.073</td>\n",
       "      <td>0.074</td>\n",
       "      <td>0.147</td>\n",
       "      <td>0.110</td>\n",
       "      <td>0.097</td>\n",
       "      <td>0.213</td>\n",
       "      <td>0.181</td>\n",
       "      <td>0.150</td>\n",
       "      <td>0.359</td>\n",
       "    </tr>\n",
       "    <tr>\n",
       "      <th>75%</th>\n",
       "      <td>0.138</td>\n",
       "      <td>0.127</td>\n",
       "      <td>0.339</td>\n",
       "      <td>0.175</td>\n",
       "      <td>0.155</td>\n",
       "      <td>0.415</td>\n",
       "      <td>0.252</td>\n",
       "      <td>0.215</td>\n",
       "      <td>0.535</td>\n",
       "    </tr>\n",
       "    <tr>\n",
       "      <th>max</th>\n",
       "      <td>0.477</td>\n",
       "      <td>0.576</td>\n",
       "      <td>1.000</td>\n",
       "      <td>0.499</td>\n",
       "      <td>0.633</td>\n",
       "      <td>1.000</td>\n",
       "      <td>0.583</td>\n",
       "      <td>0.655</td>\n",
       "      <td>1.000</td>\n",
       "    </tr>\n",
       "  </tbody>\n",
       "</table>\n",
       "</div>"
      ],
      "text/plain": [
       "       T_F @ 10  T_P @ 10  T_R @ 10  T_F @ 15  T_P @ 15  T_R @ 15  T_F @ 30  \\\n",
       "count   726.000   726.000   726.000   726.000   726.000   726.000   726.000   \n",
       "mean      0.088     0.091     0.214     0.116     0.115     0.265     0.181   \n",
       "std       0.089     0.082     0.229     0.099     0.093     0.242     0.114   \n",
       "min       0.000     0.000     0.000     0.000     0.000     0.000     0.000   \n",
       "25%       0.000     0.034     0.007     0.026     0.047     0.061     0.103   \n",
       "50%       0.073     0.074     0.147     0.110     0.097     0.213     0.181   \n",
       "75%       0.138     0.127     0.339     0.175     0.155     0.415     0.252   \n",
       "max       0.477     0.576     1.000     0.499     0.633     1.000     0.583   \n",
       "\n",
       "       T_P @ 30  T_R @ 30  \n",
       "count   726.000   726.000  \n",
       "mean      0.164     0.368  \n",
       "std       0.110     0.242  \n",
       "min       0.000     0.000  \n",
       "25%       0.083     0.177  \n",
       "50%       0.150     0.359  \n",
       "75%       0.215     0.535  \n",
       "max       0.655     1.000  "
      ]
     },
     "execution_count": 9,
     "metadata": {},
     "output_type": "execute_result"
    }
   ],
   "source": [
    "scores.describe()"
   ]
  },
  {
   "cell_type": "code",
   "execution_count": 10,
   "metadata": {
    "collapsed": false
   },
   "outputs": [
    {
     "data": {
      "image/png": "[encoded data removed]",
      "text/plain": [
       "<matplotlib.figure.Figure at 0x7f5a22b76790>"
      ]
     },
     "metadata": {},
     "output_type": "display_data"
    }
   ],
   "source": [
    "sns.set_style('darkgrid')\n",
    "plt.figure(figsize=(6,3))\n",
    "sns.boxplot(scores[['T_F @ 10', 'T_F @ 15', 'T_F @ 30']], color=sns.color_palette('Greens')[3])\n",
    "plt.ylabel('$\\mathcal{T}_F$')\n",
    "plt.xticks([1,2,3], [10, 15, 30])\n",
    "plt.xlabel('$w$ (seconds)')\n",
    "plt.tight_layout()\n",
    "plt.savefig('../paper/figs/salami-olda-stats.pdf', pad_inches=0.0, bbox_inches='tight')\n",
    "!convert ../paper/figs/salami-olda-stats.pdf ../paper/figs/salami-olda-stats.eps"
   ]
  },
  {
   "cell_type": "code",
   "execution_count": 11,
   "metadata": {
    "collapsed": false
   },
   "outputs": [
    {
     "data": {
      "image/png": "[encoded data removed]",
      "text/plain": [
       "<matplotlib.figure.Figure at 0x7f5a4c223450>"
      ]
     },
     "metadata": {},
     "output_type": "display_data"
    }
   ],
   "source": [
    "sns.set_style('darkgrid')\n",
    "plt.figure(figsize=(6,3))\n",
    "#sns.boxplot(scores[['T_F @ 10', 'T_F @ 15', 'T_F @ 30']], color=sns.color_palette('Greens')[3])\n",
    "sns.boxplot(scores)#, color=sns.color_palette('Greens')[3])\n",
    "#plt.ylabel('$\\mathcal{T}_F$')\n",
    "#plt.xticks([1,2,3], [10, 15, 30])\n",
    "#plt.xlabel('$w$ (seconds)')\n",
    "plt.tight_layout()\n",
    "#plt.savefig('../paper/figs/salami-olda-stats.pdf', pad_inches=0.0, bbox_inches='tight')\n",
    "#!convert ../paper/figs/salami-olda-stats.pdf ../paper/figs/salami-olda-stats.eps"
   ]
  }
 ],
 "metadata": {
  "kernelspec": {
   "display_name": "Python 2",
   "language": "python",
   "name": "python2"
  },
  "language_info": {
   "codemirror_mode": {
    "name": "ipython",
    "version": 2
   },
   "file_extension": ".py",
   "mimetype": "text/x-python",
   "name": "python",
   "nbconvert_exporter": "python",
   "pygments_lexer": "ipython2",
   "version": "2.7.8"
  }
 },
 "nbformat": 4,
 "nbformat_minor": 0
}

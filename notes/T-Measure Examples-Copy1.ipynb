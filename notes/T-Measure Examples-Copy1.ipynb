{
 "cells": [
  {
   "cell_type": "code",
   "execution_count": 1,
   "metadata": {
    "collapsed": false
   },
   "outputs": [],
   "source": [
    "#import cubehelix\n",
    "from joblib import Parallel, delayed\n",
    "import matplotlib\n",
    "import matplotlib.pyplot as plt\n",
    "from matplotlib import gridspec\n",
    "import numpy as np\n",
    "import os\n",
    "import pandas as pd\n",
    "import seaborn as sns\n",
    "\n",
    "import msaf       # Develop branch\n",
    "import mir_eval   # Uri's fork: https://github.com/urinieto/mir_eval\n",
    "#from mir_eval.segment import tree\n",
    "#import tree\n",
    "from segment_tree import tree\n",
    "import segment_tree\n",
    "mir_eval.segment = segment_tree\n",
    "\n",
    "# Beatuiful seaborn plots\n",
    "sns.set(style=\"ticks\")\n",
    "%matplotlib inline\n",
    "\n",
    "# Colorhelix config\n",
    "#cx = cubehelix.cmap(reverse=True, start=0.2, rot=-0.4, minLight=0.0, maxLight=1.0)\n",
    "\n",
    "# SALAMI Path\n",
    "#SALAMI_path = \"/home/uri/datasets/Segments/references/\""
   ]
  },
  {
   "cell_type": "code",
   "execution_count": 54,
   "metadata": {
    "collapsed": true
   },
   "outputs": [],
   "source": [
    "cx = sns.cubehelix_palette(reverse=False, start=0.2, rot=-0.4, dark=0.45, light=1.0, as_cmap=True)"
   ]
  },
  {
   "cell_type": "code",
   "execution_count": 105,
   "metadata": {
    "collapsed": true
   },
   "outputs": [],
   "source": [
    "def gen_synthetic_labels(bounds):\n",
    "    labels = []\n",
    "    [labels.append(np.random.random(len(level) - 1)) for level in bounds]\n",
    "    return labels\n",
    "\n",
    "def evaluate_flat(ref_times, est_times, w, trim=False):\n",
    "    ref_times = np.asarray(ref_times).flatten()\n",
    "    est_times = np.asarray(est_times).flatten()\n",
    "    ref_inter = np.asarray(zip(ref_times[:], ref_times[1:]))\n",
    "    est_inter = np.asarray(zip(est_times[:], est_times[1:]))\n",
    "    p, r, f = mir_eval.segment.detection(ref_inter, est_inter, trim=trim, window=w)\n",
    "    R2E, E2R = mir_eval.segment.deviation(ref_inter, est_inter, trim=trim)\n",
    "    print \"F: %.2f\\t P: %.2f\\t R: %.2f\" % (f * 100, p * 100, r * 100)\n",
    "    print \"R2E: %.2f\\t E2R: %.2f\" % (R2E, E2R)\n",
    "    return f, p, r\n",
    "\n",
    "def evaluate_hier(bounds1, bounds2, levels1=None, levels2=None, title=None, figsize=(7,3), \n",
    "                  ratios=[1,1], transitive=False, plot=True):\n",
    "    labels1 = gen_synthetic_labels(bounds1)\n",
    "    labels2 = gen_synthetic_labels(bounds2)\n",
    "    tree1 = tree.SegmentTree(bounds1, labels1, levels1)\n",
    "    tree2 = tree.SegmentTree(bounds2, labels2, levels2)\n",
    "    res = 0.1\n",
    "    for ws in [0.5, 3.0, 15, 30, None]:\n",
    "        if ws is None:\n",
    "            w = None\n",
    "        else:\n",
    "            w = int(ws / res)\n",
    "        T_o, T_u, T_f = mir_eval.segment.hmeasure(tree1, tree2, transitive=transitive, window=w, res=res)\n",
    "        if ws is None:\n",
    "            ws = np.inf\n",
    "        print \"w: %.1f\\t Tu: %.2f\\t To: %.2f\" % (ws, T_u * 100, T_o * 100)\n",
    "    if plot:\n",
    "        plt.figure(figsize=figsize)\n",
    "        gs = gridspec.GridSpec(2, 1, height_ratios=ratios) \n",
    "        plt.subplot(gs[0])\n",
    "        msaf.plotting.plot_tree(tree1, title=\"Reference\", res=None, cmap_id=cx)\n",
    "        plt.xlabel('')\n",
    "        plt.subplot(gs[1])\n",
    "        msaf.plotting.plot_tree(tree2, title=\"Estimation\", res=None, cmap_id=cx)\n",
    "        plt.tight_layout()\n",
    "\n",
    "def remove_level(bounds, levels, level_id):\n",
    "    for i, level in enumerate(levels):\n",
    "        if level_id == level:\n",
    "            bounds.pop(i)\n",
    "            levels.pop(i)\n",
    "            break"
   ]
  },
  {
   "cell_type": "code",
   "execution_count": 56,
   "metadata": {
    "collapsed": false
   },
   "outputs": [
    {
     "data": {
      "image/png": "[encoded data removed]",
      "text/plain": [
       "<matplotlib.figure.Figure at 0x7fecbb860b10>"
      ]
     },
     "metadata": {},
     "output_type": "display_data"
    }
   ],
   "source": [
    "# Synthetic example\n",
    "est_bounds = [[0, 30, 100], [0, 10, 30, 40, 80, 100], [0, 10, 25, 30, 40, 50, 80, 95, 100]]\n",
    "est_labels = gen_synthetic_labels(est_bounds)\n",
    "est_tree = tree.SegmentTree(est_bounds, est_labels)\n",
    "plt.figure(figsize=(7,2))\n",
    "msaf.plotting.plot_tree(est_tree, title=\"Hierarchical Segmentation\", res=None, cmap_id=cx)\n",
    "plt.tight_layout()\n",
    "#plt.savefig(\"../figs/hier-example.pdf\")"
   ]
  },
  {
   "cell_type": "code",
   "execution_count": 118,
   "metadata": {
    "collapsed": false
   },
   "outputs": [
    {
     "data": {
      "image/png": "[encoded data removed]",
      "text/plain": [
       "<matplotlib.figure.Figure at 0x7fecbafc4290>"
      ]
     },
     "metadata": {},
     "output_type": "display_data"
    }
   ],
   "source": [
    "# Synthetic example (2)\n",
    "orig_size = matplotlib.rcParams[\"font.size\"]\n",
    "matplotlib.rcParams[\"font.size\"] = 14.\n",
    "est_bounds = [[0, 30], [0, 10, 30], [0, 10, 25, 30]]\n",
    "est_labels = gen_synthetic_labels(est_bounds)\n",
    "est_tree = tree.SegmentTree(est_bounds, est_labels)\n",
    "plt.figure(figsize=(5,1.75))\n",
    "msaf.plotting.plot_tree(est_tree, \n",
    "                        #title=\"Hierarchical Segmentation\", \n",
    "                        res=None,\n",
    "                        cmap_id=cx)\n",
    "plt.xticks([5, 17.5, 27.5], [\"$i$\", \"$j$\", \"$k$\"])\n",
    "plt.tight_layout()\n",
    "plt.xlabel(\"Time\")\n",
    "\n",
    "# Annotate level 2\n",
    "plt.gca().text(5, 0.165, '$H(i,i)$', horizontalalignment='center', verticalalignment='center')\n",
    "plt.gca().text(17.5, 0.165, '$H(j,j)$', horizontalalignment='center', verticalalignment='center')\n",
    "plt.gca().text(27.5, 0.165, '$H(k,k)$', horizontalalignment='center', verticalalignment='center')\n",
    "#plt.gca().text(35, 0.165, '$H(m,m)$', horizontalalignment='center', verticalalignment='center')\n",
    "\n",
    "# Annotate level 1\n",
    "plt.gca().text(20, 0.5, '$H(j,k)$', horizontalalignment='center', verticalalignment='center')\n",
    "\n",
    "# Annotate level 0\n",
    "plt.gca().text(15, .845, '$H(i,k)$', horizontalalignment='center', verticalalignment='center')\n",
    "\n",
    "plt.savefig(\"../figs/hier-example.pdf\", bbox_inches='tight', pad_inches=0.01)\n",
    "matplotlib.rcParams[\"font.size\"] = orig_size"
   ]
  },
  {
   "cell_type": "code",
   "execution_count": 107,
   "metadata": {
    "collapsed": false
   },
   "outputs": [
    {
     "name": "stdout",
     "output_type": "stream",
     "text": [
      "F: 57.14\t P: 100.00\t R: 40.00\n",
      "R2E: 10.00\t E2R: 0.00\n",
      "Reduced\n",
      "w: 0.5\t Tu: 40.00\t To: 100.00\n",
      "w: 3.0\t Tu: 40.00\t To: 100.00\n",
      "w: 15.0\t Tu: 39.39\t To: 52.77\n",
      "w: 30.0\t Tu: 69.46\t To: 49.75\n",
      "w: inf\t Tu: 80.00\t To: 49.75\n",
      "Full\n",
      "w: 0.5\t Tu: 40.00\t To: 100.00\n",
      "w: 3.0\t Tu: 40.00\t To: 100.00\n",
      "w: 15.0\t Tu: 39.39\t To: 52.77\n",
      "w: 30.0\t Tu: 69.46\t To: 49.75\n",
      "w: inf\t Tu: 80.00\t To: 49.75\n"
     ]
    },
    {
     "data": {
      "image/png": "[encoded data removed]",
      "text/plain": [
       "<matplotlib.figure.Figure at 0x7fecbb46e510>"
      ]
     },
     "metadata": {},
     "output_type": "display_data"
    }
   ],
   "source": [
    "# Flat vs flat\n",
    "f1 = [[0, 10, 20, 30, 40, 50, 60]]\n",
    "f2 = [[0, 20, 40, 60]]\n",
    "f, p, r = evaluate_flat(f1, f2, 3, trim=True)\n",
    "print 'Reduced'\n",
    "evaluate_hier(f1, f2, title=\"Flat vs Flat\", figsize=(7,2.5), transitive=False)\n",
    "print 'Full'\n",
    "evaluate_hier(f1, f2, title=\"Flat vs Flat\", figsize=(7,2.5), transitive=True, plot=False)\n",
    "plt.savefig(\"../figs/flat-flat.pdf\")"
   ]
  },
  {
   "cell_type": "code",
   "execution_count": 108,
   "metadata": {
    "collapsed": false
   },
   "outputs": [
    {
     "name": "stdout",
     "output_type": "stream",
     "text": [
      "Reduced\n",
      "w: 0.5\t Tu: 0.00\t To: 100.00\n",
      "w: 3.0\t Tu: 0.00\t To: 100.00\n",
      "w: 15.0\t Tu: 37.21\t To: 100.00\n",
      "w: 30.0\t Tu: 69.66\t To: 100.00\n",
      "w: inf\t Tu: 80.16\t To: 100.00\n",
      "Full\n",
      "w: 0.5\t Tu: 40.00\t To: 100.00\n",
      "w: 3.0\t Tu: 40.00\t To: 100.00\n",
      "w: 15.0\t Tu: 51.01\t To: 100.00\n",
      "w: 30.0\t Tu: 81.76\t To: 100.00\n",
      "w: inf\t Tu: 88.94\t To: 100.00\n"
     ]
    },
    {
     "data": {
      "image/png": "[encoded data removed]",
      "text/plain": [
       "<matplotlib.figure.Figure at 0x7fecbb1c9f50>"
      ]
     },
     "metadata": {},
     "output_type": "display_data"
    }
   ],
   "source": [
    "#Hierarchical vs Flat Large Scale\n",
    "h1 = [[0, 20, 40, 60], [0, 10, 20, 30, 40, 50, 60]]\n",
    "f2 = [[0, 20, 40, 60]]\n",
    "print 'Reduced'\n",
    "evaluate_hier(h1, f2, title=\"Hierarchical vs Flat Large Scale\", figsize=(7,2.5), transitive=False)\n",
    "print 'Full'\n",
    "evaluate_hier(h1, f2, title=\"Hierarchical vs Flat Large Scale\", figsize=(7,2.5), transitive=True, plot=False)\n",
    "plt.savefig(\"../figs/hier-flatlarge.pdf\")"
   ]
  },
  {
   "cell_type": "code",
   "execution_count": 116,
   "metadata": {
    "collapsed": false
   },
   "outputs": [
    {
     "name": "stdout",
     "output_type": "stream",
     "text": [
      "Reduced\n",
      "w: 0.5\t Tu: 66.67\t To: 100.00\n",
      "w: 3.0\t Tu: 66.67\t To: 100.00\n",
      "w: 15.0\t Tu: 48.90\t To: 73.03\n",
      "w: 30.0\t Tu: 34.00\t To: 59.48\n",
      "w: inf\t Tu: 26.59\t To: 58.23\n",
      "Full\n",
      "w: 0.5\t Tu: 40.00\t To: 100.00\n",
      "w: 3.0\t Tu: 40.00\t To: 100.00\n",
      "w: 15.0\t Tu: 44.16\t To: 73.03\n",
      "w: 30.0\t Tu: 38.83\t To: 59.48\n",
      "w: inf\t Tu: 40.63\t To: 58.23\n"
     ]
    },
    {
     "data": {
      "image/png": "[encoded data removed]",
      "text/plain": [
       "<matplotlib.figure.Figure at 0x7fecbb2a9c90>"
      ]
     },
     "metadata": {},
     "output_type": "display_data"
    }
   ],
   "source": [
    "#Hierarchical vs Flat Large Scale\n",
    "h1 = [[0, 20, 40, 60], [0, 10, 20, 30, 40, 50, 60]]\n",
    "f2 = [[0, 10, 50, 60]]\n",
    "print 'Reduced'\n",
    "evaluate_hier(h1, f2, title=\"Hierarchical vs Flat Large Scale\", figsize=(7,2.5), transitive=False)\n",
    "print 'Full'\n",
    "evaluate_hier(h1, f2, title=\"Hierarchical vs Flat Large Scale\", figsize=(7,2.5), transitive=True, plot=False)\n",
    "#plt.savefig(\"../figs/hier-flatlarge.pdf\")"
   ]
  },
  {
   "cell_type": "code",
   "execution_count": 119,
   "metadata": {
    "collapsed": false
   },
   "outputs": [
    {
     "name": "stdout",
     "output_type": "stream",
     "text": [
      "Reduced\n",
      "w: 0.5\t Tu: 0.00\t To: 100.00\n",
      "w: 3.0\t Tu: 0.00\t To: 100.00\n",
      "w: 15.0\t Tu: 18.60\t To: 93.71\n",
      "w: 30.0\t Tu: 37.10\t To: 71.46\n",
      "w: inf\t Tu: 53.44\t To: 66.58\n",
      "Full\n",
      "w: 0.5\t Tu: 20.00\t To: 100.00\n",
      "w: 3.0\t Tu: 20.00\t To: 100.00\n",
      "w: 15.0\t Tu: 25.51\t To: 93.71\n",
      "w: 30.0\t Tu: 43.50\t To: 71.46\n",
      "w: inf\t Tu: 59.29\t To: 66.58\n"
     ]
    },
    {
     "data": {
      "image/png": "[encoded data removed]",
      "text/plain": [
       "<matplotlib.figure.Figure at 0x7fecbae3b150>"
      ]
     },
     "metadata": {},
     "output_type": "display_data"
    }
   ],
   "source": [
    "#Hierarchical vs Flat Larger Scale\n",
    "h1 = [[0, 20, 40, 60], [0, 10, 20, 30, 40, 50, 60]]\n",
    "f2 = [[0, 40, 60]]\n",
    "print 'Reduced'\n",
    "evaluate_hier(h1, f2, title=\"Hierarchical vs Flat Large Scale\", figsize=(7,2.5), transitive=False)\n",
    "print 'Full'\n",
    "evaluate_hier(h1, f2, title=\"Hierarchical vs Flat Large Scale\", figsize=(7,2.5), transitive=True, plot=False)\n",
    "plt.tight_layout()\n",
    "plt.savefig(\"../figs/hier-flatlarger.pdf\")"
   ]
  },
  {
   "cell_type": "code",
   "execution_count": 110,
   "metadata": {
    "collapsed": false
   },
   "outputs": [
    {
     "name": "stdout",
     "output_type": "stream",
     "text": [
      "Reduced\n",
      "w: 0.5\t Tu: 100.00\t To: 100.00\n",
      "w: 3.0\t Tu: 100.00\t To: 100.00\n",
      "w: 15.0\t Tu: 62.79\t To: 100.00\n",
      "w: 30.0\t Tu: 30.34\t To: 100.00\n",
      "w: inf\t Tu: 19.84\t To: 100.00\n",
      "Full\n",
      "w: 0.5\t Tu: 100.00\t To: 100.00\n",
      "w: 3.0\t Tu: 100.00\t To: 100.00\n",
      "w: 15.0\t Tu: 76.31\t To: 100.00\n",
      "w: 30.0\t Tu: 58.91\t To: 100.00\n",
      "w: inf\t Tu: 55.31\t To: 100.00\n"
     ]
    },
    {
     "data": {
      "image/png": "[encoded data removed]",
      "text/plain": [
       "<matplotlib.figure.Figure at 0x7fecbbb2e990>"
      ]
     },
     "metadata": {},
     "output_type": "display_data"
    }
   ],
   "source": [
    "# Hierarchical vs Flat Small Scale\n",
    "h1 = [[0, 20, 40, 60], [0, 10, 20, 30, 40, 50, 60]]\n",
    "f2 = [[0, 10, 20, 30, 40, 50, 60]]\n",
    "print 'Reduced'\n",
    "evaluate_hier(h1, f2, title=\"Hierarchical vs Flat Small Scale\", figsize=(7,2.5), transitive=False)\n",
    "print 'Full'\n",
    "evaluate_hier(h1, f2, title=\"Hierarchical vs Flat Small Scale\", figsize=(7,2.5), transitive=True, plot=False)\n",
    "plt.savefig(\"../figs/hier-flatsmall.pdf\")"
   ]
  },
  {
   "cell_type": "code",
   "execution_count": 111,
   "metadata": {
    "collapsed": false
   },
   "outputs": [
    {
     "name": "stdout",
     "output_type": "stream",
     "text": [
      "Reduced\n",
      "w: 0.5\t Tu: 100.00\t To: 55.56\n",
      "w: 3.0\t Tu: 98.16\t To: 56.43\n",
      "w: 15.0\t Tu: 46.31\t To: 86.28\n",
      "w: 30.0\t Tu: 21.80\t To: 92.47\n",
      "w: inf\t Tu: 13.16\t To: 93.94\n",
      "Full\n",
      "w: 0.5\t Tu: 100.00\t To: 55.56\n",
      "w: 3.0\t Tu: 97.79\t To: 56.43\n",
      "w: 15.0\t Tu: 53.30\t To: 86.28\n",
      "w: 30.0\t Tu: 39.69\t To: 92.47\n",
      "w: inf\t Tu: 36.69\t To: 93.94\n"
     ]
    },
    {
     "data": {
      "image/png": "[encoded data removed]",
      "text/plain": [
       "<matplotlib.figure.Figure at 0x7fecbba96c10>"
      ]
     },
     "metadata": {},
     "output_type": "display_data"
    }
   ],
   "source": [
    "# Hierarchical vs Flat Smaller Scale\n",
    "h1 = [[0, 20, 40, 60], [0, 10, 20, 30, 40, 50, 60]]\n",
    "f2 = [[0, 10, 15, 20, 25, 30, 35, 40, 45, 50, 60]]\n",
    "print 'Reduced'\n",
    "evaluate_hier(h1, f2, title=\"Hierarchical vs Flat Small Scale\", figsize=(7,2.5), transitive=False)\n",
    "print 'Full'\n",
    "evaluate_hier(h1, f2, title=\"Hierarchical vs Flat Small Scale\", figsize=(7,2.5), plot=False, transitive=True)\n",
    "plt.savefig(\"../figs/hier-flatsmaller.pdf\")"
   ]
  },
  {
   "cell_type": "code",
   "execution_count": 112,
   "metadata": {
    "collapsed": false
   },
   "outputs": [
    {
     "name": "stdout",
     "output_type": "stream",
     "text": [
      "Reduced\n",
      "w: 0.5\t Tu: 100.00\t To: 100.00\n",
      "w: 3.0\t Tu: 100.00\t To: 100.00\n",
      "w: 15.0\t Tu: 100.00\t To: 98.32\n",
      "w: 30.0\t Tu: 100.00\t To: 78.81\n",
      "w: inf\t Tu: 100.00\t To: 61.85\n",
      "Full\n",
      "w: 0.5\t Tu: 100.00\t To: 100.00\n",
      "w: 3.0\t Tu: 100.00\t To: 100.00\n",
      "w: 15.0\t Tu: 100.00\t To: 99.13\n",
      "w: 30.0\t Tu: 100.00\t To: 88.75\n",
      "w: inf\t Tu: 100.00\t To: 79.41\n"
     ]
    },
    {
     "data": {
      "image/png": "[encoded data removed]",
      "text/plain": [
       "<matplotlib.figure.Figure at 0x7fecbaed1d90>"
      ]
     },
     "metadata": {},
     "output_type": "display_data"
    }
   ],
   "source": [
    "# Hierarchical vs Hierarchical\n",
    "h1 = [[0, 20, 40, 60], [0, 10, 20, 30, 40, 50, 60]]\n",
    "h2 = [[0, 40, 60], [0, 20, 40, 60], [0, 10, 20, 30, 40, 50, 60]]\n",
    "print 'Reduced'\n",
    "evaluate_hier(h1, h2, title=\"Hierarchical vs Hierarchical\", figsize=(7,3), transitive=False)\n",
    "print 'Full'\n",
    "evaluate_hier(h1, h2, title=\"Hierarchical vs Hierarchical\", figsize=(7,3), plot=False, transitive=True)\n",
    "plt.savefig(\"../figs/hier-hiercomp.pdf\")"
   ]
  },
  {
   "cell_type": "code",
   "execution_count": 91,
   "metadata": {
    "collapsed": false
   },
   "outputs": [
    {
     "data": {
      "text/plain": [
       "<module 'segment_tree' from 'segment_tree.py'>"
      ]
     },
     "execution_count": 91,
     "metadata": {},
     "output_type": "execute_result"
    }
   ],
   "source": [
    "reload(segment_tree)"
   ]
  },
  {
   "cell_type": "code",
   "execution_count": 113,
   "metadata": {
    "collapsed": false
   },
   "outputs": [
    {
     "name": "stdout",
     "output_type": "stream",
     "text": [
      "Reduced\n",
      "w: 0.5\t Tu: 76.30\t To: 76.57\n",
      "w: 3.0\t Tu: 95.03\t To: 94.57\n",
      "w: 15.0\t Tu: 75.42\t To: 74.84\n",
      "w: 30.0\t Tu: 61.76\t To: 82.64\n",
      "w: inf\t Tu: 56.55\t To: 95.57\n",
      "Full\n",
      "w: 0.5\t Tu: 81.12\t To: 78.64\n",
      "w: 3.0\t Tu: 96.08\t To: 93.02\n",
      "w: 15.0\t Tu: 80.27\t To: 83.79\n",
      "w: 30.0\t Tu: 70.53\t To: 89.01\n",
      "w: inf\t Tu: 67.50\t To: 97.51\n"
     ]
    },
    {
     "data": {
      "image/png": "[encoded data removed]",
      "text/plain": [
       "<matplotlib.figure.Figure at 0x7fecbb198550>"
      ]
     },
     "metadata": {},
     "output_type": "display_data"
    }
   ],
   "source": [
    "jams_file = \"SALAMI_636.jams\"\n",
    "hier_bounds1, hier_labels1, hier_levels1 = msaf.io.read_hier_references('../test/' + jams_file, annotation_id=0)\n",
    "hier_bounds2, hier_labels2, hier_levels2 = msaf.io.read_hier_references('../test/' + jams_file, annotation_id=1)\n",
    "\n",
    "# Remove the function level\n",
    "hier_levels1 = list(hier_levels1)\n",
    "hier_levels2 = list(hier_levels2)\n",
    "remove_level(hier_bounds1, hier_levels1, \"function\")\n",
    "remove_level(hier_bounds2, hier_levels2, \"function\")\n",
    "\n",
    "# Evaluate\n",
    "print 'Reduced'\n",
    "evaluate_hier(hier_bounds1, hier_bounds2, hier_levels1, hier_levels2, title=\"SALAMI vs SALAMI\", figsize=(7,3), transitive=False)\n",
    "print 'Full'\n",
    "evaluate_hier(hier_bounds1, hier_bounds2, hier_levels1, hier_levels2, title=\"SALAMI vs SALAMI\", figsize=(7,3), transitive=True, plot=False)\n",
    "plt.savefig(\"../figs/SALAMI-SALAMI.pdf\")"
   ]
  },
  {
   "cell_type": "code",
   "execution_count": 114,
   "metadata": {
    "collapsed": false
   },
   "outputs": [
    {
     "name": "stdout",
     "output_type": "stream",
     "text": [
      "Reduced\n",
      "w: 0.5\t Tu: 14.28\t To: 100.00\n",
      "w: 3.0\t Tu: 19.85\t To: 99.91\n",
      "w: 15.0\t Tu: 61.63\t To: 56.13\n",
      "w: 30.0\t Tu: 76.14\t To: 53.12\n",
      "w: inf\t Tu: 90.29\t To: 16.39\n",
      "Full\n",
      "w: 0.5\t Tu: 27.72\t To: 54.54\n",
      "w: 3.0\t Tu: 33.97\t To: 71.80\n",
      "w: 15.0\t Tu: 66.25\t To: 70.21\n",
      "w: 30.0\t Tu: 79.87\t To: 58.09\n",
      "w: inf\t Tu: 92.73\t To: 41.99\n"
     ]
    },
    {
     "data": {
      "image/png": "[encoded data removed]",
      "text/plain": [
       "<matplotlib.figure.Figure at 0x7fecbb04b050>"
      ]
     },
     "metadata": {},
     "output_type": "display_data"
    }
   ],
   "source": [
    "jams_file = \"SALAMI_636.jams\"\n",
    "olda_file = \"SALAMI_636_OLDA.jams\"\n",
    "hier_bounds1, hier_labels1, hier_levels1 = msaf.io.read_hier_references('../test/' +  jams_file)\n",
    "hier_bounds2, hier_labels2, hier_levels2 = msaf.io.read_hier_references('../test/' + olda_file)\n",
    "\n",
    "# Remove the function level from SALAMI\n",
    "hier_levels1 = list(hier_levels1)\n",
    "remove_level(hier_bounds1, hier_levels1, \"function\")\n",
    "\n",
    "# Evaluate\n",
    "print 'Reduced'\n",
    "evaluate_hier(hier_bounds1, hier_bounds2, hier_levels1, hier_levels2, title=\"SALAMI vs OLDA\", figsize=(7,5), ratios=[1,3],\n",
    "             transitive=False)\n",
    "print 'Full'\n",
    "evaluate_hier(hier_bounds1, hier_bounds2, hier_levels1, hier_levels2, title=\"SALAMI vs OLDA\", figsize=(7,5), ratios=[1,3],\n",
    "             transitive=True, plot=False)\n",
    "plt.savefig(\"../figs/SALAMI-OLDA.pdf\")"
   ]
  },
  {
   "cell_type": "code",
   "execution_count": null,
   "metadata": {
    "collapsed": false
   },
   "outputs": [],
   "source": [
    "# Automatically set w\n",
    "def analyze_salami(salami_file, windows):\n",
    "    # Read annotations\n",
    "    try:\n",
    "        bounds1, labels1, levels1 = msaf.io.read_hier_references(salami_file.ref_file, annotation_id=0)\n",
    "        bounds2, labels2, levels2 = msaf.io.read_hier_references(salami_file.ref_file, annotation_id=1)\n",
    "\n",
    "        # Convert to tree\n",
    "        labels1 = gen_synthetic_labels(bounds1)\n",
    "        labels2 = gen_synthetic_labels(bounds2)\n",
    "        tree1 = tree.SegmentTree(bounds1, labels1, levels1)\n",
    "        tree2 = tree.SegmentTree(bounds2, labels2, levels2)\n",
    "\n",
    "        # Evaluate\n",
    "        print \"Evaluating %s...\" % salami_file.ref_file\n",
    "        res = 0.1\n",
    "        results = {}\n",
    "        results[\"file\"] = os.path.basename(salami_file.ref_file)\n",
    "        for ws in windows:\n",
    "            if ws is None:\n",
    "                w = None\n",
    "            else:\n",
    "                w = int(ws / res)\n",
    "            T_o, T_u, T_f = mir_eval.segment.hmeasure(tree1, tree2, transitive=True, window=w, res=res)\n",
    "            if ws is None:\n",
    "                ws = np.inf\n",
    "            results[\"Tf_\" + str(ws)] = T_f\n",
    "            results[\"To_\" + str(ws)] = T_o\n",
    "            results[\"Tu_\" + str(ws)] = T_u\n",
    "    except:\n",
    "        return []\n",
    "    \n",
    "    return results\n",
    "\n",
    "n_jobs = 8\n",
    "salami_files = msaf.io.get_dataset_files(\"/home/uri/datasets/Segments/\", ds_name=\"SALAMI\")\n",
    "windows = [0.5, 3, 5, 10, 15, 20, 25, 30, 35, 40, 45, 50, 55, 60]\n",
    "\n",
    "# Run in parallel\n",
    "raw_results = Parallel(n_jobs=n_jobs)(delayed(analyze_salami)(salami_file, windows) \n",
    "                                      for salami_file in salami_files[:])\n",
    "\n",
    "# Aggregate results in pandas format\n",
    "results = pd.DataFrame()\n",
    "for r in raw_results:\n",
    "    if r != []:\n",
    "        results = results.append(r, ignore_index=True)"
   ]
  },
  {
   "cell_type": "code",
   "execution_count": 205,
   "metadata": {
    "collapsed": false
   },
   "outputs": [
    {
     "name": "stdout",
     "output_type": "stream",
     "text": [
      "411\n",
      "769\n",
      "Tf_0.5    0.486640\n",
      "Tf_10     0.759037\n",
      "Tf_15     0.774423\n",
      "Tf_20     0.779053\n",
      "Tf_25     0.780000\n",
      "Tf_3      0.680829\n",
      "Tf_30     0.779803\n",
      "Tf_35     0.779188\n",
      "Tf_40     0.778604\n",
      "Tf_45     0.778144\n",
      "Tf_5      0.717872\n",
      "Tf_50     0.777820\n",
      "Tf_55     0.777534\n",
      "Tf_60     0.777178\n",
      "To_0.5    0.499783\n",
      "To_10     0.769224\n",
      "To_15     0.781245\n",
      "To_20     0.784930\n",
      "To_25     0.786159\n",
      "To_3      0.702033\n",
      "To_30     0.786876\n",
      "To_35     0.787605\n",
      "To_40     0.788528\n",
      "To_45     0.789533\n",
      "To_5      0.735033\n",
      "To_50     0.790664\n",
      "To_55     0.791844\n",
      "To_60     0.792967\n",
      "Tu_0.5    0.520520\n",
      "Tu_10     0.765296\n",
      "Tu_15     0.780431\n",
      "Tu_20     0.785594\n",
      "Tu_25     0.786465\n",
      "Tu_3      0.716995\n",
      "Tu_30     0.785849\n",
      "Tu_35     0.784651\n",
      "Tu_40     0.783508\n",
      "Tu_45     0.782631\n",
      "Tu_5      0.738901\n",
      "Tu_50     0.782004\n",
      "Tu_55     0.781489\n",
      "Tu_60     0.780940\n",
      "dtype: float64\n",
      "[ 0.48664029  0.75903677  0.77442256  0.77905268  0.78000027  0.68082947\n",
      "  0.77980264  0.77918792  0.77860375  0.77814435  0.71787202  0.77781964\n",
      "  0.77753406  0.77717769  0.49978294  0.76922384  0.78124531  0.78492957\n",
      "  0.78615874  0.70203264  0.78687634  0.78760472  0.78852794  0.78953316\n",
      "  0.73503286  0.79066376  0.79184401  0.79296717  0.52052003  0.76529574\n",
      "  0.78043134  0.78559419  0.7864646   0.71699525  0.78584928  0.7846512\n",
      "  0.78350759  0.782631    0.73890057  0.78200366  0.78148914  0.78093974]\n",
      "Index([u'Tf_0.5', u'Tf_10', u'Tf_15', u'Tf_20', u'Tf_25', u'Tf_3', u'Tf_30', u'Tf_35', u'Tf_40', u'Tf_45', u'Tf_5', u'Tf_50', u'Tf_55', u'Tf_60', u'To_0.5', u'To_10', u'To_15', u'To_20', u'To_25', u'To_3', u'To_30', u'To_35', u'To_40', u'To_45', u'To_5', u'To_50', u'To_55', u'To_60', u'Tu_0.5', u'Tu_10', u'Tu_15', u'Tu_20', u'Tu_25', u'Tu_3', u'Tu_30', u'Tu_35', u'Tu_40', u'Tu_45', u'Tu_5', u'Tu_50', u'Tu_55', u'Tu_60'], dtype='object')\n"
     ]
    }
   ],
   "source": [
    "print len(results)\n",
    "print len(salami_files)\n",
    "print results.mean()\n",
    "print results.mean().values\n",
    "print results.mean().keys()"
   ]
  },
  {
   "cell_type": "code",
   "execution_count": 206,
   "metadata": {
    "collapsed": true
   },
   "outputs": [],
   "source": [
    "results.to_csv(\"searching_w.csv\")"
   ]
  },
  {
   "cell_type": "code",
   "execution_count": 229,
   "metadata": {
    "collapsed": false
   },
   "outputs": [
    {
     "data": {
      "image/png": "[encoded data removed]",
      "text/plain": [
       "<matplotlib.figure.Figure at 0x7f53e9481b90>"
      ]
     },
     "metadata": {},
     "output_type": "display_data"
    }
   ],
   "source": [
    "plt.figure(figsize=(6,3))\n",
    "Tf_keys = [\"Tf_\" + str(w) for w in windows]\n",
    "To_keys = [\"To_\" + str(w) for w in windows]\n",
    "Tu_keys = [\"Tu_\" + str(w) for w in windows]\n",
    "plt.plot(windows, results[Tf_keys].mean().values, label=\"$T_f = \\frac{2T_u T_o}{T_u + T_o}$\")\n",
    "plt.plot(windows, results[To_keys].mean().values, label=\"$T_o$\")\n",
    "plt.plot(windows, results[Tu_keys].mean().values, label=\"$T_u$\")\n",
    "plt.plot(windows[np.argmax(results[Tf_keys].mean().values)], \n",
    "         np.max(results[Tf_keys].mean().values), 'rD')\n",
    "plt.ylim((0.4,1))\n",
    "plt.legend(loc='lower right')\n",
    "plt.xlabel(\"Window size (seconds)\")\n",
    "plt.ylabel(\"$T$-measures\")\n",
    "sns.despine()\n",
    "plt.tight_layout()\n",
    "plt.savefig(\"../figs/exploring_w.pdf\")"
   ]
  },
  {
   "cell_type": "code",
   "execution_count": null,
   "metadata": {
    "collapsed": true
   },
   "outputs": [],
   "source": []
  },
  {
   "cell_type": "markdown",
   "metadata": {},
   "source": []
  }
 ],
 "metadata": {
  "kernelspec": {
   "display_name": "Python 2",
   "language": "python",
   "name": "python2"
  },
  "language_info": {
   "codemirror_mode": {
    "name": "ipython",
    "version": 2
   },
   "file_extension": ".py",
   "mimetype": "text/x-python",
   "name": "python",
   "nbconvert_exporter": "python",
   "pygments_lexer": "ipython2",
   "version": "2.7.8"
  }
 },
 "nbformat": 4,
 "nbformat_minor": 0
}

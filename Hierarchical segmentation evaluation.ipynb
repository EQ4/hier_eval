{
 "metadata": {
  "name": "",
  "signature": "sha256:9e394bee4f871e8d2a3c87a261a453f8a6020b8c6a6af215442b5f6fe2043333"
 },
 "nbformat": 3,
 "nbformat_minor": 0,
 "worksheets": [
  {
   "cells": [
    {
     "cell_type": "markdown",
     "metadata": {},
     "source": [
      "# Intro: Music segmentation\n",
      "\n",
      "Let $X \\in \\mathbb{R}^{d\\times t}$ denote a time series of feature data, where $d$ denotes the dimension of features, and $t$ is a time index at some fixed resolution (say, 10Hz).  Existing approaches to music segmentation suppose that there is a single partitioning into $m$ temporally contiguous regions, so that $X=[X_0|X_1|\\cdots|X_m]$.\n",
      "\n",
      "Instead, we will suppose that $X$ can be hierarchically decomposed into a tree structure.  In this view, we have segmentations at multiple resolutions or levels of granularity.  The question now is how to evaluate with or against tree-structured segmentation.\n",
      "\n",
      "## Notation\n",
      "\n",
      "Let $S \\in \\mathcal{P}(X)$ denote a partitioning of the columns of $X$.  We will use the subscripts $S_R$ and $S_E$ to denote *reference* and *estimation*, respectively.  $S(i)$ will denote the identifier of the partition containing item $i$.\n",
      "\n",
      "Hierarchical segmentations will be denoted by $H$ following the subscript conventions above, and the restriction that $H(i)$ denotes the most specific segment containing $i$.  \n",
      "\n",
      "$H(i, j)$ will denote the least common ancestor of $H(i)$ and $H(j)$.  We will denote precedence (containment) of segments by $\\prec$ and $\\preceq$ e.g., $H(i) \\preceq H(i, j)$.  In general, we can interpret $H(\\cdot, \\cdot)$ as a partial order over pairs: not all pairs are comparable, e.g., if $H(a) = H(b)$.  Restricting to a query frame $q$, $H(q, \\cdot)$ induces a partial ranking over the remaining data, in that for all $i, j$.  This will be the key to our evaluation.\n",
      "\n",
      "\n",
      "# Reduction to ranking\n",
      "\n",
      "Observe that flat segmentations are a special case of hierarchical segmentations, where there is one node at the root of the hierarchy containing all frames, and then $m$ segments at the next level down which partition $X$.\n",
      "\n",
      "We can reduce segmentation evaluation to a ranking evaluation problem as follows.  Let $q$ denote any frame/column of $X$, and let $i$ and $j$ denote any two frames such that $S_R(q) = S_R(i)$ and $S_R(q) \\neq S_R(j)$.  In this case, $i$ may be considered *relevant* for $q$, and $j$ is considered *irrelevant* for $q$.  This leads to a straightforward reduction to bipartite ranking, and induces an AUC-style evaluation:\n",
      "\n",
      "$$\n",
      "f(q ; S_E) := \\frac{1}{|S_R(q)|\\cdot (n - |S_R(q)|)} \\sum_{i \\in S_R(q)} \\sum_{j \\notin S_R(q)}  \\mathbb{I}\\left[ S_E(q) = S_E(i) \\neq S_E(j) \\right]\n",
      "$$\n",
      "\n",
      "That is, the score for frame $q$ is the fraction of pairs $(i, j)$ for which $S_E$ agrees with $S_R$ about relevants with respect to $q$ (i.e., membership in the segment).\n",
      "\n",
      "Averaging over all $q$ gives the AUC score\n",
      "\n",
      "$$\n",
      "AUC(S_E) := \\frac{1}{n} \\sum_q f(q ; S_E)\n",
      "$$\n",
      "\n",
      "## Partial ranking\n",
      "\n",
      "Note that $f$ is defined in terms of membership (in)equalities.  In the flat case, we can equivalently reason about strict precedences.  Rather than compare $i$ and $j$ where $S(q) = S(i) \\neq S(j)$, we can express this as $H(q, i) \\prec H(q, j)$.  That is, $q$ and $i$ merge before $q$ and $j$:\n",
      "\n",
      "$$\n",
      "g(q ; H_E) := \\frac{1}{Z_q} \\sum_{i,j : H_R(q, i) \\prec H_R(q, j)}  \\mathbb{I}\\left[ H_E(q, i) \\prec H_E(q, j) \\right]\n",
      "$$\n",
      "where $Z_q$ is a normalization term that counts the number of terms in the summation.\n",
      "\n",
      "$g$ can be viewed as a generalized AUC over the partial ranking induced by the hierarchical segmentation.  Note that the precedence comparisons here are strict, so we never compare two $i$ and $j$ that merge simultaneously with $q$.\n",
      "\n",
      "Aggregating over all frames $q$, we get the following *generalized AUC*:\n",
      "\n",
      "$$\n",
      "GAUC(H_E) := \\frac{1}{n} \\sum_q g(q ; S_E)\n",
      "$$\n",
      "\n",
      "Note, this loss is equivalent to that evaluated by (McFee & Lanckriet, 2011) for subjective artist similarity.  The difference here is that the reference rankings are induced from ordinal data, and not subject to consistency errors.\n",
      "\n",
      "# Extensions\n",
      "\n",
      "The general approach described above can be adapted in various ways to suit different needs.\n",
      "\n",
      "## Transitivity\n",
      "For instance, it may be advantageous to only compare $i$ and $j$ only when $H(q, j)$ is the parent of $H(q, i)$.  This amounts to evaluating the *transitive reduction* of the partial ranking $H(q, \\cdot)$, and the net effect is that redundant comparisons which would be implied via transitivity cannot inflate the score.\n",
      "\n",
      "This can be implemented easily by altering the reference summation.  Instead of comparing all $i, j$ where $H(q, i) \\prec H(q, j)$, we only count terms where $H(q, i) = 1 + H(q, j)$.\n",
      "\n",
      "## Gain\n",
      "Another extension would be to apply a *gain* correction to each level in the hierarchy, so that comparisons spanning greater distances in the tree contribute less to the score.  This would be analogous to the *normalized discounted cumulative gain* metric for information retrieval, which discounts contributions far down the ranking where users are less likely to click.  Typically, in ranking, a cutoff parameter $k$ is introduced so that results at positions beyond $k$ do not contribute to the score.  \n",
      "\n",
      "In segment eval, gain and cutoff parameters would amount to discounting and/or lower-bounding the depth of comparisons.  One may expect that near the root of the hierarchy, there is so little information that it would be meaningless to include comparisons (or give them much weight).\n"
     ]
    },
    {
     "cell_type": "code",
     "collapsed": false,
     "input": [
      "%cd ~/git/hier_eval/"
     ],
     "language": "python",
     "metadata": {},
     "outputs": [
      {
       "output_type": "stream",
       "stream": "stdout",
       "text": [
        "/home/bmcfee/git/hier_eval\n"
       ]
      }
     ],
     "prompt_number": 3
    },
    {
     "cell_type": "code",
     "collapsed": false,
     "input": [
      "import os\n",
      "import sys\n",
      "import mir_eval\n",
      "import numpy as np\n",
      "\n",
      "# And the tree module\n",
      "import tree"
     ],
     "language": "python",
     "metadata": {},
     "outputs": [],
     "prompt_number": 4
    },
    {
     "cell_type": "code",
     "collapsed": false,
     "input": [
      "import matplotlib.pyplot as plt\n",
      "%matplotlib inline"
     ],
     "language": "python",
     "metadata": {},
     "outputs": [],
     "prompt_number": 9
    },
    {
     "cell_type": "code",
     "collapsed": false,
     "input": [
      "def round_time(t, res=0.1):\n",
      "    v = int(t / float(res)) * res\n",
      "    return v\n",
      "\n",
      "def lca_matrix(tree, res=0.1):\n",
      "    '''\n",
      "    Input: a segment tree\n",
      "    Output: an n-by-n integer matrix indicating the height of the least common ancestor of each pair of frames (i, j)\n",
      "    '''\n",
      "    \n",
      "    # Figure out how many frames we need\n",
      "    n = int((round_time(tree.root.segment.end, res=res) - round_time(tree.root.segment.start, res=res) ) / res)\n",
      "    \n",
      "    # Build a mapping of level->height\n",
      "    height_map = {}\n",
      "    \n",
      "    # Initialize the LCA matrix\n",
      "    H = np.zeros( (n, n), dtype=np.uint8)\n",
      "    \n",
      "    # Breadth-first traversal of the tree\n",
      "    queue = [tree.root]\n",
      "    while queue:\n",
      "        node = queue.pop(0)\n",
      "        \n",
      "        # Get the node's level\n",
      "        if node.parent is not None:\n",
      "            height_map[node] = 1 + height_map[node.parent]\n",
      "        else:\n",
      "            height_map[node] = 0\n",
      "        \n",
      "        s = int(round_time(node.segment.start, res=res) / res)\n",
      "        t = int(round_time(node.segment.end, res=res) / res)\n",
      "        \n",
      "        H[s:t, s:t] = height_map[node]\n",
      "        \n",
      "        queue.extend(node.children)\n",
      "\n",
      "    return H\n",
      "\n",
      "def tree_gauc(T_ref, T_est, res=0.1, window=None, transitive=False):\n",
      "    \n",
      "    # First, build the LCA matrices\n",
      "    H_ref = lca_matrix(T_ref, res=res)\n",
      "    H_est = lca_matrix(T_est, res=res)\n",
      "    \n",
      "    # Make sure we have the right number of frames\n",
      "    assert H_ref.shape == H_est.shape\n",
      "    \n",
      "    # How many frames?\n",
      "    n = H_ref.shape[0]\n",
      "    \n",
      "    # By default, the window covers the entire track\n",
      "    if window is None:\n",
      "        window = n\n",
      "    \n",
      "    # Initialize the score\n",
      "    score = 0.0\n",
      "    \n",
      "    # Iterate over query frames\n",
      "    n_f = 0\n",
      "    \n",
      "    for q in range(n):\n",
      "        \n",
      "        if q % 100 == 0:\n",
      "            import pdb; pdb.set_trace()\n",
      "        \n",
      "        # Find all pairs i,j such that H_ref[q, i] > H_ref[q, j]\n",
      "        R = H_ref[q, max(0, q-window):min(n, q+window)]\n",
      "        \n",
      "        # And the same for the estimation\n",
      "        E = H_est[q, max(0, q-window):min(n, q+window)]\n",
      "        \n",
      "        if transitive:\n",
      "            # Transitive: count comparisons across any level\n",
      "            S_ref = np.greater.outer(R, R)\n",
      "        else:\n",
      "            # Non-transitive: count comparisons only across immediate levels\n",
      "            S_ref = np.equal.outer(R, R+1)\n",
      "            \n",
      "            \n",
      "        S_est = np.greater.outer(E, E)\n",
      "        \n",
      "        # Don't count (q,q) as a result\n",
      "        idx = min(q, window)\n",
      "        S_ref[idx, :] = False\n",
      "        S_ref[:, idx] = False\n",
      "        \n",
      "        \n",
      "        # Compute normalization constant\n",
      "        Z = float(S_ref.sum())\n",
      "        \n",
      "        # Add up agreement for frames\n",
      "        if Z > 0:\n",
      "            score += np.sum(np.logical_and(S_ref, S_est)) / Z\n",
      "            n_f += 1.0\n",
      "    \n",
      "    \n",
      "    if n_f:\n",
      "        return score / n_f\n",
      "    \n",
      "    # Convention: 0/0 = 0\n",
      "    return score"
     ],
     "language": "python",
     "metadata": {},
     "outputs": [],
     "prompt_number": 45
    },
    {
     "cell_type": "code",
     "collapsed": false,
     "input": [
      "np.equal.outer(np.arange(3, 6) + 1 , np.arange(4, 10))"
     ],
     "language": "python",
     "metadata": {},
     "outputs": [
      {
       "metadata": {},
       "output_type": "pyout",
       "prompt_number": 42,
       "text": [
        "array([[ True, False, False, False, False, False],\n",
        "       [False,  True, False, False, False, False],\n",
        "       [False, False,  True, False, False, False]], dtype=bool)"
       ]
      }
     ],
     "prompt_number": 42
    },
    {
     "cell_type": "code",
     "collapsed": false,
     "input": [
      "np.equal.outer(np.arange(3, 6), np.arange(4, 10) + 1)"
     ],
     "language": "python",
     "metadata": {},
     "outputs": [
      {
       "metadata": {},
       "output_type": "pyout",
       "prompt_number": 41,
       "text": [
        "array([[False, False, False, False, False, False],\n",
        "       [False, False, False, False, False, False],\n",
        "       [ True, False, False, False, False, False]], dtype=bool)"
       ]
      }
     ],
     "prompt_number": 41
    },
    {
     "cell_type": "code",
     "collapsed": false,
     "input": [
      "np.greater.outer(np.arange(3, 6), np.arange(4, 10))"
     ],
     "language": "python",
     "metadata": {},
     "outputs": [
      {
       "metadata": {},
       "output_type": "pyout",
       "prompt_number": 40,
       "text": [
        "array([[False, False, False, False, False, False],\n",
        "       [False, False, False, False, False, False],\n",
        "       [ True, False, False, False, False, False]], dtype=bool)"
       ]
      }
     ],
     "prompt_number": 40
    },
    {
     "cell_type": "code",
     "collapsed": false,
     "input": [
      "def draw_tree(T):\n",
      "    \n",
      "    H = lca_matrix(T)\n",
      "    \n",
      "    n = len(H)\n",
      "    \n",
      "    # Find the grid points\n",
      "    idx = np.squeeze(np.argwhere(np.sum(np.abs(np.diff(H, axis=0)), axis=1) > 0)) + 1\n",
      "    \n",
      "    plt.imshow(H, aspect='equal', interpolation='nearest', cmap='hot_r', extent=[0, len(H), len(H), 0])\n",
      "    \n",
      "    plt.vlines(idx, 0, n, colors='k', alpha=0.15)\n",
      "    plt.hlines(idx, 0, n, colors='k', alpha=0.15)\n",
      "    \n",
      "    sr = 10\n",
      "    plt.xticks(np.arange(0, len(H), len(H)/4), np.arange(0, len(H), len(H)/4) / float(10))\n",
      "    plt.yticks(np.arange(0, len(H), len(H)/4), np.arange(0, len(H), len(H)/4) / float(10))\n",
      "    plt.xlabel('Duration (seconds)')"
     ],
     "language": "python",
     "metadata": {},
     "outputs": [],
     "prompt_number": 15
    },
    {
     "cell_type": "code",
     "collapsed": false,
     "input": [
      "def eval_trees(Ref, Est, transitive=False, main_title=\"\"):\n",
      "    \n",
      "    plt.figure(1, figsize=(6, 3), dpi=120, facecolor='w', edgecolor='k')\n",
      "    \n",
      "    plt.subplot(121)\n",
      "    draw_tree(Ref)\n",
      "    plt.title('Reference')\n",
      "    plt.ylabel('Duration (seconds)')\n",
      "    \n",
      "    plt.subplot(122)\n",
      "    draw_tree(Est)\n",
      "    plt.title('Estimation')\n",
      "    \n",
      "    plt.suptitle(main_title)\n",
      "    plt.gcf().subplots_adjust(wspace=0.3)\n",
      "    \n",
      "    plt.show()\n",
      "    \n",
      "    # 10Hz sampling\n",
      "    res = 1.0/10\n",
      "\n",
      "    for ws in [0.5, 3.0, 5.0, 10.0, 15, 30, 45.0, None]:\n",
      "        if ws is None:\n",
      "            w = None\n",
      "        else:\n",
      "            w = int(ws / res)\n",
      "        print 'Window: +-%0.2fs' % (0 if ws is None else ws)\n",
      "        print '\\tRef=T0, Est=T1: %0.4f' % tree_gauc(Ref, Est, res=res, window=w, transitive=transitive)\n",
      "        print '\\tRef=T1, Est=T0: %0.4f' % tree_gauc(Est, Ref, res=res, window=w, transitive=transitive)"
     ],
     "language": "python",
     "metadata": {},
     "outputs": [],
     "prompt_number": 108
    },
    {
     "cell_type": "code",
     "collapsed": false,
     "input": [
      "# Tree to tree, predicted\n",
      "\n",
      "T0 = tree.SegmentTree(\"test/SALAMI_636.jams\", annotation_id=0)\n",
      "T1 = tree.SegmentTree(\"test/SALAMI_636_OLDA.jams\", annotation_id=0)\n",
      "eval_trees(T0, T1, transitive=True, main_title=\"SALAMI 636 vs OLDA\")"
     ],
     "language": "python",
     "metadata": {},
     "outputs": [
      {
       "metadata": {},
       "output_type": "display_data",
       "png": "[encoded data removed]",
       "text": [
        "<matplotlib.figure.Figure at 0x2a53a90>"
       ]
      },
      {
       "output_type": "stream",
       "stream": "stdout",
       "text": [
        "Window: +-0.50s\n",
        "\tRef=T0, Est=T1: 0.2772"
       ]
      },
      {
       "output_type": "stream",
       "stream": "stdout",
       "text": [
        "\n",
        "\tRef=T1, Est=T0: 0.5454"
       ]
      },
      {
       "output_type": "stream",
       "stream": "stdout",
       "text": [
        "\n",
        "Window: +-3.00s\n",
        "\tRef=T0, Est=T1: 0.3397"
       ]
      },
      {
       "output_type": "stream",
       "stream": "stdout",
       "text": [
        "\n",
        "\tRef=T1, Est=T0: 0.7180"
       ]
      },
      {
       "output_type": "stream",
       "stream": "stdout",
       "text": [
        "\n",
        "Window: +-15.00s\n",
        "\tRef=T0, Est=T1: 0.6625"
       ]
      },
      {
       "output_type": "stream",
       "stream": "stdout",
       "text": [
        "\n",
        "\tRef=T1, Est=T0: 0.7021"
       ]
      },
      {
       "output_type": "stream",
       "stream": "stdout",
       "text": [
        "\n",
        "Window: +-30.00s\n",
        "\tRef=T0, Est=T1: 0.7987"
       ]
      },
      {
       "output_type": "stream",
       "stream": "stdout",
       "text": [
        "\n",
        "\tRef=T1, Est=T0: 0.5809"
       ]
      },
      {
       "output_type": "stream",
       "stream": "stdout",
       "text": [
        "\n",
        "Window: +-0.00s\n",
        "\tRef=T0, Est=T1: 0.9273"
       ]
      },
      {
       "output_type": "stream",
       "stream": "stdout",
       "text": [
        "\n",
        "\tRef=T1, Est=T0: 0.4199"
       ]
      },
      {
       "output_type": "stream",
       "stream": "stdout",
       "text": [
        "\n"
       ]
      }
     ],
     "prompt_number": 17
    },
    {
     "cell_type": "code",
     "collapsed": false,
     "input": [
      "# Flat to tree, large scale\n",
      "\n",
      "T0 = tree.SegmentTree(\"test/SALAMI_636.jams\", annotation_id=0)\n",
      "T1 = tree.SegmentTree(\"test/SALAMI_636_OLDA.jams\", annotation_id=0)\n",
      "\n",
      "T0.collapse_to_level(level='large_scale')\n",
      "T0.prune_to_level(level='large_scale')\n",
      "\n",
      "print T1\n",
      "\n",
      "eval_trees(T0, T1, transitive=True)"
     ],
     "language": "python",
     "metadata": {},
     "outputs": [
      {
       "output_type": "stream",
       "stream": "stdout",
       "text": [
        "Segment at 0x3a28d10:\n",
        "\tstart:\t0.00\n",
        "\tend:\t187.79\n",
        "\tlabel:\tall\n",
        "\tlevel: root\n",
        "Segment at 0x3a28890:\n",
        "\tstart:\t0.00\n",
        "\tend:\t5.46\n",
        "\tlabel:\t0\n",
        "\tlevel: level_004\n",
        "Segment at 0x3a28a10:\n",
        "\tstart:\t0.00\n",
        "\tend:\t5.46\n",
        "\tlabel:\t0\n",
        "\tlevel: level_005\n",
        "Segment at 0x3a284d0:\n",
        "\tstart:\t0.00\n",
        "\tend:\t5.46\n",
        "\tlabel:\t0\n",
        "\tlevel: level_006\n",
        "Segment at 0x3a288d0:\n",
        "\tstart:\t0.00\n",
        "\tend:\t5.46\n",
        "\tlabel:\t0\n",
        "\tlevel: level_007\n",
        "Segment at 0x3a28fd0:\n",
        "\tstart:\t0.00\n",
        "\tend:\t5.46\n",
        "\tlabel:\t0\n",
        "\tlevel: level_008\n",
        "Segment at 0x3a285d0:\n",
        "\tstart:\t0.00\n",
        "\tend:\t5.46\n",
        "\tlabel:\t0\n",
        "\tlevel: level_009\n",
        "Segment at 0x3a28cd0:\n",
        "\tstart:\t0.00\n",
        "\tend:\t0.49\n",
        "\tlabel:\t0\n",
        "\tlevel: level_010\n",
        "Segment at 0x3a28790:\n",
        "\tstart:\t0.00\n",
        "\tend:\t0.49\n",
        "\tlabel:\t0\n",
        "\tlevel: level_011\n",
        "Segment at 0x3a28c50:\n",
        "\tstart:\t0.00\n",
        "\tend:\t0.49\n",
        "\tlabel:\t0\n",
        "\tlevel: level_012\n",
        "Segment at 0x3a28850:\n",
        "\tstart:\t0.00\n",
        "\tend:\t0.49\n",
        "\tlabel:\t0\n",
        "\tlevel: level_013\n",
        "Segment at 0x3a286d0:\n",
        "\tstart:\t0.00\n",
        "\tend:\t0.49\n",
        "\tlabel:\t0\n",
        "\tlevel: level_014\n",
        "Segment at 0x3a28410:\n",
        "\tstart:\t0.00\n",
        "\tend:\t0.49\n",
        "\tlabel:\t0\n",
        "\tlevel: level_015\n",
        "Segment at 0x3a3a050:\n",
        "\tstart:\t0.00\n",
        "\tend:\t0.49\n",
        "\tlabel:\t0\n",
        "\tlevel: level_016\n",
        "Segment at 0x3a3a110:\n",
        "\tstart:\t0.00\n",
        "\tend:\t0.49\n",
        "\tlabel:\t0\n",
        "\tlevel: level_017\n",
        "Segment at 0x3a3a290:\n",
        "\tstart:\t0.00\n",
        "\tend:\t0.49\n",
        "\tlabel:\t0\n",
        "\tlevel: level_018\n",
        "Segment at 0x3a28350:\n",
        "\tstart:\t0.49\n",
        "\tend:\t5.46\n",
        "\tlabel:\t1\n",
        "\tlevel: level_010\n",
        "Segment at 0x3a3a1d0:\n",
        "\tstart:\t0.49\n",
        "\tend:\t5.46\n",
        "\tlabel:\t1\n",
        "\tlevel: level_011\n",
        "Segment at 0x3a28750:\n",
        "\tstart:\t0.49\n",
        "\tend:\t5.46\n",
        "\tlabel:\t1\n",
        "\tlevel: level_012\n",
        "Segment at 0x3a28950:\n",
        "\tstart:\t0.49\n",
        "\tend:\t5.46\n",
        "\tlabel:\t1\n",
        "\tlevel: level_013\n",
        "Segment at 0x3b8e6d0:\n",
        "\tstart:\t0.49\n",
        "\tend:\t5.46\n",
        "\tlabel:\t1\n",
        "\tlevel: level_014\n",
        "Segment at 0x2af3f90:\n",
        "\tstart:\t0.49\n",
        "\tend:\t5.46\n",
        "\tlabel:\t1\n",
        "\tlevel: level_015\n",
        "Segment at 0x2a456d0:\n",
        "\tstart:\t0.49\n",
        "\tend:\t5.46\n",
        "\tlabel:\t1\n",
        "\tlevel: level_016\n",
        "Segment at 0x3a3a490:\n",
        "\tstart:\t0.49\n",
        "\tend:\t5.46\n",
        "\tlabel:\t1\n",
        "\tlevel: level_017\n",
        "Segment at 0x2a53110:\n",
        "\tstart:\t0.49\n",
        "\tend:\t5.46\n",
        "\tlabel:\t1\n",
        "\tlevel: level_018\n",
        "Segment at 0x3a28050:\n",
        "\tstart:\t5.46\n",
        "\tend:\t63.09\n",
        "\tlabel:\t1\n",
        "\tlevel: level_004\n",
        "Segment at 0x2a45390:\n",
        "\tstart:\t5.46\n",
        "\tend:\t63.09\n",
        "\tlabel:\t1\n",
        "\tlevel: level_005\n",
        "Segment at 0x2af3150:\n",
        "\tstart:\t5.46\n",
        "\tend:\t63.09\n",
        "\tlabel:\t1\n",
        "\tlevel: level_006\n",
        "Segment at 0x2ae55d0:\n",
        "\tstart:\t5.46\n",
        "\tend:\t38.55\n",
        "\tlabel:\t1\n",
        "\tlevel: level_007\n",
        "Segment at 0x3a3a450:\n",
        "\tstart:\t5.46\n",
        "\tend:\t38.55\n",
        "\tlabel:\t1\n",
        "\tlevel: level_008\n",
        "Segment at 0x3a28ad0:\n",
        "\tstart:\t5.46\n",
        "\tend:\t38.55\n",
        "\tlabel:\t1\n",
        "\tlevel: level_009\n",
        "Segment at 0x2a53ad0:\n",
        "\tstart:\t5.46\n",
        "\tend:\t38.55\n",
        "\tlabel:\t2\n",
        "\tlevel: level_010\n",
        "Segment at 0x2af3d50:\n",
        "\tstart:\t5.46\n",
        "\tend:\t38.55\n",
        "\tlabel:\t2\n",
        "\tlevel: level_011\n",
        "Segment at 0x2ae5c90:\n",
        "\tstart:\t5.46\n",
        "\tend:\t38.55\n",
        "\tlabel:\t2\n",
        "\tlevel: level_012\n",
        "Segment at 0x3a3a710:\n",
        "\tstart:\t5.46\n",
        "\tend:\t17.58\n",
        "\tlabel:\t2\n",
        "\tlevel: level_013\n",
        "Segment at 0x3a28390:\n",
        "\tstart:\t5.46\n",
        "\tend:\t17.58\n",
        "\tlabel:\t2\n",
        "\tlevel: level_014\n",
        "Segment at 0x2af3f50:\n",
        "\tstart:\t5.46\n",
        "\tend:\t17.58\n",
        "\tlabel:\t2\n",
        "\tlevel: level_015\n",
        "Segment at 0x2ae54d0:\n",
        "\tstart:\t5.46\n",
        "\tend:\t17.58\n",
        "\tlabel:\t2\n",
        "\tlevel: level_016\n",
        "Segment at 0x3a3a590:\n",
        "\tstart:\t5.46\n",
        "\tend:\t17.58\n",
        "\tlabel:\t2\n",
        "\tlevel: level_017\n",
        "Segment at 0x2a53710:\n",
        "\tstart:\t5.46\n",
        "\tend:\t11.87\n",
        "\tlabel:\t2\n",
        "\tlevel: level_018\n",
        "Segment at 0x2a53750:\n",
        "\tstart:\t11.87\n",
        "\tend:\t17.58\n",
        "\tlabel:\t3\n",
        "\tlevel: level_018\n",
        "Segment at 0x3a3a650:\n",
        "\tstart:\t17.58\n",
        "\tend:\t38.55\n",
        "\tlabel:\t3\n",
        "\tlevel: level_013\n",
        "Segment at 0x2af35d0:\n",
        "\tstart:\t17.58\n",
        "\tend:\t38.55\n",
        "\tlabel:\t3\n",
        "\tlevel: level_014\n",
        "Segment at 0x2ae5550:\n",
        "\tstart:\t17.58\n",
        "\tend:\t38.55\n",
        "\tlabel:\t3\n",
        "\tlevel: level_015\n",
        "Segment at 0x3a3a790:\n",
        "\tstart:\t17.58\n",
        "\tend:\t38.55\n",
        "\tlabel:\t3\n",
        "\tlevel: level_016\n",
        "Segment at 0x2a53610:\n",
        "\tstart:\t17.58\n",
        "\tend:\t38.55\n",
        "\tlabel:\t3\n",
        "\tlevel: level_017\n",
        "Segment at 0x2a536d0:\n",
        "\tstart:\t17.58\n",
        "\tend:\t38.55\n",
        "\tlabel:\t4\n",
        "\tlevel: level_018\n",
        "Segment at 0x2ae5490:\n",
        "\tstart:\t38.55\n",
        "\tend:\t63.09\n",
        "\tlabel:\t2\n",
        "\tlevel: level_007\n",
        "Segment at 0x2ae5610:\n",
        "\tstart:\t38.55\n",
        "\tend:\t63.09\n",
        "\tlabel:\t2\n",
        "\tlevel: level_008\n",
        "Segment at 0x3a3ab90:\n",
        "\tstart:\t38.55\n",
        "\tend:\t63.09\n",
        "\tlabel:\t2\n",
        "\tlevel: level_009\n",
        "Segment at 0x2af3590:\n",
        "\tstart:\t38.55\n",
        "\tend:\t63.09\n",
        "\tlabel:\t3\n",
        "\tlevel: level_010\n",
        "Segment at 0x2a535d0:\n",
        "\tstart:\t38.55\n",
        "\tend:\t63.09\n",
        "\tlabel:\t3\n",
        "\tlevel: level_011\n",
        "Segment at 0x3a3a750:\n",
        "\tstart:\t38.55\n",
        "\tend:\t63.09\n",
        "\tlabel:\t3\n",
        "\tlevel: level_012\n",
        "Segment at 0x2af3990:\n",
        "\tstart:\t38.55\n",
        "\tend:\t63.09\n",
        "\tlabel:\t4\n",
        "\tlevel: level_013\n",
        "Segment at 0x2ae5b50:\n",
        "\tstart:\t38.55\n",
        "\tend:\t63.09\n",
        "\tlabel:\t4\n",
        "\tlevel: level_014\n",
        "Segment at 0x3a3aad0:\n",
        "\tstart:\t38.55\n",
        "\tend:\t63.09\n",
        "\tlabel:\t4\n",
        "\tlevel: level_015\n",
        "Segment at 0x2af3fd0:\n",
        "\tstart:\t38.55\n",
        "\tend:\t63.09\n",
        "\tlabel:\t4\n",
        "\tlevel: level_016\n",
        "Segment at 0x2ae5ad0:\n",
        "\tstart:\t38.55\n",
        "\tend:\t63.09\n",
        "\tlabel:\t4\n",
        "\tlevel: level_017\n",
        "Segment at 0x3a3a910:\n",
        "\tstart:\t38.55\n",
        "\tend:\t63.09\n",
        "\tlabel:\t5\n",
        "\tlevel: level_018\n",
        "Segment at 0x3a28b90:\n",
        "\tstart:\t63.09\n",
        "\tend:\t114.31\n",
        "\tlabel:\t2\n",
        "\tlevel: level_004\n",
        "Segment at 0x2a53310:\n",
        "\tstart:\t63.09\n",
        "\tend:\t114.31\n",
        "\tlabel:\t2\n",
        "\tlevel: level_005\n",
        "Segment at 0x2ae5a10:\n",
        "\tstart:\t63.09\n",
        "\tend:\t114.31\n",
        "\tlabel:\t2\n",
        "\tlevel: level_006\n",
        "Segment at 0x3a3a390:\n",
        "\tstart:\t63.09\n",
        "\tend:\t114.31\n",
        "\tlabel:\t3\n",
        "\tlevel: level_007\n",
        "Segment at 0x2af38d0:\n",
        "\tstart:\t63.09\n",
        "\tend:\t114.31\n",
        "\tlabel:\t3\n",
        "\tlevel: level_008\n",
        "Segment at 0x2ae5650:\n",
        "\tstart:\t63.09\n",
        "\tend:\t91.21\n",
        "\tlabel:\t3\n",
        "\tlevel: level_009\n",
        "Segment at 0x3a3ab50:\n",
        "\tstart:\t63.09\n",
        "\tend:\t91.21\n",
        "\tlabel:\t4\n",
        "\tlevel: level_010\n",
        "Segment at 0x2af3a10:\n",
        "\tstart:\t63.09\n",
        "\tend:\t91.21\n",
        "\tlabel:\t4\n",
        "\tlevel: level_011\n",
        "Segment at 0x2ae58d0:\n",
        "\tstart:\t63.09\n",
        "\tend:\t91.21\n",
        "\tlabel:\t4\n",
        "\tlevel: level_012\n",
        "Segment at 0x3a3ae50:\n",
        "\tstart:\t63.09\n",
        "\tend:\t91.21\n",
        "\tlabel:\t5\n",
        "\tlevel: level_013\n",
        "Segment at 0x2af3610:\n",
        "\tstart:\t63.09\n",
        "\tend:\t91.21\n",
        "\tlabel:\t5\n",
        "\tlevel: level_014\n",
        "Segment at 0x2ae5bd0:\n",
        "\tstart:\t63.09\n",
        "\tend:\t90.46\n",
        "\tlabel:\t5\n",
        "\tlevel: level_015\n",
        "Segment at 0x3a3acd0:\n",
        "\tstart:\t63.09\n",
        "\tend:\t90.46\n",
        "\tlabel:\t5\n",
        "\tlevel: level_016\n",
        "Segment at 0x2af39d0:\n",
        "\tstart:\t63.09\n",
        "\tend:\t74.12\n",
        "\tlabel:\t5\n",
        "\tlevel: level_017\n",
        "Segment at 0x2ae5950:\n",
        "\tstart:\t63.09\n",
        "\tend:\t74.12\n",
        "\tlabel:\t6\n",
        "\tlevel: level_018\n",
        "Segment at 0x2af3450:\n",
        "\tstart:\t74.12\n",
        "\tend:\t90.46\n",
        "\tlabel:\t6\n",
        "\tlevel: level_017\n",
        "Segment at 0x3a3ae10:\n",
        "\tstart:\t74.12\n",
        "\tend:\t90.46\n",
        "\tlabel:\t7\n",
        "\tlevel: level_018\n",
        "Segment at 0x2ae5710:\n",
        "\tstart:\t90.46\n",
        "\tend:\t91.21\n",
        "\tlabel:\t6\n",
        "\tlevel: level_015\n",
        "Segment at 0x2af37d0:\n",
        "\tstart:\t90.46\n",
        "\tend:\t91.21\n",
        "\tlabel:\t6\n",
        "\tlevel: level_016\n",
        "Segment at 0x2ae5790:\n",
        "\tstart:\t90.46\n",
        "\tend:\t91.21\n",
        "\tlabel:\t7\n",
        "\tlevel: level_017\n",
        "Segment at 0x3a3afd0:\n",
        "\tstart:\t90.46\n",
        "\tend:\t91.21\n",
        "\tlabel:\t8\n",
        "\tlevel: level_018\n",
        "Segment at 0x2ae5d90:\n",
        "\tstart:\t91.21\n",
        "\tend:\t114.31\n",
        "\tlabel:\t4\n",
        "\tlevel: level_009\n",
        "Segment at 0x2af3190:\n",
        "\tstart:\t91.21\n",
        "\tend:\t114.31\n",
        "\tlabel:\t5\n",
        "\tlevel: level_010\n",
        "Segment at 0x2ae5c50:\n",
        "\tstart:\t91.21\n",
        "\tend:\t114.31\n",
        "\tlabel:\t5\n",
        "\tlevel: level_011\n",
        "Segment at 0x3a3a190:\n",
        "\tstart:\t91.21\n",
        "\tend:\t114.31\n",
        "\tlabel:\t5\n",
        "\tlevel: level_012\n",
        "Segment at 0x2af3710:\n",
        "\tstart:\t91.21\n",
        "\tend:\t114.31\n",
        "\tlabel:\t6\n",
        "\tlevel: level_013\n",
        "Segment at 0x2ae5890:\n",
        "\tstart:\t91.21\n",
        "\tend:\t114.31\n",
        "\tlabel:\t6\n",
        "\tlevel: level_014\n",
        "Segment at 0x3a3a3d0:\n",
        "\tstart:\t91.21\n",
        "\tend:\t114.31\n",
        "\tlabel:\t7\n",
        "\tlevel: level_015\n",
        "Segment at 0x2af3250:\n",
        "\tstart:\t91.21\n",
        "\tend:\t114.31\n",
        "\tlabel:\t7\n",
        "\tlevel: level_016\n",
        "Segment at 0x2af3550:\n",
        "\tstart:\t91.21\n",
        "\tend:\t114.31\n",
        "\tlabel:\t8\n",
        "\tlevel: level_017\n",
        "Segment at 0x2ae5f50:\n",
        "\tstart:\t91.21\n",
        "\tend:\t114.31\n",
        "\tlabel:\t9\n",
        "\tlevel: level_018\n",
        "Segment at 0x3a28590:\n",
        "\tstart:\t114.31\n",
        "\tend:\t187.79\n",
        "\tlabel:\t3\n",
        "\tlevel: level_004\n",
        "Segment at 0x2ae5f10:\n",
        "\tstart:\t114.31\n",
        "\tend:\t137.09\n",
        "\tlabel:\t3\n",
        "\tlevel: level_005\n",
        "Segment at 0x3a3a950:\n",
        "\tstart:\t114.31\n",
        "\tend:\t137.09\n",
        "\tlabel:\t3\n",
        "\tlevel: level_006\n",
        "Segment at 0x2af3050:\n",
        "\tstart:\t114.31\n",
        "\tend:\t137.09\n",
        "\tlabel:\t4\n",
        "\tlevel: level_007\n",
        "Segment at 0x2af3410:\n",
        "\tstart:\t114.31\n",
        "\tend:\t125.69\n",
        "\tlabel:\t4\n",
        "\tlevel: level_008\n",
        "Segment at 0x2ae5750:\n",
        "\tstart:\t114.31\n",
        "\tend:\t125.69\n",
        "\tlabel:\t5\n",
        "\tlevel: level_009\n",
        "Segment at 0x3a3a610:\n",
        "\tstart:\t114.31\n",
        "\tend:\t125.69\n",
        "\tlabel:\t6\n",
        "\tlevel: level_010\n",
        "Segment at 0x2ae5310:\n",
        "\tstart:\t114.31\n",
        "\tend:\t125.69\n",
        "\tlabel:\t6\n",
        "\tlevel: level_011\n",
        "Segment at 0x3a3aed0:\n",
        "\tstart:\t114.31\n",
        "\tend:\t125.69\n",
        "\tlabel:\t6\n",
        "\tlevel: level_012\n",
        "Segment at 0x2ae5410:\n",
        "\tstart:\t114.31\n",
        "\tend:\t125.69\n",
        "\tlabel:\t7\n",
        "\tlevel: level_013\n",
        "Segment at 0x2ae5cd0:\n",
        "\tstart:\t114.31\n",
        "\tend:\t125.69\n",
        "\tlabel:\t7\n",
        "\tlevel: level_014\n",
        "Segment at 0x3a3a8d0:\n",
        "\tstart:\t114.31\n",
        "\tend:\t125.69\n",
        "\tlabel:\t8\n",
        "\tlevel: level_015\n",
        "Segment at 0x3a3ac90:\n",
        "\tstart:\t114.31\n",
        "\tend:\t120.00\n",
        "\tlabel:\t8\n",
        "\tlevel: level_016\n",
        "Segment at 0x2ae7110:\n",
        "\tstart:\t114.31\n",
        "\tend:\t120.00\n",
        "\tlabel:\t9\n",
        "\tlevel: level_017\n",
        "Segment at 0x2ae7290:\n",
        "\tstart:\t114.31\n",
        "\tend:\t120.00\n",
        "\tlabel:\t10\n",
        "\tlevel: level_018\n",
        "Segment at 0x2ae7050:\n",
        "\tstart:\t120.00\n",
        "\tend:\t125.69\n",
        "\tlabel:\t9\n",
        "\tlevel: level_016\n",
        "Segment at 0x2ae72d0:\n",
        "\tstart:\t120.00\n",
        "\tend:\t125.69\n",
        "\tlabel:\t10\n",
        "\tlevel: level_017\n",
        "Segment at 0x2ae7450:\n",
        "\tstart:\t120.00\n",
        "\tend:\t125.69\n",
        "\tlabel:\t11\n",
        "\tlevel: level_018\n",
        "Segment at 0x3a3aa90:\n",
        "\tstart:\t125.69\n",
        "\tend:\t137.09\n",
        "\tlabel:\t5\n",
        "\tlevel: level_008\n",
        "Segment at 0x2ae53d0:\n",
        "\tstart:\t125.69\n",
        "\tend:\t137.09\n",
        "\tlabel:\t6\n",
        "\tlevel: level_009\n",
        "Segment at 0x3a3a410:\n",
        "\tstart:\t125.69\n",
        "\tend:\t137.09\n",
        "\tlabel:\t7\n",
        "\tlevel: level_010\n",
        "Segment at 0x2ae71d0:\n",
        "\tstart:\t125.69\n",
        "\tend:\t137.09\n",
        "\tlabel:\t7\n",
        "\tlevel: level_011\n",
        "Segment at 0x2ae7550:\n",
        "\tstart:\t125.69\n",
        "\tend:\t137.09\n",
        "\tlabel:\t7\n",
        "\tlevel: level_012\n",
        "Segment at 0x2ae76d0:\n",
        "\tstart:\t125.69\n",
        "\tend:\t137.09\n",
        "\tlabel:\t8\n",
        "\tlevel: level_013\n",
        "Segment at 0x2ae7750:\n",
        "\tstart:\t125.69\n",
        "\tend:\t137.09\n",
        "\tlabel:\t8\n",
        "\tlevel: level_014\n",
        "Segment at 0x2ae78d0:\n",
        "\tstart:\t125.69\n",
        "\tend:\t137.09\n",
        "\tlabel:\t9\n",
        "\tlevel: level_015\n",
        "Segment at 0x2ae7950:\n",
        "\tstart:\t125.69\n",
        "\tend:\t137.09\n",
        "\tlabel:\t10\n",
        "\tlevel: level_016\n",
        "Segment at 0x2ae7ad0:\n",
        "\tstart:\t125.69\n",
        "\tend:\t137.09\n",
        "\tlabel:\t11\n",
        "\tlevel: level_017\n",
        "Segment at 0x2ae7b50:\n",
        "\tstart:\t125.69\n",
        "\tend:\t137.09\n",
        "\tlabel:\t12\n",
        "\tlevel: level_018\n",
        "Segment at 0x2ae5a90:\n",
        "\tstart:\t137.09\n",
        "\tend:\t187.79\n",
        "\tlabel:\t4\n",
        "\tlevel: level_005\n",
        "Segment at 0x2ae5a50:\n",
        "\tstart:\t137.09\n",
        "\tend:\t181.21\n",
        "\tlabel:\t4\n",
        "\tlevel: level_006\n",
        "Segment at 0x3a3a210:\n",
        "\tstart:\t137.09\n",
        "\tend:\t181.21\n",
        "\tlabel:\t5\n",
        "\tlevel: level_007\n",
        "Segment at 0x2ae7790:\n",
        "\tstart:\t137.09\n",
        "\tend:\t181.21\n",
        "\tlabel:\t6\n",
        "\tlevel: level_008\n",
        "Segment at 0x2ae7cd0:\n",
        "\tstart:\t137.09\n",
        "\tend:\t181.21\n",
        "\tlabel:\t7\n",
        "\tlevel: level_009\n",
        "Segment at 0x2ae7d50:\n",
        "\tstart:\t137.09\n",
        "\tend:\t181.21\n",
        "\tlabel:\t8\n",
        "\tlevel: level_010\n",
        "Segment at 0x2ae7ed0:\n",
        "\tstart:\t137.09\n",
        "\tend:\t145.61\n",
        "\tlabel:\t8\n",
        "\tlevel: level_011\n",
        "Segment at 0x2ae7e90:\n",
        "\tstart:\t137.09\n",
        "\tend:\t145.61\n",
        "\tlabel:\t8\n",
        "\tlevel: level_012\n",
        "Segment at 0x2ae7510:\n",
        "\tstart:\t137.09\n",
        "\tend:\t145.61\n",
        "\tlabel:\t9\n",
        "\tlevel: level_013\n",
        "Segment at 0x2ae74d0:\n",
        "\tstart:\t137.09\n",
        "\tend:\t145.61\n",
        "\tlabel:\t9\n",
        "\tlevel: level_014\n",
        "Segment at 0x2ae7bd0:\n",
        "\tstart:\t137.09\n",
        "\tend:\t145.61\n",
        "\tlabel:\t10\n",
        "\tlevel: level_015\n",
        "Segment at 0x2ae7990:\n",
        "\tstart:\t137.09\n",
        "\tend:\t145.61\n",
        "\tlabel:\t11\n",
        "\tlevel: level_016\n",
        "Segment at 0x2ae7f90:\n",
        "\tstart:\t137.09\n",
        "\tend:\t145.61\n",
        "\tlabel:\t12\n",
        "\tlevel: level_017\n",
        "Segment at 0x2ae7dd0:\n",
        "\tstart:\t137.09\n",
        "\tend:\t145.61\n",
        "\tlabel:\t13\n",
        "\tlevel: level_018\n",
        "Segment at 0x2ae7d90:\n",
        "\tstart:\t145.61\n",
        "\tend:\t181.21\n",
        "\tlabel:\t9\n",
        "\tlevel: level_011\n",
        "Segment at 0x2ae75d0:\n",
        "\tstart:\t145.61\n",
        "\tend:\t180.84\n",
        "\tlabel:\t9\n",
        "\tlevel: level_012\n",
        "Segment at 0x2ae7890:\n",
        "\tstart:\t145.61\n",
        "\tend:\t180.84\n",
        "\tlabel:\t10\n",
        "\tlevel: level_013\n",
        "Segment at 0x3a390d0:\n",
        "\tstart:\t145.61\n",
        "\tend:\t159.85\n",
        "\tlabel:\t10\n",
        "\tlevel: level_014\n",
        "Segment at 0x3a39210:\n",
        "\tstart:\t145.61\n",
        "\tend:\t159.85\n",
        "\tlabel:\t11\n",
        "\tlevel: level_015\n",
        "Segment at 0x3a39390:\n",
        "\tstart:\t145.61\n",
        "\tend:\t159.85\n",
        "\tlabel:\t12\n"
       ]
      },
      {
       "output_type": "stream",
       "stream": "stdout",
       "text": [
        "\tlevel: level_016\n",
        "Segment at 0x3a39410:\n",
        "\tstart:\t145.61\n",
        "\tend:\t159.85\n",
        "\tlabel:\t13\n",
        "\tlevel: level_017\n",
        "Segment at 0x3a39590:\n",
        "\tstart:\t145.61\n",
        "\tend:\t159.85\n",
        "\tlabel:\t14\n",
        "\tlevel: level_018\n",
        "Segment at 0x3a39110:\n",
        "\tstart:\t159.85\n",
        "\tend:\t180.84\n",
        "\tlabel:\t11\n",
        "\tlevel: level_014\n",
        "Segment at 0x3a39450:\n",
        "\tstart:\t159.85\n",
        "\tend:\t180.84\n",
        "\tlabel:\t12\n",
        "\tlevel: level_015\n",
        "Segment at 0x3a39750:\n",
        "\tstart:\t159.85\n",
        "\tend:\t180.84\n",
        "\tlabel:\t13\n",
        "\tlevel: level_016\n",
        "Segment at 0x3a396d0:\n",
        "\tstart:\t159.85\n",
        "\tend:\t180.84\n",
        "\tlabel:\t14\n",
        "\tlevel: level_017\n",
        "Segment at 0x3a39950:\n",
        "\tstart:\t159.85\n",
        "\tend:\t180.84\n",
        "\tlabel:\t15\n",
        "\tlevel: level_018\n",
        "Segment at 0x2ae79d0:\n",
        "\tstart:\t180.84\n",
        "\tend:\t181.21\n",
        "\tlabel:\t10\n",
        "\tlevel: level_012\n",
        "Segment at 0x3a39350:\n",
        "\tstart:\t180.84\n",
        "\tend:\t181.21\n",
        "\tlabel:\t11\n",
        "\tlevel: level_013\n",
        "Segment at 0x3a39990:\n",
        "\tstart:\t180.84\n",
        "\tend:\t181.21\n",
        "\tlabel:\t12\n",
        "\tlevel: level_014\n",
        "Segment at 0x3a39a10:\n",
        "\tstart:\t180.84\n",
        "\tend:\t181.21\n",
        "\tlabel:\t13\n",
        "\tlevel: level_015\n",
        "Segment at 0x3a39b90:\n",
        "\tstart:\t180.84\n",
        "\tend:\t181.21\n",
        "\tlabel:\t14\n",
        "\tlevel: level_016\n",
        "Segment at 0x3a39c10:\n",
        "\tstart:\t180.84\n",
        "\tend:\t181.21\n",
        "\tlabel:\t15\n",
        "\tlevel: level_017\n",
        "Segment at 0x3a39d90:\n",
        "\tstart:\t180.84\n",
        "\tend:\t181.21\n",
        "\tlabel:\t16\n",
        "\tlevel: level_018\n",
        "Segment at 0x2ae7690:\n",
        "\tstart:\t181.21\n",
        "\tend:\t187.79\n",
        "\tlabel:\t5\n",
        "\tlevel: level_006\n",
        "Segment at 0x3a39810:\n",
        "\tstart:\t181.21\n",
        "\tend:\t187.79\n",
        "\tlabel:\t6\n",
        "\tlevel: level_007\n",
        "Segment at 0x2ae7d10:\n",
        "\tstart:\t181.21\n",
        "\tend:\t187.79\n",
        "\tlabel:\t7\n",
        "\tlevel: level_008\n",
        "Segment at 0x2ae7e10:\n",
        "\tstart:\t181.21\n",
        "\tend:\t187.79\n",
        "\tlabel:\t8\n",
        "\tlevel: level_009\n",
        "Segment at 0x3a39e90:\n",
        "\tstart:\t181.21\n",
        "\tend:\t187.79\n",
        "\tlabel:\t9\n",
        "\tlevel: level_010\n",
        "Segment at 0x3a39f10:\n",
        "\tstart:\t181.21\n",
        "\tend:\t187.79\n",
        "\tlabel:\t10\n",
        "\tlevel: level_011\n",
        "Segment at 0x3a39310:\n",
        "\tstart:\t181.21\n",
        "\tend:\t187.79\n",
        "\tlabel:\t11\n",
        "\tlevel: level_012\n",
        "Segment at 0x3a39510:\n",
        "\tstart:\t181.21\n",
        "\tend:\t187.79\n",
        "\tlabel:\t12\n",
        "\tlevel: level_013\n",
        "Segment at 0x3a39910:\n",
        "\tstart:\t181.21\n",
        "\tend:\t187.79\n",
        "\tlabel:\t13\n",
        "\tlevel: level_014\n",
        "Segment at 0x3a39c90:\n",
        "\tstart:\t181.21\n",
        "\tend:\t187.79\n",
        "\tlabel:\t14\n",
        "\tlevel: level_015\n",
        "Segment at 0x3a39e10:\n",
        "\tstart:\t181.21\n",
        "\tend:\t187.79\n",
        "\tlabel:\t15\n",
        "\tlevel: level_016\n",
        "Segment at 0x3a39d10:\n",
        "\tstart:\t181.21\n",
        "\tend:\t187.79\n",
        "\tlabel:\t16\n",
        "\tlevel: level_017\n",
        "Segment at 0x3a39710:\n",
        "\tstart:\t181.21\n",
        "\tend:\t187.79\n",
        "\tlabel:\t17\n",
        "\tlevel: level_018\n",
        "\n"
       ]
      },
      {
       "metadata": {},
       "output_type": "display_data",
       "png": "[encoded data removed]",
       "text": [
        "<matplotlib.figure.Figure at 0x2a45950>"
       ]
      },
      {
       "output_type": "stream",
       "stream": "stdout",
       "text": [
        "Window: +-0.50s\n",
        "\tRef=T0, Est=T1: 0.5729"
       ]
      },
      {
       "output_type": "stream",
       "stream": "stdout",
       "text": [
        "\n",
        "\tRef=T1, Est=T0: 0.3519"
       ]
      },
      {
       "output_type": "stream",
       "stream": "stdout",
       "text": [
        "\n",
        "Window: +-3.00s\n",
        "\tRef=T0, Est=T1: 0.6688"
       ]
      },
      {
       "output_type": "stream",
       "stream": "stdout",
       "text": [
        "\n",
        "\tRef=T1, Est=T0: 0.4246"
       ]
      },
      {
       "output_type": "stream",
       "stream": "stdout",
       "text": [
        "\n",
        "Window: +-15.00s\n",
        "\tRef=T0, Est=T1: 0.8286"
       ]
      },
      {
       "output_type": "stream",
       "stream": "stdout",
       "text": [
        "\n",
        "\tRef=T1, Est=T0: 0.5804"
       ]
      },
      {
       "output_type": "stream",
       "stream": "stdout",
       "text": [
        "\n",
        "Window: +-30.00s\n",
        "\tRef=T0, Est=T1: 0.8666"
       ]
      },
      {
       "output_type": "stream",
       "stream": "stdout",
       "text": [
        "\n",
        "\tRef=T1, Est=T0: 0.5077"
       ]
      },
      {
       "output_type": "stream",
       "stream": "stdout",
       "text": [
        "\n",
        "Window: +-0.00s\n"
       ]
      },
      {
       "ename": "KeyboardInterrupt",
       "evalue": "",
       "output_type": "pyerr",
       "traceback": [
        "\u001b[1;31m---------------------------------------------------------------------------\u001b[0m\n\u001b[1;31mKeyboardInterrupt\u001b[0m                         Traceback (most recent call last)",
        "\u001b[1;32m<ipython-input-18-c4ac0bfc3f4a>\u001b[0m in \u001b[0;36m<module>\u001b[1;34m()\u001b[0m\n\u001b[0;32m      9\u001b[0m \u001b[1;32mprint\u001b[0m \u001b[0mT1\u001b[0m\u001b[1;33m\u001b[0m\u001b[0m\n\u001b[0;32m     10\u001b[0m \u001b[1;33m\u001b[0m\u001b[0m\n\u001b[1;32m---> 11\u001b[1;33m \u001b[0meval_trees\u001b[0m\u001b[1;33m(\u001b[0m\u001b[0mT0\u001b[0m\u001b[1;33m,\u001b[0m \u001b[0mT1\u001b[0m\u001b[1;33m,\u001b[0m \u001b[0mtransitive\u001b[0m\u001b[1;33m=\u001b[0m\u001b[0mTrue\u001b[0m\u001b[1;33m)\u001b[0m\u001b[1;33m\u001b[0m\u001b[0m\n\u001b[0m",
        "\u001b[1;32m<ipython-input-16-0e6e0779d35c>\u001b[0m in \u001b[0;36meval_trees\u001b[1;34m(Ref, Est, transitive, main_title)\u001b[0m\n\u001b[0;32m     26\u001b[0m             \u001b[0mw\u001b[0m \u001b[1;33m=\u001b[0m \u001b[0mint\u001b[0m\u001b[1;33m(\u001b[0m\u001b[0mws\u001b[0m \u001b[1;33m/\u001b[0m \u001b[0mres\u001b[0m\u001b[1;33m)\u001b[0m\u001b[1;33m\u001b[0m\u001b[0m\n\u001b[0;32m     27\u001b[0m         \u001b[1;32mprint\u001b[0m \u001b[1;34m'Window: +-%0.2fs'\u001b[0m \u001b[1;33m%\u001b[0m \u001b[1;33m(\u001b[0m\u001b[1;36m0\u001b[0m \u001b[1;32mif\u001b[0m \u001b[0mws\u001b[0m \u001b[1;32mis\u001b[0m \u001b[0mNone\u001b[0m \u001b[1;32melse\u001b[0m \u001b[0mws\u001b[0m\u001b[1;33m)\u001b[0m\u001b[1;33m\u001b[0m\u001b[0m\n\u001b[1;32m---> 28\u001b[1;33m         \u001b[1;32mprint\u001b[0m \u001b[1;34m'\\tRef=T0, Est=T1: %0.4f'\u001b[0m \u001b[1;33m%\u001b[0m \u001b[0mtree_gauc\u001b[0m\u001b[1;33m(\u001b[0m\u001b[0mRef\u001b[0m\u001b[1;33m,\u001b[0m \u001b[0mEst\u001b[0m\u001b[1;33m,\u001b[0m \u001b[0mres\u001b[0m\u001b[1;33m=\u001b[0m\u001b[0mres\u001b[0m\u001b[1;33m,\u001b[0m \u001b[0mwindow\u001b[0m\u001b[1;33m=\u001b[0m\u001b[0mw\u001b[0m\u001b[1;33m,\u001b[0m \u001b[0mtransitive\u001b[0m\u001b[1;33m=\u001b[0m\u001b[0mtransitive\u001b[0m\u001b[1;33m)\u001b[0m\u001b[1;33m\u001b[0m\u001b[0m\n\u001b[0m\u001b[0;32m     29\u001b[0m         \u001b[1;32mprint\u001b[0m \u001b[1;34m'\\tRef=T1, Est=T0: %0.4f'\u001b[0m \u001b[1;33m%\u001b[0m \u001b[0mtree_gauc\u001b[0m\u001b[1;33m(\u001b[0m\u001b[0mEst\u001b[0m\u001b[1;33m,\u001b[0m \u001b[0mRef\u001b[0m\u001b[1;33m,\u001b[0m \u001b[0mres\u001b[0m\u001b[1;33m=\u001b[0m\u001b[0mres\u001b[0m\u001b[1;33m,\u001b[0m \u001b[0mwindow\u001b[0m\u001b[1;33m=\u001b[0m\u001b[0mw\u001b[0m\u001b[1;33m,\u001b[0m \u001b[0mtransitive\u001b[0m\u001b[1;33m=\u001b[0m\u001b[0mtransitive\u001b[0m\u001b[1;33m)\u001b[0m\u001b[1;33m\u001b[0m\u001b[0m\n",
        "\u001b[1;32m<ipython-input-10-4642a1fe86da>\u001b[0m in \u001b[0;36mtree_gauc\u001b[1;34m(T_ref, T_est, res, window, transitive)\u001b[0m\n\u001b[0;32m     86\u001b[0m \u001b[1;33m\u001b[0m\u001b[0m\n\u001b[0;32m     87\u001b[0m         \u001b[1;31m# Compute normalization constant\u001b[0m\u001b[1;33m\u001b[0m\u001b[1;33m\u001b[0m\u001b[0m\n\u001b[1;32m---> 88\u001b[1;33m         \u001b[0mZ\u001b[0m \u001b[1;33m=\u001b[0m \u001b[0mfloat\u001b[0m\u001b[1;33m(\u001b[0m\u001b[0mS_ref\u001b[0m\u001b[1;33m.\u001b[0m\u001b[0msum\u001b[0m\u001b[1;33m(\u001b[0m\u001b[1;33m)\u001b[0m\u001b[1;33m)\u001b[0m\u001b[1;33m\u001b[0m\u001b[0m\n\u001b[0m\u001b[0;32m     89\u001b[0m \u001b[1;33m\u001b[0m\u001b[0m\n\u001b[0;32m     90\u001b[0m         \u001b[1;31m# Add up agreement for frames\u001b[0m\u001b[1;33m\u001b[0m\u001b[1;33m\u001b[0m\u001b[0m\n",
        "\u001b[1;32m/usr/local/lib/python2.7/dist-packages/numpy/core/_methods.pyc\u001b[0m in \u001b[0;36m_sum\u001b[1;34m(a, axis, dtype, out, keepdims)\u001b[0m\n\u001b[0;32m     23\u001b[0m \u001b[1;32mdef\u001b[0m \u001b[0m_sum\u001b[0m\u001b[1;33m(\u001b[0m\u001b[0ma\u001b[0m\u001b[1;33m,\u001b[0m \u001b[0maxis\u001b[0m\u001b[1;33m=\u001b[0m\u001b[0mNone\u001b[0m\u001b[1;33m,\u001b[0m \u001b[0mdtype\u001b[0m\u001b[1;33m=\u001b[0m\u001b[0mNone\u001b[0m\u001b[1;33m,\u001b[0m \u001b[0mout\u001b[0m\u001b[1;33m=\u001b[0m\u001b[0mNone\u001b[0m\u001b[1;33m,\u001b[0m \u001b[0mkeepdims\u001b[0m\u001b[1;33m=\u001b[0m\u001b[0mFalse\u001b[0m\u001b[1;33m)\u001b[0m\u001b[1;33m:\u001b[0m\u001b[1;33m\u001b[0m\u001b[0m\n\u001b[0;32m     24\u001b[0m     return um.add.reduce(a, axis=axis, dtype=dtype,\n\u001b[1;32m---> 25\u001b[1;33m                             out=out, keepdims=keepdims)\n\u001b[0m\u001b[0;32m     26\u001b[0m \u001b[1;33m\u001b[0m\u001b[0m\n\u001b[0;32m     27\u001b[0m \u001b[1;32mdef\u001b[0m \u001b[0m_prod\u001b[0m\u001b[1;33m(\u001b[0m\u001b[0ma\u001b[0m\u001b[1;33m,\u001b[0m \u001b[0maxis\u001b[0m\u001b[1;33m=\u001b[0m\u001b[0mNone\u001b[0m\u001b[1;33m,\u001b[0m \u001b[0mdtype\u001b[0m\u001b[1;33m=\u001b[0m\u001b[0mNone\u001b[0m\u001b[1;33m,\u001b[0m \u001b[0mout\u001b[0m\u001b[1;33m=\u001b[0m\u001b[0mNone\u001b[0m\u001b[1;33m,\u001b[0m \u001b[0mkeepdims\u001b[0m\u001b[1;33m=\u001b[0m\u001b[0mFalse\u001b[0m\u001b[1;33m)\u001b[0m\u001b[1;33m:\u001b[0m\u001b[1;33m\u001b[0m\u001b[0m\n",
        "\u001b[1;31mKeyboardInterrupt\u001b[0m: "
       ]
      }
     ],
     "prompt_number": 18
    },
    {
     "cell_type": "code",
     "collapsed": false,
     "input": [
      "# Tree to tree\n",
      "\n",
      "T0 = tree.SegmentTree(\"test/SALAMI_636.jams\", annotation_id=0)\n",
      "T1 = tree.SegmentTree(\"test/SALAMI_636.jams\", annotation_id=1)\n",
      "eval_trees(T0, T1, transitive=True, main_title=\"SALAMI 636 Annotator 1 vs Annotator 2\")"
     ],
     "language": "python",
     "metadata": {},
     "outputs": []
    },
    {
     "cell_type": "code",
     "collapsed": false,
     "input": [
      "# Flat to flat, large scale\n",
      "\n",
      "T0 = tree.SegmentTree(\"test/SALAMI_636.jams\", annotation_id=0)\n",
      "T1 = tree.SegmentTree(\"test/SALAMI_636.jams\", annotation_id=1)\n",
      "\n",
      "\n",
      "T0.prune_to_level(level='large_scale')\n",
      "T1.prune_to_level(level='large_scale')\n",
      "T0.collapse_to_level(level='large_scale')\n",
      "T1.collapse_to_level(level='large_scale')\n",
      "\n",
      "eval_trees(T0, T1, transitive=False)"
     ],
     "language": "python",
     "metadata": {},
     "outputs": []
    },
    {
     "cell_type": "code",
     "collapsed": false,
     "input": [
      "# Flat to flat, small scale\n",
      "\n",
      "T0 = tree.SegmentTree(\"test/SALAMI_636.jams\", annotation_id=0)\n",
      "T1 = tree.SegmentTree(\"test/SALAMI_636.jams\", annotation_id=1)\n",
      "T0.collapse_to_level(level='small_scale')\n",
      "T1.collapse_to_level(level='small_scale')\n",
      "\n",
      "eval_trees(T0, T1)"
     ],
     "language": "python",
     "metadata": {},
     "outputs": []
    },
    {
     "cell_type": "code",
     "collapsed": false,
     "input": [
      "# Flat to flat, large vs small scale\n",
      "\n",
      "T0 = tree.SegmentTree(\"test/SALAMI_636.jams\", annotation_id=0)\n",
      "T1 = tree.SegmentTree(\"test/SALAMI_636.jams\", annotation_id=1)\n",
      "\n",
      "T0.prune_to_level(level='large_scale')\n",
      "T0.collapse_to_level(level='large_scale')\n",
      "T1.collapse_to_level(level='small_scale')\n",
      "\n",
      "\n",
      "eval_trees(T0, T1, transitive=False)"
     ],
     "language": "python",
     "metadata": {},
     "outputs": []
    },
    {
     "cell_type": "code",
     "collapsed": false,
     "input": [
      "# Flat to flat, large vs small scale\n",
      "\n",
      "T0 = tree.SegmentTree(\"test/SALAMI_636.jams\", annotation_id=0)\n",
      "T1 = tree.SegmentTree(\"test/SALAMI_636.jams\", annotation_id=1)\n",
      "T0.collapse_to_level(level='small_scale')\n",
      "T1.prune_to_level(level='large_scale')\n",
      "T1.collapse_to_level(level='large_scale')\n",
      "\n",
      "eval_trees(T0, T1)"
     ],
     "language": "python",
     "metadata": {},
     "outputs": []
    },
    {
     "cell_type": "code",
     "collapsed": false,
     "input": [
      "# Tree to flat, small scale\n",
      "\n",
      "T0 = tree.SegmentTree(\"test/SALAMI_636.jams\", annotation_id=0)\n",
      "T1 = tree.SegmentTree(\"test/SALAMI_636.jams\", annotation_id=1)\n",
      "T1.collapse_to_level(level='small_scale')\n",
      "\n",
      "eval_trees(T0, T1, transitive=False)"
     ],
     "language": "python",
     "metadata": {},
     "outputs": []
    },
    {
     "cell_type": "code",
     "collapsed": false,
     "input": [
      "# Tree to flat, large scale\n",
      "\n",
      "T0 = tree.SegmentTree(\"test/SALAMI_636.jams\", annotation_id=0)\n",
      "T1 = tree.SegmentTree(\"test/SALAMI_636.jams\", annotation_id=1)\n",
      "T1.prune_to_level(level='large_scale')\n",
      "T1.collapse_to_level(level='large_scale')\n",
      "\n",
      "eval_trees(T0, T1)"
     ],
     "language": "python",
     "metadata": {},
     "outputs": []
    },
    {
     "cell_type": "code",
     "collapsed": false,
     "input": [
      "import mir_eval\n",
      "import jams2\n",
      "\n",
      "level = \"large_scale\"\n",
      "\n",
      "bounds0, labels0 = jams2.converters.load_jams_range(\n",
      "                            \"test/SALAMI_636.jams\", \"sections\", annotator=0, context=level)\n",
      "bounds1, labels1 = jams2.converters.load_jams_range(\n",
      "                            \"test/SALAMI_636.jams\", \"sections\", annotator=1, context=level)\n",
      "\n",
      "\n",
      "P, R, F = mir_eval.boundary.detection(bounds0,\n",
      "                                    bounds1, window=0.5, trim=True)\n",
      "print \"F-measure 0.5 seconds: Ref=A0, Est=A1:\\n\\tF=%.3f, P=%.3f, R=%.3f\\n\\tlevel: %s\" % (F, P, R, level)\n",
      "\n",
      "\n",
      "P, R, F = mir_eval.boundary.detection(bounds1,\n",
      "                                    bounds0, window=0.5, trim=True)\n",
      "print \"F-measure 0.5 seconds: Ref=A1, Est=A0:\\n\\tF=%.3f, P=%.3f, R=%.3f\\n\\tlevel: %s\" % (F, P, R, level)\n"
     ],
     "language": "python",
     "metadata": {},
     "outputs": []
    },
    {
     "cell_type": "code",
     "collapsed": false,
     "input": [
      "# Create Synthetic examples\n",
      "import jams2\n",
      "import json\n",
      "import mir_eval\n",
      "\n",
      "def create_jams(boundaries, out_file):\n",
      "    jam = jams2.Jams()\n",
      "    jam.metadata.duration = boundaries[0][-1]\n",
      "    sections = jam.sections.create_annotation()\n",
      "    for c, boundary_level in enumerate(boundaries):\n",
      "        b_intervals = zip(boundary_level[:], boundary_level[1:])\n",
      "        for b_interval in b_intervals:\n",
      "            section = sections.create_datapoint()\n",
      "            section.start.value = b_interval[0]\n",
      "            section.end.value = b_interval[1]\n",
      "            section.label.context = str(c)\n",
      "    with open(out_file, \"w\") as f:\n",
      "        json.dump(jam, f, indent=2)\n",
      "        \n",
      "def evaluate_flat(ref_times, est_times, w, trim=False):\n",
      "    ref_times = np.asarray(ref_times).flatten()\n",
      "    est_times = np.asarray(est_times).flatten()\n",
      "    ref_inter = np.asarray(zip(ref_times[:], ref_times[1:]))\n",
      "    est_inter = np.asarray(zip(est_times[:], est_times[1:]))\n",
      "    p, r, f = mir_eval.boundary.detection(ref_inter, est_inter, trim=trim, window=w)\n",
      "    R2E, E2R = mir_eval.boundary.deviation(ref_inter, est_inter, trim=trim)\n",
      "    print \"R2E: %.2f, E2R: %.2f\" % (R2E, E2R)\n",
      "    return f, p, r\n",
      "    \n",
      "def evaluate_bounds(bound1, bound2, main_title=\"\", transitive=True):\n",
      "    create_jams(bound1, \"test/tmp1.jams\")\n",
      "    create_jams(bound2, \"test/tmp2.jams\")\n",
      "\n",
      "    T0 = tree.SegmentTree(\"test/tmp1.jams\", annotation_id=0)\n",
      "    T1 = tree.SegmentTree(\"test/tmp2.jams\", annotation_id=0)\n",
      "    eval_trees(T0, T1, transitive=transitive, main_title=main_title)\n",
      "\n",
      "# Flat vs flat\n",
      "\n",
      "f1 = [[0, 10, 20, 30, 40, 50, 60]]\n",
      "f2 = [[0, 20, 40, 60]]\n",
      "trim = True\n",
      "f, p, r = evaluate_flat(f1, f2, 3, trim=trim)\n",
      "print f*100, p*100, r*100\n",
      "evaluate_bounds(f1, f2, \"Flat vs Flat\"); plt.colorbar(), plt.show()\n",
      "\n",
      "\n",
      "# Hierarchical vs Flat Large Scale\n",
      "# h1 = [[0, 10, 20, 30, 40, 50, 60], [0, 20, 40, 60]]\n",
      "# f2 = [[0, 20, 40, 60]]\n",
      "# evaluate_bounds(h1, f2, main_title=\"Hierarchical vs Flat Large Scale\"); show()\n",
      "\n",
      "# Hierarchical vs Flat Small Scale\n",
      "# h1 = [[0, 10, 20, 30, 40, 50, 60], [0, 20, 40, 60]]\n",
      "# f2 = [[0, 10, 20, 30, 40, 50, 60]]\n",
      "# evaluate_bounds(h1, f2, \"Hierarchical vs Flat Small Scale\"); show()\n",
      "\n",
      "# Hierarchical vs Hierarchical\n",
      "# h1 = [[0, 10, 20, 30, 40, 50, 60], [0, 20, 40, 60]]\n",
      "# h2 = [[0, 10, 20, 30, 40, 50, 60], [0, 20, 40, 60]]\n",
      "# evaluate_bounds(h1, h2, \"Hierarchical vs Hierarchical\"); show()\n",
      "\n",
      "# Hierarchical vs 3-layer Hierarchical\n",
      "# h1 = [[0, 10, 20, 30, 40, 50, 60], [0, 20, 40, 60]]\n",
      "# h2 = [[0, 10, 20, 30, 40, 50, 60], [0, 20, 40, 60], [0, 40, 60]]\n",
      "# evaluate_bounds(h1, h2, \"2-Layer vs 3-Layer\"); show()\n",
      "\n",
      "# Figure 1 example of the paper\n",
      "# h1 = [[0, 10, 20, 30], [0, 20, 30]]\n",
      "# h2 = [[0, 10, 20, 30], [0, 10, 30]]\n",
      "# evaluate_bounds(h1, h2, \"Figure 1\"); show()\n"
     ],
     "language": "python",
     "metadata": {},
     "outputs": [
      {
       "output_type": "stream",
       "stream": "stdout",
       "text": [
        "R2E: 10.00, E2R: 0.00\n",
        "57.1428571429 100.0 40.0\n"
       ]
      },
      {
       "metadata": {},
       "output_type": "display_data",
       "png": "[encoded data removed]",
       "text": [
        "<matplotlib.figure.Figure at 0x3f62a50>"
       ]
      },
      {
       "output_type": "stream",
       "stream": "stdout",
       "text": [
        "Window: +-0.50s\n",
        "\tRef=T0, Est=T1: 0.4000\n",
        "\tRef=T1, Est=T0: 1.0000"
       ]
      },
      {
       "output_type": "stream",
       "stream": "stdout",
       "text": [
        "\n",
        "Window: +-3.00s\n",
        "\tRef=T0, Est=T1: 0.4000"
       ]
      },
      {
       "name": "stdout",
       "output_type": "stream",
       "stream": "stdout",
       "text": [
        "\n",
        "\tRef=T1, Est=T0: 1.0000\n",
        "Window: +-5.00s\n",
        "\tRef=T0, Est=T1: 0.4000"
       ]
      },
      {
       "output_type": "stream",
       "stream": "stdout",
       "text": [
        "\n",
        "\tRef=T1, Est=T0: 1.0000"
       ]
      },
      {
       "output_type": "stream",
       "stream": "stdout",
       "text": [
        "\n",
        "Window: +-10.00s\n",
        "\tRef=T0, Est=T1: 0.3339"
       ]
      },
      {
       "output_type": "stream",
       "stream": "stdout",
       "text": [
        "\n",
        "\tRef=T1, Est=T0: 0.6922"
       ]
      },
      {
       "output_type": "stream",
       "stream": "stdout",
       "text": [
        "\n",
        "Window: +-15.00s\n",
        "\tRef=T0, Est=T1: 0.3939"
       ]
      },
      {
       "output_type": "stream",
       "stream": "stdout",
       "text": [
        "\n",
        "\tRef=T1, Est=T0: 0.5277"
       ]
      },
      {
       "name": "stdout",
       "output_type": "stream",
       "stream": "stdout",
       "text": [
        "\n",
        "Window: +-30.00s\n",
        "\tRef=T0, Est=T1: 0.6946"
       ]
      },
      {
       "output_type": "stream",
       "stream": "stdout",
       "text": [
        "\n",
        "\tRef=T1, Est=T0: 0.4975"
       ]
      },
      {
       "output_type": "stream",
       "stream": "stdout",
       "text": [
        "\n",
        "Window: +-45.00s\n",
        "\tRef=T0, Est=T1: 0.7811"
       ]
      },
      {
       "output_type": "stream",
       "stream": "stdout",
       "text": [
        "\n",
        "\tRef=T1, Est=T0: 0.4975"
       ]
      },
      {
       "name": "stdout",
       "output_type": "stream",
       "stream": "stdout",
       "text": [
        "\n",
        "Window: +-0.00s\n",
        "\tRef=T0, Est=T1: 0.8000"
       ]
      },
      {
       "output_type": "stream",
       "stream": "stdout",
       "text": [
        "> <ipython-input-115-759df0819be4>(65)tree_gauc()\n",
        "-> import pdb; pdb.set_trace()\n"
       ]
      },
      {
       "name": "stdout",
       "output_type": "stream",
       "stream": "stdout",
       "text": [
        "(Pdb) c\n"
       ]
      },
      {
       "output_type": "stream",
       "stream": "stdout",
       "text": [
        "> <ipython-input-115-759df0819be4>(68)tree_gauc()\n",
        "-> R = H_ref[q, max(0, q-window):min(n, q+window)]\n"
       ]
      },
      {
       "name": "stdout",
       "output_type": "stream",
       "stream": "stdout",
       "text": [
        "(Pdb) c\n"
       ]
      },
      {
       "output_type": "stream",
       "stream": "stdout",
       "text": [
        "> <ipython-input-115-759df0819be4>(65)tree_gauc()\n",
        "-> import pdb; pdb.set_trace()\n"
       ]
      },
      {
       "name": "stdout",
       "output_type": "stream",
       "stream": "stdout",
       "text": [
        "(Pdb) c\n"
       ]
      },
      {
       "output_type": "stream",
       "stream": "stdout",
       "text": [
        "\tRef=T0, Est=T1: 0.3939\n",
        "> <ipython-input-115-759df0819be4>(68)tree_gauc()\n",
        "-> R = H_ref[q, max(0, q-window):min(n, q+window)]\n"
       ]
      },
      {
       "name": "stdout",
       "output_type": "stream",
       "stream": "stdout",
       "text": [
        "(Pdb) print q\n"
       ]
      },
      {
       "output_type": "stream",
       "stream": "stdout",
       "text": [
        "0\n"
       ]
      },
      {
       "name": "stdout",
       "output_type": "stream",
       "stream": "stdout",
       "text": [
        "(Pdb) c\n"
       ]
      },
      {
       "output_type": "stream",
       "stream": "stdout",
       "text": [
        "> <ipython-input-115-759df0819be4>(65)tree_gauc()\n",
        "-> import pdb; pdb.set_trace()\n"
       ]
      },
      {
       "name": "stdout",
       "output_type": "stream",
       "stream": "stdout",
       "text": [
        "(Pdb) print q\n"
       ]
      },
      {
       "output_type": "stream",
       "stream": "stdout",
       "text": [
        "100\n"
       ]
      },
      {
       "name": "stdout",
       "output_type": "stream",
       "stream": "stdout",
       "text": [
        "(Pdb) n\n"
       ]
      },
      {
       "output_type": "stream",
       "stream": "stdout",
       "text": [
        "> <ipython-input-115-759df0819be4>(68)tree_gauc()\n",
        "-> R = H_ref[q, max(0, q-window):min(n, q+window)]\n"
       ]
      },
      {
       "name": "stdout",
       "output_type": "stream",
       "stream": "stdout",
       "text": [
        "(Pdb) n\n"
       ]
      },
      {
       "output_type": "stream",
       "stream": "stdout",
       "text": [
        "> <ipython-input-115-759df0819be4>(71)tree_gauc()\n",
        "-> E = H_est[q, max(0, q-window):min(n, q+window)]\n"
       ]
      },
      {
       "name": "stdout",
       "output_type": "stream",
       "stream": "stdout",
       "text": [
        "(Pdb) n\n"
       ]
      },
      {
       "output_type": "stream",
       "stream": "stdout",
       "text": [
        "> <ipython-input-115-759df0819be4>(73)tree_gauc()\n",
        "-> if transitive:\n"
       ]
      },
      {
       "name": "stdout",
       "output_type": "stream",
       "stream": "stdout",
       "text": [
        "(Pdb) R\n"
       ]
      },
      {
       "output_type": "stream",
       "stream": "stdout",
       "text": [
        "array([1, 1, 1, 1, 1, 1, 1, 1, 1, 1, 1, 1, 1, 1, 1, 1, 1, 1, 1, 1, 1, 1, 1,\n",
        "       1, 1, 1, 1, 1, 1, 1, 1, 1, 1, 1, 1, 1, 1, 1, 1, 1, 1, 1, 1, 1, 1, 1,\n",
        "       1, 1, 1, 1, 1, 1, 1, 1, 1, 1, 1, 1, 1, 1, 1, 1, 1, 1, 1, 1, 1, 1, 1,\n",
        "       1, 1, 1, 1, 1, 1, 1, 1, 1, 1, 1, 1, 1, 1, 1, 1, 1, 1, 1, 1, 1, 1, 1,\n",
        "       1, 1, 1, 1, 1, 1, 1, 1, 1, 1, 1, 1, 1, 1, 1, 1, 1, 1, 1, 1, 1, 1, 1,\n",
        "       1, 1, 1, 1, 1, 1, 1, 1, 1, 1, 1, 1, 1, 1, 1, 1, 1, 1, 1, 1, 1, 1, 1,\n",
        "       1, 1, 1, 1, 1, 1, 1, 1, 1, 1, 1, 1, 1, 1, 1, 1, 1, 1, 1, 1, 1, 1, 1,\n",
        "       1, 1, 1, 1, 1, 1, 1, 1, 1, 1, 1, 1, 1, 1, 1, 1, 1, 1, 1, 1, 1, 1, 1,\n",
        "       1, 1, 1, 1, 1, 1, 1, 1, 1, 1, 1, 1, 1, 1, 1, 1, 0, 0, 0, 0, 0, 0, 0,\n",
        "       0, 0, 0, 0, 0, 0, 0, 0, 0, 0, 0, 0, 0, 0, 0, 0, 0, 0, 0, 0, 0, 0, 0,\n",
        "       0, 0, 0, 0, 0, 0, 0, 0, 0, 0, 0, 0, 0, 0, 0, 0, 0, 0, 0, 0], dtype=uint8)\n"
       ]
      },
      {
       "name": "stdout",
       "output_type": "stream",
       "stream": "stdout",
       "text": [
        "(Pdb) E\n"
       ]
      },
      {
       "output_type": "stream",
       "stream": "stdout",
       "text": [
        "array([0, 0, 0, 0, 0, 0, 0, 0, 0, 0, 0, 0, 0, 0, 0, 0, 0, 0, 0, 0, 0, 0, 0,\n",
        "       0, 0, 0, 0, 0, 0, 0, 0, 0, 0, 0, 0, 0, 0, 0, 0, 0, 0, 0, 0, 0, 0, 0,\n",
        "       0, 0, 0, 0, 0, 0, 0, 0, 0, 0, 0, 0, 0, 0, 0, 0, 0, 0, 0, 0, 0, 0, 0,\n",
        "       0, 0, 0, 0, 0, 0, 0, 0, 0, 0, 0, 0, 0, 0, 0, 0, 0, 0, 0, 0, 0, 0, 0,\n",
        "       0, 0, 0, 0, 0, 0, 0, 0, 1, 1, 1, 1, 1, 1, 1, 1, 1, 1, 1, 1, 1, 1, 1,\n",
        "       1, 1, 1, 1, 1, 1, 1, 1, 1, 1, 1, 1, 1, 1, 1, 1, 1, 1, 1, 1, 1, 1, 1,\n",
        "       1, 1, 1, 1, 1, 1, 1, 1, 1, 1, 1, 1, 1, 1, 1, 1, 1, 1, 1, 1, 1, 1, 1,\n",
        "       1, 1, 1, 1, 1, 1, 1, 1, 1, 1, 1, 1, 1, 1, 1, 1, 1, 1, 1, 1, 1, 1, 1,\n",
        "       1, 1, 1, 1, 1, 1, 1, 1, 1, 1, 1, 1, 1, 1, 1, 1, 0, 0, 0, 0, 0, 0, 0,\n",
        "       0, 0, 0, 0, 0, 0, 0, 0, 0, 0, 0, 0, 0, 0, 0, 0, 0, 0, 0, 0, 0, 0, 0,\n",
        "       0, 0, 0, 0, 0, 0, 0, 0, 0, 0, 0, 0, 0, 0, 0, 0, 0, 0, 0, 0], dtype=uint8)\n"
       ]
      },
      {
       "name": "stdout",
       "output_type": "stream",
       "stream": "stdout",
       "text": [
        "(Pdb) n\n"
       ]
      },
      {
       "output_type": "stream",
       "stream": "stdout",
       "text": [
        "> <ipython-input-115-759df0819be4>(75)tree_gauc()\n",
        "-> S_ref = np.greater.outer(R, R)\n"
       ]
      },
      {
       "name": "stdout",
       "output_type": "stream",
       "stream": "stdout",
       "text": [
        "(Pdb) n\n"
       ]
      },
      {
       "output_type": "stream",
       "stream": "stdout",
       "text": [
        "> <ipython-input-115-759df0819be4>(80)tree_gauc()\n",
        "-> S_est = np.greater.outer(E, E)\n"
       ]
      },
      {
       "name": "stdout",
       "output_type": "stream",
       "stream": "stdout",
       "text": [
        "(Pdb) n\n"
       ]
      },
      {
       "output_type": "stream",
       "stream": "stdout",
       "text": [
        "> <ipython-input-115-759df0819be4>(83)tree_gauc()\n",
        "-> idx = min(q, window)\n"
       ]
      },
      {
       "name": "stdout",
       "output_type": "stream",
       "stream": "stdout",
       "text": [
        "(Pdb) print S_ref\n"
       ]
      },
      {
       "output_type": "stream",
       "stream": "stdout",
       "text": [
        "[[False False False ...,  True  True  True]\n",
        " [False False False ...,  True  True  True]\n",
        " [False False False ...,  True  True  True]\n",
        " ..., \n",
        " [False False False ..., False False False]\n",
        " [False False False ..., False False False]\n",
        " [False False False ..., False False False]]\n"
       ]
      },
      {
       "name": "stdout",
       "output_type": "stream",
       "stream": "stdout",
       "text": [
        "(Pdb) S_est\n"
       ]
      },
      {
       "output_type": "stream",
       "stream": "stdout",
       "text": [
        "array([[False, False, False, ..., False, False, False],\n",
        "       [False, False, False, ..., False, False, False],\n",
        "       [False, False, False, ..., False, False, False],\n",
        "       ..., \n",
        "       [False, False, False, ..., False, False, False],\n",
        "       [False, False, False, ..., False, False, False],\n",
        "       [False, False, False, ..., False, False, False]], dtype=bool)\n"
       ]
      },
      {
       "name": "stdout",
       "output_type": "stream",
       "stream": "stdout",
       "text": [
        "(Pdb) np.sum(S_ref)\n"
       ]
      },
      {
       "output_type": "stream",
       "stream": "stdout",
       "text": [
        "10000\n"
       ]
      },
      {
       "name": "stdout",
       "output_type": "stream",
       "stream": "stdout",
       "text": [
        "(Pdb) S_ref.sum()\n"
       ]
      },
      {
       "output_type": "stream",
       "stream": "stdout",
       "text": [
        "10000\n"
       ]
      },
      {
       "name": "stdout",
       "output_type": "stream",
       "stream": "stdout",
       "text": [
        "(Pdb) S_ref.shape\n"
       ]
      },
      {
       "output_type": "stream",
       "stream": "stdout",
       "text": [
        "(250, 250)\n"
       ]
      },
      {
       "name": "stdout",
       "output_type": "stream",
       "stream": "stdout",
       "text": [
        "(Pdb) 250 * 250\n"
       ]
      },
      {
       "output_type": "stream",
       "stream": "stdout",
       "text": [
        "62500\n"
       ]
      },
      {
       "name": "stdout",
       "output_type": "stream",
       "stream": "stdout",
       "text": [
        "(Pdb) S_est.sum()\n"
       ]
      },
      {
       "output_type": "stream",
       "stream": "stdout",
       "text": [
        "15000\n"
       ]
      },
      {
       "name": "stdout",
       "output_type": "stream",
       "stream": "stdout",
       "text": [
        "(Pdb) print S_est\n"
       ]
      },
      {
       "output_type": "stream",
       "stream": "stdout",
       "text": [
        "[[False False False ..., False False False]\n",
        " [False False False ..., False False False]\n",
        " [False False False ..., False False False]\n",
        " ..., \n",
        " [False False False ..., False False False]\n",
        " [False False False ..., False False False]\n",
        " [False False False ..., False False False]]\n"
       ]
      },
      {
       "name": "stdout",
       "output_type": "stream",
       "stream": "stdout",
       "text": [
        "(Pdb) n\n"
       ]
      },
      {
       "output_type": "stream",
       "stream": "stdout",
       "text": [
        "> <ipython-input-115-759df0819be4>(84)tree_gauc()\n",
        "-> S_ref[idx, :] = False\n"
       ]
      },
      {
       "name": "stdout",
       "output_type": "stream",
       "stream": "stdout",
       "text": [
        "(Pdb) n\n"
       ]
      },
      {
       "output_type": "stream",
       "stream": "stdout",
       "text": [
        "> <ipython-input-115-759df0819be4>(85)tree_gauc()\n",
        "-> S_ref[:, idx] = False\n"
       ]
      },
      {
       "name": "stdout",
       "output_type": "stream",
       "stream": "stdout",
       "text": [
        "(Pdb) n\n"
       ]
      },
      {
       "output_type": "stream",
       "stream": "stdout",
       "text": [
        "> <ipython-input-115-759df0819be4>(89)tree_gauc()\n",
        "-> Z = float(S_ref.sum())\n"
       ]
      },
      {
       "name": "stdout",
       "output_type": "stream",
       "stream": "stdout",
       "text": [
        "(Pdb) n\n"
       ]
      },
      {
       "output_type": "stream",
       "stream": "stdout",
       "text": [
        "> <ipython-input-115-759df0819be4>(92)tree_gauc()\n",
        "-> if Z > 0:\n"
       ]
      },
      {
       "name": "stdout",
       "output_type": "stream",
       "stream": "stdout",
       "text": [
        "(Pdb) print Z\n"
       ]
      },
      {
       "output_type": "stream",
       "stream": "stdout",
       "text": [
        "9950.0\n"
       ]
      },
      {
       "name": "stdout",
       "output_type": "stream",
       "stream": "stdout",
       "text": [
        "(Pdb) n\n"
       ]
      },
      {
       "output_type": "stream",
       "stream": "stdout",
       "text": [
        "> <ipython-input-115-759df0819be4>(93)tree_gauc()\n",
        "-> score += np.sum(np.logical_and(S_ref, S_est)) / Z\n"
       ]
      },
      {
       "name": "stdout",
       "output_type": "stream",
       "stream": "stdout",
       "text": [
        "(Pdb) np.sum(np.logical_and(S_ref, S_est))\n"
       ]
      },
      {
       "output_type": "stream",
       "stream": "stdout",
       "text": [
        "4950\n"
       ]
      },
      {
       "name": "stdout",
       "output_type": "stream",
       "stream": "stdout",
       "text": [
        "(Pdb) R\n"
       ]
      },
      {
       "output_type": "stream",
       "stream": "stdout",
       "text": [
        "array([1, 1, 1, 1, 1, 1, 1, 1, 1, 1, 1, 1, 1, 1, 1, 1, 1, 1, 1, 1, 1, 1, 1,\n",
        "       1, 1, 1, 1, 1, 1, 1, 1, 1, 1, 1, 1, 1, 1, 1, 1, 1, 1, 1, 1, 1, 1, 1,\n",
        "       1, 1, 1, 1, 1, 1, 1, 1, 1, 1, 1, 1, 1, 1, 1, 1, 1, 1, 1, 1, 1, 1, 1,\n",
        "       1, 1, 1, 1, 1, 1, 1, 1, 1, 1, 1, 1, 1, 1, 1, 1, 1, 1, 1, 1, 1, 1, 1,\n",
        "       1, 1, 1, 1, 1, 1, 1, 1, 1, 1, 1, 1, 1, 1, 1, 1, 1, 1, 1, 1, 1, 1, 1,\n",
        "       1, 1, 1, 1, 1, 1, 1, 1, 1, 1, 1, 1, 1, 1, 1, 1, 1, 1, 1, 1, 1, 1, 1,\n",
        "       1, 1, 1, 1, 1, 1, 1, 1, 1, 1, 1, 1, 1, 1, 1, 1, 1, 1, 1, 1, 1, 1, 1,\n",
        "       1, 1, 1, 1, 1, 1, 1, 1, 1, 1, 1, 1, 1, 1, 1, 1, 1, 1, 1, 1, 1, 1, 1,\n",
        "       1, 1, 1, 1, 1, 1, 1, 1, 1, 1, 1, 1, 1, 1, 1, 1, 0, 0, 0, 0, 0, 0, 0,\n",
        "       0, 0, 0, 0, 0, 0, 0, 0, 0, 0, 0, 0, 0, 0, 0, 0, 0, 0, 0, 0, 0, 0, 0,\n",
        "       0, 0, 0, 0, 0, 0, 0, 0, 0, 0, 0, 0, 0, 0, 0, 0, 0, 0, 0, 0], dtype=uint8)\n"
       ]
      },
      {
       "name": "stdout",
       "output_type": "stream",
       "stream": "stdout",
       "text": [
        "(Pdb) E\n"
       ]
      },
      {
       "output_type": "stream",
       "stream": "stdout",
       "text": [
        "array([0, 0, 0, 0, 0, 0, 0, 0, 0, 0, 0, 0, 0, 0, 0, 0, 0, 0, 0, 0, 0, 0, 0,\n",
        "       0, 0, 0, 0, 0, 0, 0, 0, 0, 0, 0, 0, 0, 0, 0, 0, 0, 0, 0, 0, 0, 0, 0,\n",
        "       0, 0, 0, 0, 0, 0, 0, 0, 0, 0, 0, 0, 0, 0, 0, 0, 0, 0, 0, 0, 0, 0, 0,\n",
        "       0, 0, 0, 0, 0, 0, 0, 0, 0, 0, 0, 0, 0, 0, 0, 0, 0, 0, 0, 0, 0, 0, 0,\n",
        "       0, 0, 0, 0, 0, 0, 0, 0, 1, 1, 1, 1, 1, 1, 1, 1, 1, 1, 1, 1, 1, 1, 1,\n",
        "       1, 1, 1, 1, 1, 1, 1, 1, 1, 1, 1, 1, 1, 1, 1, 1, 1, 1, 1, 1, 1, 1, 1,\n",
        "       1, 1, 1, 1, 1, 1, 1, 1, 1, 1, 1, 1, 1, 1, 1, 1, 1, 1, 1, 1, 1, 1, 1,\n",
        "       1, 1, 1, 1, 1, 1, 1, 1, 1, 1, 1, 1, 1, 1, 1, 1, 1, 1, 1, 1, 1, 1, 1,\n",
        "       1, 1, 1, 1, 1, 1, 1, 1, 1, 1, 1, 1, 1, 1, 1, 1, 0, 0, 0, 0, 0, 0, 0,\n",
        "       0, 0, 0, 0, 0, 0, 0, 0, 0, 0, 0, 0, 0, 0, 0, 0, 0, 0, 0, 0, 0, 0, 0,\n",
        "       0, 0, 0, 0, 0, 0, 0, 0, 0, 0, 0, 0, 0, 0, 0, 0, 0, 0, 0, 0], dtype=uint8)\n"
       ]
      },
      {
       "name": "stdout",
       "output_type": "stream",
       "stream": "stdout",
       "text": [
        "(Pdb) E.sum()\n"
       ]
      },
      {
       "output_type": "stream",
       "stream": "stdout",
       "text": [
        "100\n"
       ]
      },
      {
       "name": "stdout",
       "output_type": "stream",
       "stream": "stdout",
       "text": [
        "(Pdb) R.sum()\n"
       ]
      },
      {
       "output_type": "stream",
       "stream": "stdout",
       "text": [
        "200\n"
       ]
      },
      {
       "name": "stdout",
       "output_type": "stream",
       "stream": "stdout",
       "text": [
        "(Pdb) print \n"
       ]
      },
      {
       "output_type": "stream",
       "stream": "stdout",
       "text": [
        "\n"
       ]
      },
      {
       "ename": "RuntimeError",
       "evalue": "No mappable was found to use for colorbar creation. First define a mappable such as an image (with imshow) or a contour set (with contourf).",
       "output_type": "pyerr",
       "traceback": [
        "\u001b[1;31m---------------------------------------------------------------------------\u001b[0m\n\u001b[1;31mRuntimeError\u001b[0m                              Traceback (most recent call last)",
        "\u001b[1;32m<ipython-input-44-f047091d558b>\u001b[0m in \u001b[0;36m<module>\u001b[1;34m()\u001b[0m\n\u001b[0;32m     43\u001b[0m \u001b[0mf\u001b[0m\u001b[1;33m,\u001b[0m \u001b[0mp\u001b[0m\u001b[1;33m,\u001b[0m \u001b[0mr\u001b[0m \u001b[1;33m=\u001b[0m \u001b[0mevaluate_flat\u001b[0m\u001b[1;33m(\u001b[0m\u001b[0mf1\u001b[0m\u001b[1;33m,\u001b[0m \u001b[0mf2\u001b[0m\u001b[1;33m,\u001b[0m \u001b[1;36m3\u001b[0m\u001b[1;33m,\u001b[0m \u001b[0mtrim\u001b[0m\u001b[1;33m=\u001b[0m\u001b[0mtrim\u001b[0m\u001b[1;33m)\u001b[0m\u001b[1;33m\u001b[0m\u001b[0m\n\u001b[0;32m     44\u001b[0m \u001b[1;32mprint\u001b[0m \u001b[0mf\u001b[0m\u001b[1;33m*\u001b[0m\u001b[1;36m100\u001b[0m\u001b[1;33m,\u001b[0m \u001b[0mp\u001b[0m\u001b[1;33m*\u001b[0m\u001b[1;36m100\u001b[0m\u001b[1;33m,\u001b[0m \u001b[0mr\u001b[0m\u001b[1;33m*\u001b[0m\u001b[1;36m100\u001b[0m\u001b[1;33m\u001b[0m\u001b[0m\n\u001b[1;32m---> 45\u001b[1;33m \u001b[0mevaluate_bounds\u001b[0m\u001b[1;33m(\u001b[0m\u001b[0mf1\u001b[0m\u001b[1;33m,\u001b[0m \u001b[0mf2\u001b[0m\u001b[1;33m,\u001b[0m \u001b[1;34m\"Flat vs Flat\"\u001b[0m\u001b[1;33m)\u001b[0m\u001b[1;33m;\u001b[0m \u001b[0mplt\u001b[0m\u001b[1;33m.\u001b[0m\u001b[0mcolorbar\u001b[0m\u001b[1;33m(\u001b[0m\u001b[1;33m)\u001b[0m\u001b[1;33m,\u001b[0m \u001b[0mplt\u001b[0m\u001b[1;33m.\u001b[0m\u001b[0mshow\u001b[0m\u001b[1;33m(\u001b[0m\u001b[1;33m)\u001b[0m\u001b[1;33m\u001b[0m\u001b[0m\n\u001b[0m\u001b[0;32m     46\u001b[0m \u001b[1;33m\u001b[0m\u001b[0m\n\u001b[0;32m     47\u001b[0m \u001b[1;33m\u001b[0m\u001b[0m\n",
        "\u001b[1;32m/usr/local/lib/python2.7/dist-packages/matplotlib/pyplot.pyc\u001b[0m in \u001b[0;36mcolorbar\u001b[1;34m(mappable, cax, ax, **kw)\u001b[0m\n\u001b[0;32m   2112\u001b[0m         \u001b[0mmappable\u001b[0m \u001b[1;33m=\u001b[0m \u001b[0mgci\u001b[0m\u001b[1;33m(\u001b[0m\u001b[1;33m)\u001b[0m\u001b[1;33m\u001b[0m\u001b[0m\n\u001b[0;32m   2113\u001b[0m         \u001b[1;32mif\u001b[0m \u001b[0mmappable\u001b[0m \u001b[1;32mis\u001b[0m \u001b[0mNone\u001b[0m\u001b[1;33m:\u001b[0m\u001b[1;33m\u001b[0m\u001b[0m\n\u001b[1;32m-> 2114\u001b[1;33m             raise RuntimeError('No mappable was found to use for colorbar '\n\u001b[0m\u001b[0;32m   2115\u001b[0m                                \u001b[1;34m'creation. First define a mappable such as '\u001b[0m\u001b[1;33m\u001b[0m\u001b[0m\n\u001b[0;32m   2116\u001b[0m                                \u001b[1;34m'an image (with imshow) or a contour set ('\u001b[0m\u001b[1;33m\u001b[0m\u001b[0m\n",
        "\u001b[1;31mRuntimeError\u001b[0m: No mappable was found to use for colorbar creation. First define a mappable such as an image (with imshow) or a contour set (with contourf)."
       ]
      },
      {
       "metadata": {},
       "output_type": "display_data",
       "text": [
        "<matplotlib.figure.Figure at 0x3f61150>"
       ]
      }
     ],
     "prompt_number": 44
    },
    {
     "cell_type": "code",
     "collapsed": false,
     "input": [
      "T0 = tree.SegmentTree(\"test/tmp1.jams\", annotation_id=0)\n",
      "T1 = tree.SegmentTree(\"test/tmp2.jams\", annotation_id=0)"
     ],
     "language": "python",
     "metadata": {},
     "outputs": [],
     "prompt_number": 34
    },
    {
     "cell_type": "code",
     "collapsed": false,
     "input": [
      "import librosa"
     ],
     "language": "python",
     "metadata": {},
     "outputs": [],
     "prompt_number": 36
    },
    {
     "cell_type": "code",
     "collapsed": false,
     "input": [
      "librosa.display.specshow(lca_matrix(T0))\n",
      "plt.colorbar()\n",
      "#print lca_matrix(T1)"
     ],
     "language": "python",
     "metadata": {},
     "outputs": [
      {
       "metadata": {},
       "output_type": "pyout",
       "prompt_number": 37,
       "text": [
        "<matplotlib.colorbar.Colorbar instance at 0x3ee63f8>"
       ]
      },
      {
       "metadata": {},
       "output_type": "display_data",
       "png": "[encoded data removed]",
       "text": [
        "<matplotlib.figure.Figure at 0x3e211d0>"
       ]
      }
     ],
     "prompt_number": 37
    }
   ],
   "metadata": {}
  }
 ]
}

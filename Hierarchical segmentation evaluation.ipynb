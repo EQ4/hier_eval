{
 "metadata": {
  "name": ""
 },
 "nbformat": 3,
 "nbformat_minor": 0,
 "worksheets": [
  {
   "cells": [
    {
     "cell_type": "markdown",
     "metadata": {},
     "source": [
      "# Intro: Music segmentation\n",
      "\n",
      "Let $X \\in \\mathbb{R}^{d\\times t}$ denote a time series of feature data, where $d$ denotes the dimension of features, and $t$ is a time index at some fixed resolution (say, 10Hz).  Existing approaches to music segmentation suppose that there is a single partitioning into $m$ temporally contiguous regions, so that $X=[X_0|X_1|\\cdots|X_m]$.\n",
      "\n",
      "Instead, we will suppose that $X$ can be hierarchically decomposed into a tree structure.  In this view, we have segmentations at multiple resolutions or levels of granularity.  The question now is how to evaluate with or against tree-structured segmentation.\n",
      "\n",
      "## Notation\n",
      "\n",
      "Let $S \\in \\mathcal{P}(X)$ denote a partitioning of the columns of $X$.  We will use the subscripts $S_R$ and $S_E$ to denote *reference* and *estimation*, respectively.  $S(i)$ will denote the identifier of the partition containing item $i$.\n",
      "\n",
      "Hierarchical segmentations will be denoted by $H$ following the subscript conventions above, and the restriction that $H(i)$ denotes the most specific segment containing $i$.  \n",
      "\n",
      "$H(i, j)$ will denote the least common ancestor of $H(i)$ and $H(j)$.  We will denote precedence (containment) of segments by $\\prec$ and $\\preceq$ e.g., $H(i) \\preceq H(i, j)$.  In general, we can interpret $H(\\cdot, \\cdot)$ as a partial order over pairs: not all pairs are comparable, e.g., if $H(a) = H(b)$.  Restricting to a query frame $q$, $H(q, \\cdot)$ induces a partial ranking over the remaining data, in that for all $i, j$.  This will be the key to our evaluation.\n",
      "\n",
      "\n",
      "# Reduction to ranking\n",
      "\n",
      "Observe that flat segmentations are a special case of hierarchical segmentations, where there is one node at the root of the hierarchy containing all frames, and then $m$ segments at the next level down which partition $X$.\n",
      "\n",
      "We can reduce segmentation evaluation to a ranking evaluation problem as follows.  Let $q$ denote any frame/column of $X$, and let $i$ and $j$ denote any two frames such that $S_R(q) = S_R(i)$ and $S_R(q) \\neq S_R(j)$.  In this case, $i$ may be considered *relevant* for $q$, and $j$ is considered *irrelevant* for $q$.  This leads to a straightforward reduction to bipartite ranking, and induces an AUC-style evaluation:\n",
      "\n",
      "$$\n",
      "f(q ; S_E) := \\frac{1}{|S_R(q)|\\cdot (n - |S_R(q)|)} \\sum_{i \\in S_R(q)} \\sum_{j \\notin S_R(q)}  \\mathbb{I}\\left[ S_E(q) = S_E(i) \\neq S_E(j) \\right]\n",
      "$$\n",
      "\n",
      "That is, the score for frame $q$ is the fraction of pairs $(i, j)$ for which $S_E$ agrees with $S_R$ about relevants with respect to $q$ (i.e., membership in the segment).\n",
      "\n",
      "Averaging over all $q$ gives the AUC score\n",
      "\n",
      "$$\n",
      "AUC(S_E) := \\frac{1}{n} \\sum_q f(q ; S_E)\n",
      "$$\n",
      "\n",
      "## Partial ranking\n",
      "\n",
      "Note that $f$ is defined in terms of membership (in)equalities.  In the flat case, we can equivalently reason about strict precedences.  Rather than compare $i$ and $j$ where $S(q) = S(i) \\neq S(j)$, we can express this as $H(q, i) \\prec H(q, j)$.  That is, $q$ and $i$ merge before $q$ and $j$:\n",
      "\n",
      "$$\n",
      "g(q ; H_E) := \\frac{1}{Z_q} \\sum_{i,j : H_R(q, i) \\prec H_R(q, j)}  \\mathbb{I}\\left[ H_E(q, i) \\prec H_E(q, j) \\right]\n",
      "$$\n",
      "where $Z_q$ is a normalization term that counts the number of terms in the summation.\n",
      "\n",
      "$g$ can be viewed as a generalized AUC over the partial ranking induced by the hierarchical segmentation.  Note that the precedence comparisons here are strict, so we never compare two $i$ and $j$ that merge simultaneously with $q$.\n",
      "\n",
      "Aggregating over all frames $q$, we get the following *generalized AUC*:\n",
      "\n",
      "$$\n",
      "GAUC(H_E) := \\frac{1}{n} \\sum_q g(q ; S_E)\n",
      "$$\n",
      "\n",
      "Note, this loss is equivalent to that evaluated by (McFee & Lanckriet, 2011) for subjective artist similarity.  The difference here is that the reference rankings are induced from ordinal data, and not subject to consistency errors.\n",
      "\n",
      "# Extensions\n",
      "\n",
      "The general approach described above can be adapted in various ways to suit different needs.\n",
      "\n",
      "## Transitivity\n",
      "For instance, it may be advantageous to only compare $i$ and $j$ only when $H(q, j)$ is the parent of $H(q, i)$.  This amounts to evaluating the *transitive reduction* of the partial ranking $H(q, \\cdot)$, and the net effect is that redundant comparisons which would be implied via transitivity cannot inflate the score.\n",
      "\n",
      "## Gain\n",
      "Another extension would be to apply a *gain* correction to each level in the hierarchy, so that comparisons spanning greater distances in the tree contribute less to the score.  This would be analogous to the *normalized discounted cumulative gain* metric for information retrieval, which discounts contributions far down the ranking where users are less likely to click.  Typically, in ranking, a cutoff parameter $k$ is introduced so that results at positions beyond $k$ do not contribute to the score.  \n",
      "\n",
      "In segment eval, gain and cutoff parameters would amount to discounting and/or lower-bounding the depth of comparisons.  One may expect that near the root of the hierarchy, there is so little information that it would be meaningless to include comparisons (or give them much weight).\n"
     ]
    },
    {
     "cell_type": "code",
     "collapsed": false,
     "input": [
      "import os\n",
      "import sys\n",
      "import mir_eval\n",
      "import numpy as np\n",
      "\n",
      "# And the tree module\n",
      "sys.path.append('%s/git/hier_eval/' % os.environ['HOME'])\n",
      "import tree"
     ],
     "language": "python",
     "metadata": {},
     "outputs": [],
     "prompt_number": 1
    },
    {
     "cell_type": "code",
     "collapsed": false,
     "input": [
      "def round_time(t, res=0.1):\n",
      "    \n",
      "    v = int(t / float(res)) * res\n",
      "    return v\n",
      "\n",
      "def lca_matrix(tree, res=0.1):\n",
      "    '''\n",
      "    Input: a segment tree\n",
      "    Output: an n-by-n integer matrix indicating the height of the least common ancestor of each pair of frames (i, j)\n",
      "    '''\n",
      "    \n",
      "    # Figure out how many frames we need\n",
      "    n = int((round_time(tree.root.segment.end, res=res) - round_time(tree.root.segment.start, res=res) ) / res)\n",
      "    \n",
      "    # Build a mapping of level->height\n",
      "    height_map = {}\n",
      "    \n",
      "    # Initialize the LCA matrix\n",
      "    H = np.zeros( (n, n), dtype=np.uint8)\n",
      "    \n",
      "    # Breadth-first traversal of the tree\n",
      "    queue = [tree.root]\n",
      "    while queue:\n",
      "        node = queue.pop(0)\n",
      "        \n",
      "        # Get the node's level\n",
      "        if node.parent is not None:\n",
      "            height_map[node] = 1 + height_map[node.parent]\n",
      "        else:\n",
      "            height_map[node] = 0\n",
      "        \n",
      "        s = int(round_time(node.segment.start, res=res) / res)\n",
      "        t = int(round_time(node.segment.end, res=res) / res)\n",
      "        \n",
      "        H[s:t, s:t] = height_map[node]\n",
      "        \n",
      "        queue.extend(node.children)\n",
      "\n",
      "    return H\n",
      "\n",
      "def tree_gauc(T_ref, T_est, res=0.1, window=None):\n",
      "    \n",
      "    # First, build the LCA matrices\n",
      "    H_ref = lca_matrix(T_ref, res=res)\n",
      "    H_est = lca_matrix(T_est, res=res)\n",
      "    \n",
      "    # Make sure we have the right number of frames\n",
      "    assert H_ref.shape == H_est.shape\n",
      "    \n",
      "    # How many frames?\n",
      "    n = H_ref.shape[0]\n",
      "    \n",
      "    # By default, the window covers the entire track\n",
      "    if window is None:\n",
      "        window = n\n",
      "    \n",
      "    # Initialize the score\n",
      "    score = 0.0\n",
      "    \n",
      "    # Iterate over query frames\n",
      "    n_f = 0\n",
      "    for q in range(n):\n",
      "        \n",
      "        # Find all pairs i,j such that H_ref[q, i] > H_ref[q, j]\n",
      "        R = H_ref[q, max(0, q-window):min(n, q+window)]\n",
      "        S_ref = np.greater.outer(R, R)\n",
      "        \n",
      "        # And the same for the estimation\n",
      "        E = H_est[q, max(0, q-window):min(n, q+window)]\n",
      "        S_est = np.greater.outer(E, E)\n",
      "        \n",
      "        # Don't count (q,q) as a result\n",
      "        idx = min(q, window)\n",
      "        S_ref[idx, :] = False\n",
      "        S_ref[:, idx] = False\n",
      "        \n",
      "        # Compute normalization constant\n",
      "        Z = float(S_ref.sum())\n",
      "        \n",
      "        # Add up agreement for frames\n",
      "        if Z > 0:\n",
      "            score = score + np.sum(np.logical_and(S_ref, S_est)) / Z\n",
      "            n_f += 1.0\n",
      "    \n",
      "    \n",
      "    if n_f:\n",
      "        return score / n_f\n",
      "    \n",
      "    # Convention: 0/0 = 0\n",
      "    return score"
     ],
     "language": "python",
     "metadata": {},
     "outputs": [],
     "prompt_number": 2
    },
    {
     "cell_type": "code",
     "collapsed": false,
     "input": [
      "T0 = tree.SegmentTree(\"test/SALAMI_636.jams\", annotation_id=0)\n",
      "T1 = tree.SegmentTree(\"test/SALAMI_636.jams\", annotation_id=1)"
     ],
     "language": "python",
     "metadata": {},
     "outputs": [],
     "prompt_number": 2
    },
    {
     "cell_type": "code",
     "collapsed": false,
     "input": [
      "H0 = lca_matrix(T0)\n",
      "H1 = lca_matrix(T1)"
     ],
     "language": "python",
     "metadata": {},
     "outputs": [],
     "prompt_number": 67
    },
    {
     "cell_type": "code",
     "collapsed": false,
     "input": [
      "figure(figsize=(10,6))\n",
      "subplot(121)\n",
      "imshow(H0, aspect='equal', interpolation='nearest', cmap='gray_r')\n",
      "title('T0')\n",
      "subplot(122)\n",
      "imshow(H1, aspect='equal', interpolation='nearest', cmap='gray_r')\n",
      "title('T1')\n",
      "tight_layout()"
     ],
     "language": "python",
     "metadata": {},
     "outputs": [
      {
       "metadata": {},
       "output_type": "display_data",
       "png": "[encoded data removed]",
       "text": [
        "<matplotlib.figure.Figure at 0x493a1d0>"
       ]
      }
     ],
     "prompt_number": 68
    },
    {
     "cell_type": "code",
     "collapsed": false,
     "input": [
      "# 10Hz sampling\n",
      "res = 1.0/10\n",
      "\n",
      "for ws in [0.5, 3.0, 15.0, 30, 45.0, None]:\n",
      "    if ws is None:\n",
      "        w = None\n",
      "    else:\n",
      "        w = int(ws / res)\n",
      "    print 'Window: +-%0.2fs' % (0 if ws is None else ws)\n",
      "    print '\\tRef=T0, Est=T1: %0.3f' % tree_gauc(T0, T1, res=res, window=w)\n",
      "    print '\\tRef=T1, Est=T0: %0.3f' % tree_gauc(T1, T0, res=res, window=w)\n",
      "    print '\\tRef=T0, Est=T0: %0.3f' % tree_gauc(T0, T0, res=res, window=w)"
     ],
     "language": "python",
     "metadata": {},
     "outputs": [
      {
       "output_type": "stream",
       "stream": "stdout",
       "text": [
        "Window: +-0.50s\n",
        "\tRef=T0, Est=T1: 0.824"
       ]
      },
      {
       "output_type": "stream",
       "stream": "stdout",
       "text": [
        "\n",
        "\tRef=T1, Est=T0: 0.799"
       ]
      },
      {
       "output_type": "stream",
       "stream": "stdout",
       "text": [
        "\n",
        "\tRef=T0, Est=T0: 1.000"
       ]
      },
      {
       "output_type": "stream",
       "stream": "stdout",
       "text": [
        "\n",
        "Window: +-3.00s\n",
        "\tRef=T0, Est=T1: 0.963"
       ]
      },
      {
       "output_type": "stream",
       "stream": "stdout",
       "text": [
        "\n",
        "\tRef=T1, Est=T0: 0.933"
       ]
      },
      {
       "output_type": "stream",
       "stream": "stdout",
       "text": [
        "\n",
        "\tRef=T0, Est=T0: 1.000"
       ]
      },
      {
       "output_type": "stream",
       "stream": "stdout",
       "text": [
        "\n",
        "Window: +-15.00s\n",
        "\tRef=T0, Est=T1: 0.804"
       ]
      },
      {
       "output_type": "stream",
       "stream": "stdout",
       "text": [
        "\n",
        "\tRef=T1, Est=T0: 0.820"
       ]
      },
      {
       "output_type": "stream",
       "stream": "stdout",
       "text": [
        "\n",
        "\tRef=T0, Est=T0: 1.000"
       ]
      },
      {
       "output_type": "stream",
       "stream": "stdout",
       "text": [
        "\n",
        "Window: +-30.00s\n",
        "\tRef=T0, Est=T1: 0.706"
       ]
      },
      {
       "output_type": "stream",
       "stream": "stdout",
       "text": [
        "\n",
        "\tRef=T1, Est=T0: 0.873"
       ]
      },
      {
       "output_type": "stream",
       "stream": "stdout",
       "text": [
        "\n",
        "\tRef=T0, Est=T0: 1.000"
       ]
      },
      {
       "output_type": "stream",
       "stream": "stdout",
       "text": [
        "\n",
        "Window: +-45.00s\n",
        "\tRef=T0, Est=T1: 0.690"
       ]
      },
      {
       "output_type": "stream",
       "stream": "stdout",
       "text": [
        "\n",
        "\tRef=T1, Est=T0: 0.918"
       ]
      },
      {
       "output_type": "stream",
       "stream": "stdout",
       "text": [
        "\n",
        "\tRef=T0, Est=T0: 1.000"
       ]
      },
      {
       "output_type": "stream",
       "stream": "stdout",
       "text": [
        "\n",
        "Window: +-0.00s\n",
        "\tRef=T0, Est=T1: 0.675"
       ]
      },
      {
       "output_type": "stream",
       "stream": "stdout",
       "text": [
        "\n",
        "\tRef=T1, Est=T0: 0.972"
       ]
      },
      {
       "output_type": "stream",
       "stream": "stdout",
       "text": [
        "\n",
        "\tRef=T0, Est=T0: 1.000"
       ]
      },
      {
       "output_type": "stream",
       "stream": "stdout",
       "text": [
        "\n"
       ]
      }
     ],
     "prompt_number": 9
    },
    {
     "cell_type": "code",
     "collapsed": false,
     "input": [
      "import mir_eval\n",
      "level = \"large_scale\"\n",
      "bounds0, labels0 = mir_eval.input_output.load_jams_range(\n",
      "                            \"test/SALAMI_636.jams\", \"sections\", annotator=0, context=level)\n",
      "bounds1, labels1 = mir_eval.input_output.load_jams_range(\n",
      "                            \"test/SALAMI_636.jams\", \"sections\", annotator=1, context=level)\n",
      "P, R, F = mir_eval.segment.boundary_detection(bounds0,\n",
      "                                    bounds1, window=0.5, trim=True)\n",
      "print \"F-measure 0.5 seconds: Ref=A0, Est=A1:\\n\\tF=%.3f, P=%.3f, R=%.3f\\n\\tlevel: %s\" % (F, P, R, level)\n",
      "P, R, F = mir_eval.segment.boundary_detection(bounds1,\n",
      "                                    bounds0, window=0.5, trim=True)\n",
      "print \"F-measure 0.5 seconds: Ref=A1, Est=A0:\\n\\tF=%.3f, P=%.3f, R=%.3f\\n\\tlevel: %s\" % (F, P, R, level)\n"
     ],
     "language": "python",
     "metadata": {},
     "outputs": [
      {
       "output_type": "stream",
       "stream": "stdout",
       "text": [
        "F-measure 0.5 seconds: Ref=A0, Est=A1:\n",
        "\tF=0.769, P=0.625, R=1.000\n",
        "\tlevel: large_scale\n",
        "F-measure 0.5 seconds: Ref=A1, Est=A0:\n",
        "\tF=0.769, P=1.000, R=0.625\n",
        "\tlevel: large_scale\n"
       ]
      }
     ],
     "prompt_number": 35
    },
    {
     "cell_type": "code",
     "collapsed": false,
     "input": [],
     "language": "python",
     "metadata": {},
     "outputs": []
    }
   ],
   "metadata": {}
  }
 ]
}
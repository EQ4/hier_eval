{
 "metadata": {
  "name": "",
  "signature": "sha256:03d1eed25d45b7ddc884d8aa7815b6ff410bbf6be37f5e07e52885ff5fa1a5e2"
 },
 "nbformat": 3,
 "nbformat_minor": 0,
 "worksheets": [
  {
   "cells": [
    {
     "cell_type": "markdown",
     "metadata": {},
     "source": [
      "# Intro: Music segmentation\n",
      "\n",
      "Let $X \\in \\mathbb{R}^{d\\times t}$ denote a time series of feature data, where $d$ denotes the dimension of features, and $t$ is a time index at some fixed resolution (say, 10Hz).  Existing approaches to music segmentation suppose that there is a single partitioning into $m$ temporally contiguous regions, so that $X=[X_0|X_1|\\cdots|X_m]$.\n",
      "\n",
      "Instead, we will suppose that $X$ can be hierarchically decomposed into a tree structure.  In this view, we have segmentations at multiple resolutions or levels of granularity.  The question now is how to evaluate with or against tree-structured segmentation.\n",
      "\n",
      "## Notation\n",
      "\n",
      "Let $S \\in \\mathcal{P}(X)$ denote a partitioning of the columns of $X$.  We will use the subscripts $S_R$ and $S_E$ to denote *reference* and *estimation*, respectively.  $S(i)$ will denote the identifier of the partition containing item $i$.\n",
      "\n",
      "Hierarchical segmentations will be denoted by $H$ following the subscript conventions above, and the restriction that $H(i)$ denotes the most specific segment containing $i$.  \n",
      "\n",
      "$H(i, j)$ will denote the least common ancestor of $H(i)$ and $H(j)$.  We will denote precedence (containment) of segments by $\\prec$ and $\\preceq$ e.g., $H(i) \\preceq H(i, j)$.  In general, we can interpret $H(\\cdot, \\cdot)$ as a partial order over pairs: not all pairs are comparable, e.g., if $H(a) = H(b)$.  Restricting to a query frame $q$, $H(q, \\cdot)$ induces a partial ranking over the remaining data, in that for all $i, j$.  This will be the key to our evaluation.\n",
      "\n",
      "\n",
      "# Reduction to ranking\n",
      "\n",
      "Observe that flat segmentations are a special case of hierarchical segmentations, where there is one node at the root of the hierarchy containing all frames, and then $m$ segments at the next level down which partition $X$.\n",
      "\n",
      "We can reduce segmentation evaluation to a ranking evaluation problem as follows.  Let $q$ denote any frame/column of $X$, and let $i$ and $j$ denote any two frames such that $S_R(q) = S_R(i)$ and $S_R(q) \\neq S_R(j)$.  In this case, $i$ may be considered *relevant* for $q$, and $j$ is considered *irrelevant* for $q$.  This leads to a straightforward reduction to bipartite ranking, and induces an AUC-style evaluation:\n",
      "\n",
      "$$\n",
      "f(q ; S_E) := \\frac{1}{|S_R(q)|\\cdot (n - |S_R(q)|)} \\sum_{i \\in S_R(q)} \\sum_{j \\notin S_R(q)}  \\mathbb{I}\\left[ S_E(q) = S_E(i) \\neq S_E(j) \\right]\n",
      "$$\n",
      "\n",
      "That is, the score for frame $q$ is the fraction of pairs $(i, j)$ for which $S_E$ agrees with $S_R$ about relevants with respect to $q$ (i.e., membership in the segment).\n",
      "\n",
      "Averaging over all $q$ gives the AUC score\n",
      "\n",
      "$$\n",
      "AUC(S_E) := \\frac{1}{n} \\sum_q f(q ; S_E)\n",
      "$$\n",
      "\n",
      "## Partial ranking\n",
      "\n",
      "Note that $f$ is defined in terms of membership (in)equalities.  In the flat case, we can equivalently reason about strict precedences.  Rather than compare $i$ and $j$ where $S(q) = S(i) \\neq S(j)$, we can express this as $H(q, i) \\prec H(q, j)$.  That is, $q$ and $i$ merge before $q$ and $j$:\n",
      "\n",
      "$$\n",
      "g(q ; H_E) := \\frac{1}{Z_q} \\sum_{i,j : H_R(q, i) \\prec H_R(q, j)}  \\mathbb{I}\\left[ H_E(q, i) \\prec H_E(q, j) \\right]\n",
      "$$\n",
      "where $Z_q$ is a normalization term that counts the number of terms in the summation.\n",
      "\n",
      "$g$ can be viewed as a generalized AUC over the partial ranking induced by the hierarchical segmentation.  Note that the precedence comparisons here are strict, so we never compare two $i$ and $j$ that merge simultaneously with $q$.\n",
      "\n",
      "Aggregating over all frames $q$, we get the following *generalized AUC*:\n",
      "\n",
      "$$\n",
      "GAUC(H_E) := \\frac{1}{n} \\sum_q g(q ; S_E)\n",
      "$$\n",
      "\n",
      "Note, this loss is equivalent to that evaluated by (McFee & Lanckriet, 2011) for subjective artist similarity.  The difference here is that the reference rankings are induced from ordinal data, and not subject to consistency errors.\n",
      "\n",
      "# Extensions\n",
      "\n",
      "The general approach described above can be adapted in various ways to suit different needs.\n",
      "\n",
      "## Transitivity\n",
      "For instance, it may be advantageous to only compare $i$ and $j$ only when $H(q, j)$ is the parent of $H(q, i)$.  This amounts to evaluating the *transitive reduction* of the partial ranking $H(q, \\cdot)$, and the net effect is that redundant comparisons which would be implied via transitivity cannot inflate the score.\n",
      "\n",
      "This can be implemented easily by altering the reference summation.  Instead of comparing all $i, j$ where $H(q, i) \\prec H(q, j)$, we only count terms where $H(q, i) = 1 + H(q, j)$.\n",
      "\n",
      "## Gain\n",
      "Another extension would be to apply a *gain* correction to each level in the hierarchy, so that comparisons spanning greater distances in the tree contribute less to the score.  This would be analogous to the *normalized discounted cumulative gain* metric for information retrieval, which discounts contributions far down the ranking where users are less likely to click.  Typically, in ranking, a cutoff parameter $k$ is introduced so that results at positions beyond $k$ do not contribute to the score.  \n",
      "\n",
      "In segment eval, gain and cutoff parameters would amount to discounting and/or lower-bounding the depth of comparisons.  One may expect that near the root of the hierarchy, there is so little information that it would be meaningless to include comparisons (or give them much weight).\n"
     ]
    },
    {
     "cell_type": "code",
     "collapsed": false,
     "input": [
      "%cd ~/git/hier_eval/"
     ],
     "language": "python",
     "metadata": {},
     "outputs": [
      {
       "output_type": "stream",
       "stream": "stdout",
       "text": [
        "/home/bmcfee/git/hier_eval\n"
       ]
      }
     ],
     "prompt_number": 1
    },
    {
     "cell_type": "code",
     "collapsed": false,
     "input": [
      "import os\n",
      "import sys\n",
      "import mir_eval\n",
      "import numpy as np\n",
      "\n",
      "# And the tree module\n",
      "import tree"
     ],
     "language": "python",
     "metadata": {},
     "outputs": [],
     "prompt_number": 1
    },
    {
     "cell_type": "code",
     "collapsed": false,
     "input": [
      "def round_time(t, res=0.1):\n",
      "    v = int(t / float(res)) * res\n",
      "    return v\n",
      "\n",
      "def lca_matrix(tree, res=0.1):\n",
      "    '''\n",
      "    Input: a segment tree\n",
      "    Output: an n-by-n integer matrix indicating the height of the least common ancestor of each pair of frames (i, j)\n",
      "    '''\n",
      "    \n",
      "    # Figure out how many frames we need\n",
      "    n = int((round_time(tree.root.segment.end, res=res) - round_time(tree.root.segment.start, res=res) ) / res)\n",
      "    \n",
      "    # Build a mapping of level->height\n",
      "    height_map = {}\n",
      "    \n",
      "    # Initialize the LCA matrix\n",
      "    H = np.zeros( (n, n), dtype=np.uint8)\n",
      "    \n",
      "    # Breadth-first traversal of the tree\n",
      "    queue = [tree.root]\n",
      "    while queue:\n",
      "        node = queue.pop(0)\n",
      "        \n",
      "        # Get the node's level\n",
      "        if node.parent is not None:\n",
      "            height_map[node] = 1 + height_map[node.parent]\n",
      "        else:\n",
      "            height_map[node] = 0\n",
      "        \n",
      "        s = int(round_time(node.segment.start, res=res) / res)\n",
      "        t = int(round_time(node.segment.end, res=res) / res)\n",
      "        \n",
      "        H[s:t, s:t] = height_map[node]\n",
      "        \n",
      "        queue.extend(node.children)\n",
      "\n",
      "    return H\n",
      "\n",
      "def tree_gauc(T_ref, T_est, res=0.1, window=None, transitive=False):\n",
      "    \n",
      "    # First, build the LCA matrices\n",
      "    H_ref = lca_matrix(T_ref, res=res)\n",
      "    H_est = lca_matrix(T_est, res=res)\n",
      "    \n",
      "    # Make sure we have the right number of frames\n",
      "    assert H_ref.shape == H_est.shape\n",
      "    \n",
      "    # How many frames?\n",
      "    n = H_ref.shape[0]\n",
      "    \n",
      "    # By default, the window covers the entire track\n",
      "    if window is None:\n",
      "        window = n\n",
      "    \n",
      "    # Initialize the score\n",
      "    score = 0.0\n",
      "    \n",
      "    # Iterate over query frames\n",
      "    n_f = 0\n",
      "    \n",
      "    for q in range(n):\n",
      "        \n",
      "#         if q % 100 == 0:\n",
      "#             import pdb; pdb.set_trace()\n",
      "        \n",
      "        # Find all pairs i,j such that H_ref[q, i] > H_ref[q, j]\n",
      "        R = H_ref[q, max(0, q-window):min(n, q+window)]\n",
      "        \n",
      "        # And the same for the estimation\n",
      "        E = H_est[q, max(0, q-window):min(n, q+window)]\n",
      "        \n",
      "        if transitive:\n",
      "            # Transitive: count comparisons across any level\n",
      "            S_ref = np.greater.outer(R, R)\n",
      "        else:\n",
      "            # Non-transitive: count comparisons only across immediate levels\n",
      "            S_ref = np.equal.outer(R, R+1)\n",
      "            \n",
      "        S_est = np.greater.outer(E, E)\n",
      "        \n",
      "        # Don't count (q,q) as a result\n",
      "        idx = min(q, window)\n",
      "        S_ref[idx, :] = False\n",
      "        S_ref[:, idx] = False\n",
      "        \n",
      "        # Compute normalization constant\n",
      "        Z = float(S_ref.sum())\n",
      "        \n",
      "        # Add up agreement for frames\n",
      "        if Z > 0:\n",
      "            score += np.sum(np.logical_and(S_ref, S_est)) / Z\n",
      "            n_f += 1.0\n",
      "    \n",
      "    \n",
      "    if n_f:\n",
      "        return score / n_f\n",
      "    \n",
      "    # Convention: 0/0 = 0\n",
      "    return score"
     ],
     "language": "python",
     "metadata": {},
     "outputs": [],
     "prompt_number": 82
    },
    {
     "cell_type": "code",
     "collapsed": false,
     "input": [
      "def draw_tree(T):\n",
      "    \n",
      "    H = lca_matrix(T)\n",
      "    \n",
      "    n = len(H)\n",
      "    \n",
      "    # Find the grid points\n",
      "    idx = np.squeeze(np.argwhere(np.sum(np.abs(np.diff(H, axis=0)), axis=1) > 0)) + 1\n",
      "    \n",
      "    imshow(H, aspect='equal', interpolation='nearest', cmap='hot_r', extent=[0, len(H), len(H), 0])\n",
      "    \n",
      "    vlines(idx, 0, n, colors='k', alpha=0.15)\n",
      "    hlines(idx, 0, n, colors='k', alpha=0.15)\n",
      "    \n",
      "    sr = 10\n",
      "    plt.xticks(np.arange(0, len(H), len(H)/4), np.arange(0, len(H), len(H)/4) / float(10))\n",
      "    plt.yticks(np.arange(0, len(H), len(H)/4), np.arange(0, len(H), len(H)/4) / float(10))\n",
      "    plt.xlabel('Duration (seconds)')"
     ],
     "language": "python",
     "metadata": {},
     "outputs": [],
     "prompt_number": 54
    },
    {
     "cell_type": "code",
     "collapsed": false,
     "input": [
      "def eval_trees(Ref, Est, transitive=False, main_title=\"\"):\n",
      "    \n",
      "    plt.figure(1, figsize=(6, 3), dpi=120, facecolor='w', edgecolor='k')\n",
      "    \n",
      "    subplot(121)\n",
      "    draw_tree(Ref)\n",
      "    title('Reference')\n",
      "    plt.ylabel('Duration (seconds)')\n",
      "    \n",
      "    subplot(122)\n",
      "    draw_tree(Est)\n",
      "    title('Estimation')\n",
      "    \n",
      "    plt.suptitle(main_title)\n",
      "    plt.gcf().subplots_adjust(wspace=0.3)\n",
      "    \n",
      "    show()\n",
      "    \n",
      "    # 10Hz sampling\n",
      "    res = 1.0/10\n",
      "\n",
      "    for ws in [0.5, 3.0, 15, 30, None]:\n",
      "        if ws is None:\n",
      "            w = None\n",
      "        else:\n",
      "            w = int(ws / res)\n",
      "        print 'Window: +-%0.2fs' % (0 if ws is None else ws)\n",
      "        print '\\tRef=T0, Est=T1: %0.4f' % tree_gauc(Ref, Est, res=res, window=w, transitive=transitive)\n",
      "        print '\\tRef=T1, Est=T0: %0.4f' % tree_gauc(Est, Ref, res=res, window=w, transitive=transitive)"
     ],
     "language": "python",
     "metadata": {},
     "outputs": [],
     "prompt_number": 55
    },
    {
     "cell_type": "code",
     "collapsed": false,
     "input": [
      "# Tree to tree, predicted\n",
      "\n",
      "T0 = tree.SegmentTree(\"test/SALAMI_636.jams\", annotation_id=0)\n",
      "T1 = tree.SegmentTree(\"test/SALAMI_636_OLDA.jams\", annotation_id=0)\n",
      "eval_trees(T0, T1, transitive=False, main_title=\"SALAMI 636 vs OLDA\")"
     ],
     "language": "python",
     "metadata": {},
     "outputs": [
      {
       "output_type": "stream",
       "stream": "stdout",
       "text": [
        "Window: +-0.50s\n",
        "\tRef=T0, Est=T1: 0.1428"
       ]
      },
      {
       "output_type": "stream",
       "stream": "stdout",
       "text": [
        "\n",
        "\tRef=T1, Est=T0: 1.0000"
       ]
      },
      {
       "output_type": "stream",
       "stream": "stdout",
       "text": [
        "\n",
        "Window: +-3.00s\n",
        "\tRef=T0, Est=T1: 0.1984"
       ]
      },
      {
       "output_type": "stream",
       "stream": "stdout",
       "text": [
        "\n",
        "\tRef=T1, Est=T0: 0.9991"
       ]
      },
      {
       "output_type": "stream",
       "stream": "stdout",
       "text": [
        "\n",
        "Window: +-15.00s\n",
        "\tRef=T0, Est=T1: 0.3322"
       ]
      },
      {
       "output_type": "stream",
       "stream": "stdout",
       "text": [
        "\n",
        "\tRef=T1, Est=T0: 0.5613"
       ]
      },
      {
       "output_type": "stream",
       "stream": "stdout",
       "text": [
        "\n",
        "Window: +-30.00s\n",
        "\tRef=T0, Est=T1: 0.3720"
       ]
      },
      {
       "output_type": "stream",
       "stream": "stdout",
       "text": [
        "\n",
        "\tRef=T1, Est=T0: 0.5312"
       ]
      },
      {
       "output_type": "stream",
       "stream": "stdout",
       "text": [
        "\n",
        "Window: +-0.00s\n",
        "\tRef=T0, Est=T1: 0.3736"
       ]
      },
      {
       "output_type": "stream",
       "stream": "stdout",
       "text": [
        "\n",
        "\tRef=T1, Est=T0: 0.1639"
       ]
      },
      {
       "output_type": "stream",
       "stream": "stdout",
       "text": [
        "\n"
       ]
      }
     ],
     "prompt_number": 56
    },
    {
     "cell_type": "code",
     "collapsed": false,
     "input": [
      "# Flat to tree, large scale\n",
      "\n",
      "T0 = tree.SegmentTree(\"test/SALAMI_636.jams\", annotation_id=0)\n",
      "T1 = tree.SegmentTree(\"test/SALAMI_636_OLDA.jams\", annotation_id=0)\n",
      "\n",
      "T0.collapse_to_level(level='large_scale')\n",
      "T0.prune_to_level(level='large_scale')\n",
      "\n",
      "print T1\n",
      "\n",
      "# eval_trees(T0, T1, transitive=False)"
     ],
     "language": "python",
     "metadata": {},
     "outputs": [
      {
       "output_type": "stream",
       "stream": "stdout",
       "text": [
        "Segment at 0x10b678190:\n",
        "\tstart:\t0.00\n",
        "\tend:\t187.79\n",
        "\tlabel:\tall\n",
        "\tlevel: root\n",
        "Segment at 0x10b6dded0:\n",
        "\tstart:\t0.00\n",
        "\tend:\t5.46\n",
        "\tlabel:\t0\n",
        "\tlevel: level_004\n",
        "Segment at 0x108ed3150:\n",
        "\tstart:\t0.00\n",
        "\tend:\t5.46\n",
        "\tlabel:\t0\n",
        "\tlevel: level_005\n",
        "Segment at 0x107178050:\n",
        "\tstart:\t0.00\n",
        "\tend:\t5.46\n",
        "\tlabel:\t0\n",
        "\tlevel: level_006\n",
        "Segment at 0x10719ce50:\n",
        "\tstart:\t0.00\n",
        "\tend:\t5.46\n",
        "\tlabel:\t0\n",
        "\tlevel: level_007\n",
        "Segment at 0x108eacb90:\n",
        "\tstart:\t0.00\n",
        "\tend:\t5.46\n",
        "\tlabel:\t0\n",
        "\tlevel: level_008\n",
        "Segment at 0x10b694190:\n",
        "\tstart:\t0.00\n",
        "\tend:\t5.46\n",
        "\tlabel:\t0\n",
        "\tlevel: level_009\n",
        "Segment at 0x10714da50:\n",
        "\tstart:\t0.00\n",
        "\tend:\t0.49\n",
        "\tlabel:\t0\n",
        "\tlevel: level_010\n",
        "Segment at 0x1071eb250:\n",
        "\tstart:\t0.00\n",
        "\tend:\t0.49\n",
        "\tlabel:\t0\n",
        "\tlevel: level_011\n",
        "Segment at 0x107213a10:\n",
        "\tstart:\t0.00\n",
        "\tend:\t0.49\n",
        "\tlabel:\t0\n",
        "\tlevel: level_012\n",
        "Segment at 0x10b65b4d0:\n",
        "\tstart:\t0.00\n",
        "\tend:\t0.49\n",
        "\tlabel:\t0\n",
        "\tlevel: level_013\n",
        "Segment at 0x10719e3d0:\n",
        "\tstart:\t0.00\n",
        "\tend:\t0.49\n",
        "\tlabel:\t0\n",
        "\tlevel: level_014\n",
        "Segment at 0x1071fba10:\n",
        "\tstart:\t0.00\n",
        "\tend:\t0.49\n",
        "\tlabel:\t0\n",
        "\tlevel: level_015\n",
        "Segment at 0x108eaa910:\n",
        "\tstart:\t0.00\n",
        "\tend:\t0.49\n",
        "\tlabel:\t0\n",
        "\tlevel: level_016\n",
        "Segment at 0x10b67b5d0:\n",
        "\tstart:\t0.00\n",
        "\tend:\t0.49\n",
        "\tlabel:\t0\n",
        "\tlevel: level_017\n",
        "Segment at 0x10b689550:\n",
        "\tstart:\t0.00\n",
        "\tend:\t0.49\n",
        "\tlabel:\t0\n",
        "\tlevel: level_018\n",
        "Segment at 0x10714dd90:\n",
        "\tstart:\t0.49\n",
        "\tend:\t5.46\n",
        "\tlabel:\t1\n",
        "\tlevel: level_010\n",
        "Segment at 0x10b694210:\n",
        "\tstart:\t0.49\n",
        "\tend:\t5.46\n",
        "\tlabel:\t1\n",
        "\tlevel: level_011\n",
        "Segment at 0x10b4c4d90:\n",
        "\tstart:\t0.49\n",
        "\tend:\t5.46\n",
        "\tlabel:\t1\n",
        "\tlevel: level_012\n",
        "Segment at 0x1071880d0:\n",
        "\tstart:\t0.49\n",
        "\tend:\t5.46\n",
        "\tlabel:\t1\n",
        "\tlevel: level_013\n",
        "Segment at 0x10b65d2d0:\n",
        "\tstart:\t0.49\n",
        "\tend:\t5.46\n",
        "\tlabel:\t1\n",
        "\tlevel: level_014\n",
        "Segment at 0x1071e9a50:\n",
        "\tstart:\t0.49\n",
        "\tend:\t5.46\n",
        "\tlabel:\t1\n",
        "\tlevel: level_015\n",
        "Segment at 0x10719ea50:\n",
        "\tstart:\t0.49\n",
        "\tend:\t5.46\n",
        "\tlabel:\t1\n",
        "\tlevel: level_016\n",
        "Segment at 0x10b65bb10:\n",
        "\tstart:\t0.49\n",
        "\tend:\t5.46\n",
        "\tlabel:\t1\n",
        "\tlevel: level_017\n",
        "Segment at 0x108eaa6d0:\n",
        "\tstart:\t0.49\n",
        "\tend:\t5.46\n",
        "\tlabel:\t1\n",
        "\tlevel: level_018\n",
        "Segment at 0x10b6dd910:\n",
        "\tstart:\t5.46\n",
        "\tend:\t63.09\n",
        "\tlabel:\t1\n",
        "\tlevel: level_004\n",
        "Segment at 0x107178290:\n",
        "\tstart:\t5.46\n",
        "\tend:\t63.09\n",
        "\tlabel:\t1\n",
        "\tlevel: level_005\n",
        "Segment at 0x10b689b90:\n",
        "\tstart:\t5.46\n",
        "\tend:\t63.09\n",
        "\tlabel:\t1\n",
        "\tlevel: level_006\n",
        "Segment at 0x10b495550:\n",
        "\tstart:\t5.46\n",
        "\tend:\t38.55\n",
        "\tlabel:\t1\n",
        "\tlevel: level_007\n",
        "Segment at 0x107202b10:\n",
        "\tstart:\t5.46\n",
        "\tend:\t38.55\n",
        "\tlabel:\t1\n",
        "\tlevel: level_008\n",
        "Segment at 0x10714d9d0:\n",
        "\tstart:\t5.46\n",
        "\tend:\t38.55\n",
        "\tlabel:\t1\n",
        "\tlevel: level_009\n",
        "Segment at 0x10b6dcf90:\n",
        "\tstart:\t5.46\n",
        "\tend:\t38.55\n",
        "\tlabel:\t2\n",
        "\tlevel: level_010\n",
        "Segment at 0x107213f50:\n",
        "\tstart:\t5.46\n",
        "\tend:\t38.55\n",
        "\tlabel:\t2\n",
        "\tlevel: level_011\n",
        "Segment at 0x10717bc90:\n",
        "\tstart:\t5.46\n",
        "\tend:\t38.55\n",
        "\tlabel:\t2\n",
        "\tlevel: level_012\n",
        "Segment at 0x108ed3750:\n",
        "\tstart:\t5.46\n",
        "\tend:\t17.58\n",
        "\tlabel:\t2\n",
        "\tlevel: level_013\n",
        "Segment at 0x1071a1410:\n",
        "\tstart:\t5.46\n",
        "\tend:\t17.58\n",
        "\tlabel:\t2\n",
        "\tlevel: level_014\n",
        "Segment at 0x108eaa050:\n",
        "\tstart:\t5.46\n",
        "\tend:\t17.58\n",
        "\tlabel:\t2\n",
        "\tlevel: level_015\n",
        "Segment at 0x10b68bf90:\n",
        "\tstart:\t5.46\n",
        "\tend:\t17.58\n",
        "\tlabel:\t2\n",
        "\tlevel: level_016\n",
        "Segment at 0x10719d090:\n",
        "\tstart:\t5.46\n",
        "\tend:\t17.58\n",
        "\tlabel:\t2\n",
        "\tlevel: level_017\n",
        "Segment at 0x10714db50:\n",
        "\tstart:\t5.46\n",
        "\tend:\t11.87\n",
        "\tlabel:\t2\n",
        "\tlevel: level_018\n",
        "Segment at 0x10717d850:\n",
        "\tstart:\t11.87\n",
        "\tend:\t17.58\n",
        "\tlabel:\t3\n",
        "\tlevel: level_018\n",
        "Segment at 0x108ed3d10:\n",
        "\tstart:\t17.58\n",
        "\tend:\t38.55\n",
        "\tlabel:\t3\n",
        "\tlevel: level_013\n",
        "Segment at 0x107192a50:\n",
        "\tstart:\t17.58\n",
        "\tend:\t38.55\n",
        "\tlabel:\t3\n",
        "\tlevel: level_014\n",
        "Segment at 0x10b4c47d0:\n",
        "\tstart:\t17.58\n",
        "\tend:\t38.55\n",
        "\tlabel:\t3\n",
        "\tlevel: level_015\n",
        "Segment at 0x1071eb550:\n",
        "\tstart:\t17.58\n",
        "\tend:\t38.55\n",
        "\tlabel:\t3\n",
        "\tlevel: level_016\n",
        "Segment at 0x10b68e8d0:\n",
        "\tstart:\t17.58\n",
        "\tend:\t38.55\n",
        "\tlabel:\t3\n",
        "\tlevel: level_017\n",
        "Segment at 0x10719e550:\n",
        "\tstart:\t17.58\n",
        "\tend:\t38.55\n",
        "\tlabel:\t4\n",
        "\tlevel: level_018\n",
        "Segment at 0x10b495b90:\n",
        "\tstart:\t38.55\n",
        "\tend:\t63.09\n",
        "\tlabel:\t2\n",
        "\tlevel: level_007\n",
        "Segment at 0x107149ed0:\n",
        "\tstart:\t38.55\n",
        "\tend:\t63.09\n",
        "\tlabel:\t2\n",
        "\tlevel: level_008\n",
        "Segment at 0x10714d0d0:\n",
        "\tstart:\t38.55\n",
        "\tend:\t63.09\n",
        "\tlabel:\t2\n",
        "\tlevel: level_009\n",
        "Segment at 0x10719cb50:\n",
        "\tstart:\t38.55\n",
        "\tend:\t63.09\n",
        "\tlabel:\t3\n",
        "\tlevel: level_010\n",
        "Segment at 0x1071fbdd0:\n",
        "\tstart:\t38.55\n",
        "\tend:\t63.09\n",
        "\tlabel:\t3\n",
        "\tlevel: level_011\n",
        "Segment at 0x10b6dc190:\n",
        "\tstart:\t38.55\n",
        "\tend:\t63.09\n",
        "\tlabel:\t3\n",
        "\tlevel: level_012\n",
        "Segment at 0x107202b90:\n",
        "\tstart:\t38.55\n",
        "\tend:\t63.09\n",
        "\tlabel:\t4\n",
        "\tlevel: level_013\n",
        "Segment at 0x10717de10:\n",
        "\tstart:\t38.55\n",
        "\tend:\t63.09\n",
        "\tlabel:\t4\n",
        "\tlevel: level_014\n",
        "Segment at 0x107213b10:\n",
        "\tstart:\t38.55\n",
        "\tend:\t63.09\n",
        "\tlabel:\t4\n",
        "\tlevel: level_015\n",
        "Segment at 0x10b678e10:\n",
        "\tstart:\t38.55\n",
        "\tend:\t63.09\n",
        "\tlabel:\t4\n",
        "\tlevel: level_016\n",
        "Segment at 0x107149b90:\n",
        "\tstart:\t38.55\n",
        "\tend:\t63.09\n",
        "\tlabel:\t4\n",
        "\tlevel: level_017\n",
        "Segment at 0x1071e9e90:\n",
        "\tstart:\t38.55\n",
        "\tend:\t63.09\n",
        "\tlabel:\t5\n",
        "\tlevel: level_018\n",
        "Segment at 0x10b6dd450:\n",
        "\tstart:\t63.09\n",
        "\tend:\t114.31\n",
        "\tlabel:\t2\n",
        "\tlevel: level_004\n",
        "Segment at 0x107178610:\n",
        "\tstart:\t63.09\n",
        "\tend:\t114.31\n",
        "\tlabel:\t2\n",
        "\tlevel: level_005\n",
        "Segment at 0x108ea9350:\n",
        "\tstart:\t63.09\n",
        "\tend:\t114.31\n",
        "\tlabel:\t2\n",
        "\tlevel: level_006\n",
        "Segment at 0x108ea2e10:\n",
        "\tstart:\t63.09\n",
        "\tend:\t114.31\n",
        "\tlabel:\t3\n",
        "\tlevel: level_007\n",
        "Segment at 0x108eaca90:\n",
        "\tstart:\t63.09\n",
        "\tend:\t114.31\n",
        "\tlabel:\t3\n",
        "\tlevel: level_008\n",
        "Segment at 0x107191910:\n",
        "\tstart:\t63.09\n",
        "\tend:\t91.21\n",
        "\tlabel:\t3\n",
        "\tlevel: level_009\n",
        "Segment at 0x10717da10:\n",
        "\tstart:\t63.09\n",
        "\tend:\t91.21\n",
        "\tlabel:\t4\n",
        "\tlevel: level_010\n",
        "Segment at 0x107213610:\n",
        "\tstart:\t63.09\n",
        "\tend:\t91.21\n",
        "\tlabel:\t4\n",
        "\tlevel: level_011\n",
        "Segment at 0x1071eb1d0:\n",
        "\tstart:\t63.09\n",
        "\tend:\t91.21\n",
        "\tlabel:\t4\n",
        "\tlevel: level_012\n",
        "Segment at 0x107149e10:\n",
        "\tstart:\t63.09\n",
        "\tend:\t91.21\n",
        "\tlabel:\t5\n",
        "\tlevel: level_013\n",
        "Segment at 0x10b65d610:\n",
        "\tstart:\t63.09\n",
        "\tend:\t91.21\n",
        "\tlabel:\t5\n",
        "\tlevel: level_014\n",
        "Segment at 0x107178ed0:\n",
        "\tstart:\t63.09\n",
        "\tend:\t90.46\n",
        "\tlabel:\t5\n",
        "\tlevel: level_015\n",
        "Segment at 0x1071e9c90:\n",
        "\tstart:\t63.09\n",
        "\tend:\t90.46\n",
        "\tlabel:\t5\n",
        "\tlevel: level_016\n",
        "Segment at 0x10b495510:\n",
        "\tstart:\t63.09\n",
        "\tend:\t74.12\n",
        "\tlabel:\t5\n",
        "\tlevel: level_017\n",
        "Segment at 0x1071a1590:\n",
        "\tstart:\t63.09\n",
        "\tend:\t74.12\n",
        "\tlabel:\t6\n",
        "\tlevel: level_018\n",
        "Segment at 0x10719d550:\n",
        "\tstart:\t74.12\n",
        "\tend:\t90.46\n",
        "\tlabel:\t6\n",
        "\tlevel: level_017\n",
        "Segment at 0x10b689250:\n",
        "\tstart:\t74.12\n",
        "\tend:\t90.46\n",
        "\tlabel:\t7\n",
        "\tlevel: level_018\n",
        "Segment at 0x107178250:\n",
        "\tstart:\t90.46\n",
        "\tend:\t91.21\n",
        "\tlabel:\t6\n",
        "\tlevel: level_015\n",
        "Segment at 0x10b657d90:\n",
        "\tstart:\t90.46\n",
        "\tend:\t91.21\n",
        "\tlabel:\t6\n",
        "\tlevel: level_016\n",
        "Segment at 0x107191b50:\n",
        "\tstart:\t90.46\n",
        "\tend:\t91.21\n",
        "\tlabel:\t7\n",
        "\tlevel: level_017\n",
        "Segment at 0x10717d0d0:\n",
        "\tstart:\t90.46\n",
        "\tend:\t91.21\n",
        "\tlabel:\t8\n",
        "\tlevel: level_018\n",
        "Segment at 0x107191110:\n",
        "\tstart:\t91.21\n",
        "\tend:\t114.31\n",
        "\tlabel:\t4\n",
        "\tlevel: level_009\n",
        "Segment at 0x1072131d0:\n",
        "\tstart:\t91.21\n",
        "\tend:\t114.31\n",
        "\tlabel:\t5\n",
        "\tlevel: level_010\n",
        "Segment at 0x10b65b250:\n",
        "\tstart:\t91.21\n",
        "\tend:\t114.31\n",
        "\tlabel:\t5\n",
        "\tlevel: level_011\n",
        "Segment at 0x1071f7dd0:\n",
        "\tstart:\t91.21\n",
        "\tend:\t114.31\n",
        "\tlabel:\t5\n",
        "\tlevel: level_012\n",
        "Segment at 0x1071e9c10:\n",
        "\tstart:\t91.21\n",
        "\tend:\t114.31\n",
        "\tlabel:\t6\n",
        "\tlevel: level_013\n",
        "Segment at 0x107178790:\n",
        "\tstart:\t91.21\n",
        "\tend:\t114.31\n",
        "\tlabel:\t6\n",
        "\tlevel: level_014\n",
        "Segment at 0x10b68ba90:\n",
        "\tstart:\t91.21\n",
        "\tend:\t114.31\n",
        "\tlabel:\t7\n",
        "\tlevel: level_015\n",
        "Segment at 0x10719ded0:\n",
        "\tstart:\t91.21\n",
        "\tend:\t114.31\n",
        "\tlabel:\t7\n",
        "\tlevel: level_016\n",
        "Segment at 0x1071fbd50:\n",
        "\tstart:\t91.21\n",
        "\tend:\t114.31\n",
        "\tlabel:\t8\n",
        "\tlevel: level_017\n",
        "Segment at 0x1071f6d90:\n",
        "\tstart:\t91.21\n",
        "\tend:\t114.31\n",
        "\tlabel:\t9\n",
        "\tlevel: level_018\n",
        "Segment at 0x10719ed50:\n",
        "\tstart:\t114.31\n",
        "\tend:\t187.79\n",
        "\tlabel:\t3\n",
        "\tlevel: level_004\n",
        "Segment at 0x10b657b10:\n",
        "\tstart:\t114.31\n",
        "\tend:\t137.09\n",
        "\tlabel:\t3\n",
        "\tlevel: level_005\n",
        "Segment at 0x107202ed0:\n",
        "\tstart:\t114.31\n",
        "\tend:\t137.09\n",
        "\tlabel:\t3\n",
        "\tlevel: level_006\n",
        "Segment at 0x10717d150:\n",
        "\tstart:\t114.31\n",
        "\tend:\t137.09\n",
        "\tlabel:\t4\n",
        "\tlevel: level_007\n",
        "Segment at 0x1070a07d0:\n",
        "\tstart:\t114.31\n",
        "\tend:\t125.69\n",
        "\tlabel:\t4\n",
        "\tlevel: level_008\n",
        "Segment at 0x10b67b8d0:\n",
        "\tstart:\t114.31\n",
        "\tend:\t125.69\n",
        "\tlabel:\t5\n",
        "\tlevel: level_009\n",
        "Segment at 0x10b65d350:\n",
        "\tstart:\t114.31\n",
        "\tend:\t125.69\n",
        "\tlabel:\t6\n",
        "\tlevel: level_010\n",
        "Segment at 0x10719e690:\n",
        "\tstart:\t114.31\n",
        "\tend:\t125.69\n",
        "\tlabel:\t6\n",
        "\tlevel: level_011\n",
        "Segment at 0x10719c310:\n",
        "\tstart:\t114.31\n",
        "\tend:\t125.69\n",
        "\tlabel:\t6\n",
        "\tlevel: level_012\n",
        "Segment at 0x10b678050:\n",
        "\tstart:\t114.31\n",
        "\tend:\t125.69\n",
        "\tlabel:\t7\n",
        "\tlevel: level_013\n",
        "Segment at 0x1071f6c50:\n",
        "\tstart:\t114.31\n",
        "\tend:\t125.69\n",
        "\tlabel:\t7\n",
        "\tlevel: level_014\n",
        "Segment at 0x1071fbc50:\n",
        "\tstart:\t114.31\n",
        "\tend:\t125.69\n",
        "\tlabel:\t8\n",
        "\tlevel: level_015\n",
        "Segment at 0x108ed3710:\n",
        "\tstart:\t114.31\n",
        "\tend:\t120.00\n",
        "\tlabel:\t8\n",
        "\tlevel: level_016\n",
        "Segment at 0x10b689350:\n",
        "\tstart:\t114.31\n",
        "\tend:\t120.00\n",
        "\tlabel:\t9\n",
        "\tlevel: level_017\n",
        "Segment at 0x107213650:\n",
        "\tstart:\t114.31\n",
        "\tend:\t120.00\n",
        "\tlabel:\t10\n",
        "\tlevel: level_018\n",
        "Segment at 0x108ed3650:\n",
        "\tstart:\t120.00\n",
        "\tend:\t125.69\n",
        "\tlabel:\t9\n",
        "\tlevel: level_016\n",
        "Segment at 0x107202a90:\n",
        "\tstart:\t120.00\n",
        "\tend:\t125.69\n",
        "\tlabel:\t10\n",
        "\tlevel: level_017\n",
        "Segment at 0x10b65b610:\n",
        "\tstart:\t120.00\n",
        "\tend:\t125.69\n",
        "\tlabel:\t11\n",
        "\tlevel: level_018\n",
        "Segment at 0x1070a0f90:\n",
        "\tstart:\t125.69\n",
        "\tend:\t137.09\n",
        "\tlabel:\t5\n",
        "\tlevel: level_008\n",
        "Segment at 0x1071eb190:\n",
        "\tstart:\t125.69\n",
        "\tend:\t137.09\n",
        "\tlabel:\t6\n",
        "\tlevel: level_009\n",
        "Segment at 0x10b68ea90:\n",
        "\tstart:\t125.69\n",
        "\tend:\t137.09\n",
        "\tlabel:\t7\n",
        "\tlevel: level_010\n",
        "Segment at 0x1071a7f50:\n",
        "\tstart:\t125.69\n",
        "\tend:\t137.09\n",
        "\tlabel:\t7\n",
        "\tlevel: level_011\n",
        "Segment at 0x10719ccd0:\n",
        "\tstart:\t125.69\n",
        "\tend:\t137.09\n",
        "\tlabel:\t7\n",
        "\tlevel: level_012\n",
        "Segment at 0x1071a1dd0:\n",
        "\tstart:\t125.69\n",
        "\tend:\t137.09\n",
        "\tlabel:\t8\n",
        "\tlevel: level_013\n",
        "Segment at 0x10b68bbd0:\n",
        "\tstart:\t125.69\n",
        "\tend:\t137.09\n",
        "\tlabel:\t8\n",
        "\tlevel: level_014\n",
        "Segment at 0x108eacbd0:\n",
        "\tstart:\t125.69\n",
        "\tend:\t137.09\n",
        "\tlabel:\t9\n",
        "\tlevel: level_015\n",
        "Segment at 0x10717b290:\n",
        "\tstart:\t125.69\n",
        "\tend:\t137.09\n",
        "\tlabel:\t10\n",
        "\tlevel: level_016\n",
        "Segment at 0x1071921d0:\n",
        "\tstart:\t125.69\n",
        "\tend:\t137.09\n",
        "\tlabel:\t11\n",
        "\tlevel: level_017\n",
        "Segment at 0x108ea9f50:\n",
        "\tstart:\t125.69\n",
        "\tend:\t137.09\n",
        "\tlabel:\t12\n",
        "\tlevel: level_018\n",
        "Segment at 0x10b657550:\n",
        "\tstart:\t137.09\n",
        "\tend:\t187.79\n",
        "\tlabel:\t4\n",
        "\tlevel: level_005\n",
        "Segment at 0x10b67b610:\n",
        "\tstart:\t137.09\n",
        "\tend:\t181.21\n",
        "\tlabel:\t4\n",
        "\tlevel: level_006\n",
        "Segment at 0x1070a0ed0:\n",
        "\tstart:\t137.09\n",
        "\tend:\t181.21\n",
        "\tlabel:\t5\n",
        "\tlevel: level_007\n",
        "Segment at 0x1071a70d0:\n",
        "\tstart:\t137.09\n",
        "\tend:\t181.21\n",
        "\tlabel:\t6\n",
        "\tlevel: level_008\n",
        "Segment at 0x10b686350:\n",
        "\tstart:\t137.09\n",
        "\tend:\t181.21\n",
        "\tlabel:\t7\n",
        "\tlevel: level_009\n",
        "Segment at 0x1071e96d0:\n",
        "\tstart:\t137.09\n",
        "\tend:\t181.21\n",
        "\tlabel:\t8\n",
        "\tlevel: level_010\n",
        "Segment at 0x108ea2e90:\n",
        "\tstart:\t137.09\n",
        "\tend:\t145.61\n",
        "\tlabel:\t8\n",
        "\tlevel: level_011\n",
        "Segment at 0x108eacfd0:\n",
        "\tstart:\t137.09\n",
        "\tend:\t145.61\n",
        "\tlabel:\t8\n",
        "\tlevel: level_012\n",
        "Segment at 0x10b694950:\n",
        "\tstart:\t137.09\n",
        "\tend:\t145.61\n",
        "\tlabel:\t9\n",
        "\tlevel: level_013\n",
        "Segment at 0x10b657890:\n",
        "\tstart:\t137.09\n",
        "\tend:\t145.61\n",
        "\tlabel:\t9\n",
        "\tlevel: level_014\n",
        "Segment at 0x1071889d0:\n",
        "\tstart:\t137.09\n",
        "\tend:\t145.61\n",
        "\tlabel:\t10\n",
        "\tlevel: level_015\n",
        "Segment at 0x10717ded0:\n",
        "\tstart:\t137.09\n",
        "\tend:\t145.61\n",
        "\tlabel:\t11\n",
        "\tlevel: level_016\n",
        "Segment at 0x10b65dcd0:\n",
        "\tstart:\t137.09\n",
        "\tend:\t145.61\n",
        "\tlabel:\t12\n",
        "\tlevel: level_017\n",
        "Segment at 0x1071fad90:\n",
        "\tstart:\t137.09\n",
        "\tend:\t145.61\n",
        "\tlabel:\t13\n",
        "\tlevel: level_018\n",
        "Segment at 0x108ea2490:\n",
        "\tstart:\t145.61\n",
        "\tend:\t181.21\n",
        "\tlabel:\t9\n",
        "\tlevel: level_011\n",
        "Segment at 0x10b678f90:\n",
        "\tstart:\t145.61\n",
        "\tend:\t180.84\n",
        "\tlabel:\t9\n",
        "\tlevel: level_012\n",
        "Segment at 0x1071a78d0:\n",
        "\tstart:\t145.61\n",
        "\tend:\t180.84\n",
        "\tlabel:\t10\n",
        "\tlevel: level_013\n",
        "Segment at 0x1071fbf90:\n",
        "\tstart:\t145.61\n",
        "\tend:\t159.85\n",
        "\tlabel:\t10\n",
        "\tlevel: level_014\n",
        "Segment at 0x10719d790:\n",
        "\tstart:\t145.61\n",
        "\tend:\t159.85\n",
        "\tlabel:\t11\n",
        "\tlevel: level_015\n",
        "Segment at 0x10716fd50:\n",
        "\tstart:\t145.61\n",
        "\tend:\t159.85\n",
        "\tlabel:\t12\n",
        "\tlevel: level_016\n",
        "Segment at 0x10b689510:\n",
        "\tstart:\t145.61\n",
        "\tend:\t159.85\n",
        "\tlabel:\t13\n",
        "\tlevel: level_017\n",
        "Segment at 0x10b694810:\n",
        "\tstart:\t145.61\n",
        "\tend:\t159.85\n",
        "\tlabel:\t14\n",
        "\tlevel: level_018\n",
        "Segment at 0x1071fb950:\n",
        "\tstart:\t159.85\n",
        "\tend:\t180.84\n",
        "\tlabel:\t11\n",
        "\tlevel: level_014\n",
        "Segment at 0x10b657cd0:\n",
        "\tstart:\t159.85\n",
        "\tend:\t180.84\n",
        "\tlabel:\t12\n",
        "\tlevel: level_015\n",
        "Segment at 0x107188d10:\n",
        "\tstart:\t159.85\n",
        "\tend:\t180.84\n",
        "\tlabel:\t13\n",
        "\tlevel: level_016\n",
        "Segment at 0x1071ebad0:\n",
        "\tstart:\t159.85\n",
        "\tend:\t180.84\n",
        "\tlabel:\t14\n",
        "\tlevel: level_017\n",
        "Segment at 0x10b67bdd0:\n",
        "\tstart:\t159.85\n",
        "\tend:\t180.84\n",
        "\tlabel:\t15\n",
        "\tlevel: level_018\n",
        "Segment at 0x10b678a10:\n",
        "\tstart:\t180.84\n",
        "\tend:\t181.21\n",
        "\tlabel:\t10\n",
        "\tlevel: level_012\n",
        "Segment at 0x10b686c10:\n",
        "\tstart:\t180.84\n",
        "\tend:\t181.21\n",
        "\tlabel:\t11\n",
        "\tlevel: level_013\n",
        "Segment at 0x1071fb210:\n",
        "\tstart:\t180.84\n",
        "\tend:\t181.21\n",
        "\tlabel:\t12\n",
        "\tlevel: level_014\n",
        "Segment at 0x1071f6d50:\n",
        "\tstart:\t180.84\n",
        "\tend:\t181.21\n",
        "\tlabel:\t13\n",
        "\tlevel: level_015\n",
        "Segment at 0x1071e9550:\n",
        "\tstart:\t180.84\n",
        "\tend:\t181.21\n",
        "\tlabel:\t14\n",
        "\tlevel: level_016\n",
        "Segment at 0x108ea50d0:\n",
        "\tstart:\t180.84\n",
        "\tend:\t181.21\n",
        "\tlabel:\t15\n",
        "\tlevel: level_017\n",
        "Segment at 0x107191950:\n",
        "\tstart:\t180.84\n",
        "\tend:\t181.21\n",
        "\tlabel:\t16\n",
        "\tlevel: level_018\n",
        "Segment at 0x10b67b250:\n",
        "\tstart:\t181.21\n",
        "\tend:\t187.79\n",
        "\tlabel:\t5\n",
        "\tlevel: level_006\n",
        "Segment at 0x107213290:\n",
        "\tstart:\t181.21\n",
        "\tend:\t187.79\n",
        "\tlabel:\t6\n",
        "\tlevel: level_007\n",
        "Segment at 0x10717d690:\n",
        "\tstart:\t181.21\n",
        "\tend:\t187.79\n",
        "\tlabel:\t7\n",
        "\tlevel: level_008\n",
        "Segment at 0x10b678fd0:\n",
        "\tstart:\t181.21\n",
        "\tend:\t187.79\n",
        "\tlabel:\t8\n",
        "\tlevel: level_009\n",
        "Segment at 0x1071a7a50:\n",
        "\tstart:\t181.21\n",
        "\tend:\t187.79\n",
        "\tlabel:\t9\n",
        "\tlevel: level_010\n",
        "Segment at 0x10719c6d0:\n",
        "\tstart:\t181.21\n",
        "\tend:\t187.79\n",
        "\tlabel:\t10\n",
        "\tlevel: level_011\n",
        "Segment at 0x10719d6d0:\n",
        "\tstart:\t181.21\n",
        "\tend:\t187.79\n",
        "\tlabel:\t11\n",
        "\tlevel: level_012\n",
        "Segment at 0x10b694990:\n",
        "\tstart:\t181.21\n",
        "\tend:\t187.79\n",
        "\tlabel:\t12\n",
        "\tlevel: level_013\n",
        "Segment at 0x10b6897d0:\n",
        "\tstart:\t181.21\n",
        "\tend:\t187.79\n",
        "\tlabel:\t13\n",
        "\tlevel: level_014\n",
        "Segment at 0x107188b10:\n",
        "\tstart:\t181.21\n",
        "\tend:\t187.79\n",
        "\tlabel:\t14\n",
        "\tlevel: level_015\n",
        "Segment at 0x107192e90:\n",
        "\tstart:\t181.21\n",
        "\tend:\t187.79\n",
        "\tlabel:\t15\n",
        "\tlevel: level_016\n",
        "Segment at 0x10b67bd50:\n",
        "\tstart:\t181.21\n",
        "\tend:\t187.79\n",
        "\tlabel:\t16\n",
        "\tlevel: level_017\n",
        "Segment at 0x10b68e7d0:\n",
        "\tstart:\t181.21\n",
        "\tend:\t187.79\n",
        "\tlabel:\t17\n",
        "\tlevel: level_018\n",
        "\n"
       ]
      }
     ],
     "prompt_number": 60
    },
    {
     "cell_type": "code",
     "collapsed": false,
     "input": [
      "# Tree to tree\n",
      "\n",
      "T0 = tree.SegmentTree(\"test/SALAMI_636.jams\", annotation_id=0)\n",
      "T1 = tree.SegmentTree(\"test/SALAMI_636.jams\", annotation_id=1)\n",
      "eval_trees(T0, T1, transitive=False, main_title=\"SALAMI 636 Annotator 1 vs Annotator 2\")"
     ],
     "language": "python",
     "metadata": {},
     "outputs": [
      {
       "output_type": "stream",
       "stream": "stdout",
       "text": [
        "Window: +-0.50s\n",
        "\tRef=T0, Est=T1: 0.7817"
       ]
      },
      {
       "output_type": "stream",
       "stream": "stdout",
       "text": [
        "\n",
        "\tRef=T1, Est=T0: 0.8027"
       ]
      },
      {
       "output_type": "stream",
       "stream": "stdout",
       "text": [
        "\n",
        "Window: +-3.00s\n",
        "\tRef=T0, Est=T1: 0.9539"
       ]
      },
      {
       "output_type": "stream",
       "stream": "stdout",
       "text": [
        "\n",
        "\tRef=T1, Est=T0: 0.9527"
       ]
      },
      {
       "output_type": "stream",
       "stream": "stdout",
       "text": [
        "\n",
        "Window: +-15.00s\n",
        "\tRef=T0, Est=T1: 0.9565"
       ]
      },
      {
       "output_type": "stream",
       "stream": "stdout",
       "text": [
        "\n",
        "\tRef=T1, Est=T0: 0.9052"
       ]
      },
      {
       "output_type": "stream",
       "stream": "stdout",
       "text": [
        "\n",
        "Window: +-30.00s\n",
        "\tRef=T0, Est=T1: 0.9573"
       ]
      },
      {
       "output_type": "stream",
       "stream": "stdout",
       "text": [
        "\n",
        "\tRef=T1, Est=T0: 0.8798"
       ]
      },
      {
       "output_type": "stream",
       "stream": "stdout",
       "text": [
        "\n",
        "Window: +-0.00s\n",
        "\tRef=T0, Est=T1: 0.9575"
       ]
      },
      {
       "output_type": "stream",
       "stream": "stdout",
       "text": [
        "\n",
        "\tRef=T1, Est=T0: 0.9575"
       ]
      },
      {
       "output_type": "stream",
       "stream": "stdout",
       "text": [
        "\n"
       ]
      }
     ],
     "prompt_number": 58
    },
    {
     "cell_type": "code",
     "collapsed": false,
     "input": [
      "# Flat to flat, large scale\n",
      "\n",
      "T0 = tree.SegmentTree(\"test/SALAMI_636.jams\", annotation_id=0)\n",
      "T1 = tree.SegmentTree(\"test/SALAMI_636.jams\", annotation_id=1)\n",
      "\n",
      "\n",
      "T0.prune_to_level(level='large_scale')\n",
      "T1.prune_to_level(level='large_scale')\n",
      "T0.collapse_to_level(level='large_scale')\n",
      "T1.collapse_to_level(level='large_scale')\n",
      "\n",
      "eval_trees(T0, T1, transitive=False)"
     ],
     "language": "python",
     "metadata": {},
     "outputs": [
      {
       "output_type": "stream",
       "stream": "stdout",
       "text": [
        "Window: +-0.50s\n",
        "\tRef=T0, Est=T1: 0.917"
       ]
      },
      {
       "output_type": "stream",
       "stream": "stdout",
       "text": [
        "\n",
        "\tRef=T1, Est=T0: 0.573"
       ]
      },
      {
       "output_type": "stream",
       "stream": "stdout",
       "text": [
        "\n",
        "Window: +-3.00s\n",
        "\tRef=T0, Est=T1: 0.980"
       ]
      },
      {
       "output_type": "stream",
       "stream": "stdout",
       "text": [
        "\n",
        "\tRef=T1, Est=T0: 0.601"
       ]
      },
      {
       "output_type": "stream",
       "stream": "stdout",
       "text": [
        "\n",
        "Window: +-30.00s\n",
        "\tRef=T0, Est=T1: 0.682"
       ]
      },
      {
       "output_type": "stream",
       "stream": "stdout",
       "text": [
        "\n",
        "\tRef=T1, Est=T0: 0.762"
       ]
      },
      {
       "output_type": "stream",
       "stream": "stdout",
       "text": [
        "\n"
       ]
      },
      {
       "metadata": {},
       "output_type": "display_data",
       "png": "[encoded data removed]",
       "text": [
        "<matplotlib.figure.Figure at 0x460c190>"
       ]
      }
     ],
     "prompt_number": 50
    },
    {
     "cell_type": "code",
     "collapsed": false,
     "input": [
      "# Flat to flat, small scale\n",
      "\n",
      "T0 = tree.SegmentTree(\"test/SALAMI_636.jams\", annotation_id=0)\n",
      "T1 = tree.SegmentTree(\"test/SALAMI_636.jams\", annotation_id=1)\n",
      "T0.collapse_to_level(level='small_scale')\n",
      "T1.collapse_to_level(level='small_scale')\n",
      "\n",
      "eval_trees(T0, T1)"
     ],
     "language": "python",
     "metadata": {},
     "outputs": [
      {
       "output_type": "stream",
       "stream": "stdout",
       "text": [
        "Window: +-0.50s\n",
        "\tRef=T0, Est=T1: 0.824"
       ]
      },
      {
       "output_type": "stream",
       "stream": "stdout",
       "text": [
        "\n",
        "\tRef=T1, Est=T0: 0.799"
       ]
      },
      {
       "output_type": "stream",
       "stream": "stdout",
       "text": [
        "\n",
        "Window: +-3.00s\n",
        "\tRef=T0, Est=T1: 0.963"
       ]
      },
      {
       "output_type": "stream",
       "stream": "stdout",
       "text": [
        "\n",
        "\tRef=T1, Est=T0: 0.933"
       ]
      },
      {
       "output_type": "stream",
       "stream": "stdout",
       "text": [
        "\n",
        "Window: +-30.00s\n",
        "\tRef=T0, Est=T1: 0.956"
       ]
      },
      {
       "output_type": "stream",
       "stream": "stdout",
       "text": [
        "\n",
        "\tRef=T1, Est=T0: 0.974"
       ]
      },
      {
       "output_type": "stream",
       "stream": "stdout",
       "text": [
        "\n"
       ]
      },
      {
       "metadata": {},
       "output_type": "display_data",
       "png": "[encoded data removed]",
       "text": [
        "<matplotlib.figure.Figure at 0x4007950>"
       ]
      }
     ],
     "prompt_number": 51
    },
    {
     "cell_type": "code",
     "collapsed": false,
     "input": [
      "# Flat to flat, large vs small scale\n",
      "\n",
      "T0 = tree.SegmentTree(\"test/SALAMI_636.jams\", annotation_id=0)\n",
      "T1 = tree.SegmentTree(\"test/SALAMI_636.jams\", annotation_id=1)\n",
      "\n",
      "T0.prune_to_level(level='large_scale')\n",
      "T0.collapse_to_level(level='large_scale')\n",
      "T1.collapse_to_level(level='small_scale')\n",
      "\n",
      "\n",
      "eval_trees(T0, T1, transitive=False)"
     ],
     "language": "python",
     "metadata": {},
     "outputs": [
      {
       "output_type": "stream",
       "stream": "stdout",
       "text": [
        "Window: +-0.50s\n",
        "\tRef=T0, Est=T1: 0.917"
       ]
      },
      {
       "output_type": "stream",
       "stream": "stdout",
       "text": [
        "\n",
        "\tRef=T1, Est=T0: 0.278"
       ]
      },
      {
       "output_type": "stream",
       "stream": "stdout",
       "text": [
        "\n",
        "Window: +-3.00s\n",
        "\tRef=T0, Est=T1: 0.978"
       ]
      },
      {
       "output_type": "stream",
       "stream": "stdout",
       "text": [
        "\n",
        "\tRef=T1, Est=T0: 0.288"
       ]
      },
      {
       "output_type": "stream",
       "stream": "stdout",
       "text": [
        "\n",
        "Window: +-30.00s\n",
        "\tRef=T0, Est=T1: 0.310"
       ]
      },
      {
       "output_type": "stream",
       "stream": "stdout",
       "text": [
        "\n",
        "\tRef=T1, Est=T0: 0.630"
       ]
      },
      {
       "output_type": "stream",
       "stream": "stdout",
       "text": [
        "\n"
       ]
      },
      {
       "metadata": {},
       "output_type": "display_data",
       "png": "[encoded data removed]",
       "text": [
        "<matplotlib.figure.Figure at 0x40181d0>"
       ]
      }
     ],
     "prompt_number": 52
    },
    {
     "cell_type": "code",
     "collapsed": false,
     "input": [
      "# Flat to flat, large vs small scale\n",
      "\n",
      "T0 = tree.SegmentTree(\"test/SALAMI_636.jams\", annotation_id=0)\n",
      "T1 = tree.SegmentTree(\"test/SALAMI_636.jams\", annotation_id=1)\n",
      "T0.collapse_to_level(level='small_scale')\n",
      "T1.prune_to_level(level='large_scale')\n",
      "T1.collapse_to_level(level='large_scale')\n",
      "\n",
      "eval_trees(T0, T1)"
     ],
     "language": "python",
     "metadata": {},
     "outputs": [
      {
       "output_type": "stream",
       "stream": "stdout",
       "text": [
        "Window: +-0.50s\n",
        "\tRef=T0, Est=T1: 0.404"
       ]
      },
      {
       "output_type": "stream",
       "stream": "stdout",
       "text": [
        "\n",
        "\tRef=T1, Est=T0: 0.808"
       ]
      },
      {
       "output_type": "stream",
       "stream": "stdout",
       "text": [
        "\n",
        "Window: +-3.00s\n",
        "\tRef=T0, Est=T1: 0.448"
       ]
      },
      {
       "output_type": "stream",
       "stream": "stdout",
       "text": [
        "\n",
        "\tRef=T1, Est=T0: 0.903"
       ]
      },
      {
       "output_type": "stream",
       "stream": "stdout",
       "text": [
        "\n",
        "Window: +-30.00s\n",
        "\tRef=T0, Est=T1: 0.777"
       ]
      },
      {
       "output_type": "stream",
       "stream": "stdout",
       "text": [
        "\n",
        "\tRef=T1, Est=T0: 0.467"
       ]
      },
      {
       "output_type": "stream",
       "stream": "stdout",
       "text": [
        "\n"
       ]
      },
      {
       "metadata": {},
       "output_type": "display_data",
       "png": "[encoded data removed]",
       "text": [
        "<matplotlib.figure.Figure at 0x4005d10>"
       ]
      }
     ],
     "prompt_number": 53
    },
    {
     "cell_type": "code",
     "collapsed": false,
     "input": [
      "# Tree to flat, small scale\n",
      "\n",
      "T0 = tree.SegmentTree(\"test/SALAMI_636.jams\", annotation_id=0)\n",
      "T1 = tree.SegmentTree(\"test/SALAMI_636.jams\", annotation_id=1)\n",
      "T1.collapse_to_level(level='small_scale')\n",
      "\n",
      "eval_trees(T0, T1, transitive=False)"
     ],
     "language": "python",
     "metadata": {},
     "outputs": [
      {
       "output_type": "stream",
       "stream": "stdout",
       "text": [
        "Window: +-0.50s\n",
        "\tRef=T0, Est=T1: 0.782"
       ]
      },
      {
       "output_type": "stream",
       "stream": "stdout",
       "text": [
        "\n",
        "\tRef=T1, Est=T0: 0.799"
       ]
      },
      {
       "output_type": "stream",
       "stream": "stdout",
       "text": [
        "\n",
        "Window: +-3.00s\n",
        "\tRef=T0, Est=T1: 0.954"
       ]
      },
      {
       "output_type": "stream",
       "stream": "stdout",
       "text": [
        "\n",
        "\tRef=T1, Est=T0: 0.933"
       ]
      },
      {
       "output_type": "stream",
       "stream": "stdout",
       "text": [
        "\n",
        "Window: +-30.00s\n",
        "\tRef=T0, Est=T1: 0.953"
       ]
      },
      {
       "output_type": "stream",
       "stream": "stdout",
       "text": [
        "\n",
        "\tRef=T1, Est=T0: 0.982"
       ]
      },
      {
       "output_type": "stream",
       "stream": "stdout",
       "text": [
        "\n"
       ]
      },
      {
       "metadata": {},
       "output_type": "display_data",
       "png": "[encoded data removed]",
       "text": [
        "<matplotlib.figure.Figure at 0x46226d0>"
       ]
      }
     ],
     "prompt_number": 54
    },
    {
     "cell_type": "code",
     "collapsed": false,
     "input": [
      "# Tree to flat, large scale\n",
      "\n",
      "T0 = tree.SegmentTree(\"test/SALAMI_636.jams\", annotation_id=0)\n",
      "T1 = tree.SegmentTree(\"test/SALAMI_636.jams\", annotation_id=1)\n",
      "T1.prune_to_level(level='large_scale')\n",
      "T1.collapse_to_level(level='large_scale')\n",
      "\n",
      "eval_trees(T0, T1)"
     ],
     "language": "python",
     "metadata": {},
     "outputs": [
      {
       "output_type": "stream",
       "stream": "stdout",
       "text": [
        "Window: +-0.50s\n",
        "\tRef=T0, Est=T1: 0.171"
       ]
      },
      {
       "output_type": "stream",
       "stream": "stdout",
       "text": [
        "\n",
        "\tRef=T1, Est=T0: 0.808"
       ]
      },
      {
       "output_type": "stream",
       "stream": "stdout",
       "text": [
        "\n",
        "Window: +-3.00s\n",
        "\tRef=T0, Est=T1: 0.213"
       ]
      },
      {
       "output_type": "stream",
       "stream": "stdout",
       "text": [
        "\n",
        "\tRef=T1, Est=T0: 0.904"
       ]
      },
      {
       "output_type": "stream",
       "stream": "stdout",
       "text": [
        "\n",
        "Window: +-30.00s\n",
        "\tRef=T0, Est=T1: 0.424"
       ]
      },
      {
       "output_type": "stream",
       "stream": "stdout",
       "text": [
        "\n",
        "\tRef=T1, Est=T0: 0.865"
       ]
      },
      {
       "output_type": "stream",
       "stream": "stdout",
       "text": [
        "\n"
       ]
      },
      {
       "metadata": {},
       "output_type": "display_data",
       "png": "[encoded data removed]",
       "text": [
        "<matplotlib.figure.Figure at 0x4abcb50>"
       ]
      }
     ],
     "prompt_number": 55
    },
    {
     "cell_type": "code",
     "collapsed": false,
     "input": [
      "import mir_eval\n",
      "import jams2\n",
      "\n",
      "level = \"large_scale\"\n",
      "\n",
      "bounds0, labels0 = jams2.converters.load_jams_range(\n",
      "                            \"test/SALAMI_636.jams\", \"sections\", annotator=0, context=level)\n",
      "bounds1, labels1 = jams2.converters.load_jams_range(\n",
      "                            \"test/SALAMI_636.jams\", \"sections\", annotator=1, context=level)\n",
      "\n",
      "\n",
      "P, R, F = mir_eval.boundary.detection(bounds0,\n",
      "                                    bounds1, window=0.5, trim=True)\n",
      "print \"F-measure 0.5 seconds: Ref=A0, Est=A1:\\n\\tF=%.3f, P=%.3f, R=%.3f\\n\\tlevel: %s\" % (F, P, R, level)\n",
      "\n",
      "\n",
      "P, R, F = mir_eval.boundary.detection(bounds1,\n",
      "                                    bounds0, window=0.5, trim=True)\n",
      "print \"F-measure 0.5 seconds: Ref=A1, Est=A0:\\n\\tF=%.3f, P=%.3f, R=%.3f\\n\\tlevel: %s\" % (F, P, R, level)\n"
     ],
     "language": "python",
     "metadata": {},
     "outputs": [
      {
       "output_type": "stream",
       "stream": "stdout",
       "text": [
        "F-measure 0.5 seconds: Ref=A0, Est=A1:\n",
        "\tF=0.769, P=0.625, R=1.000\n",
        "\tlevel: large_scale\n",
        "F-measure 0.5 seconds: Ref=A1, Est=A0:\n",
        "\tF=0.769, P=1.000, R=0.625\n",
        "\tlevel: large_scale\n"
       ]
      }
     ],
     "prompt_number": 28
    },
    {
     "cell_type": "code",
     "collapsed": false,
     "input": [
      "# Create Synthetic examples\n",
      "import jams2\n",
      "import json\n",
      "import mir_eval\n",
      "\n",
      "def create_jams(boundaries, out_file):\n",
      "    jam = jams2.Jams()\n",
      "    jam.metadata.duration = boundaries[0][-1]\n",
      "    sections = jam.sections.create_annotation()\n",
      "    for c, boundary_level in enumerate(boundaries):\n",
      "        b_intervals = zip(boundary_level[:], boundary_level[1:])\n",
      "        for b_interval in b_intervals:\n",
      "            section = sections.create_datapoint()\n",
      "            section.start.value = b_interval[0]\n",
      "            section.end.value = b_interval[1]\n",
      "            section.label.context = str(c)\n",
      "    with open(out_file, \"w\") as f:\n",
      "        json.dump(jam, f, indent=2)\n",
      "        \n",
      "def evaluate_flat(ref_times, est_times, w, trim=False):\n",
      "    ref_times = np.asarray(ref_times).flatten()\n",
      "    est_times = np.asarray(est_times).flatten()\n",
      "    ref_inter = np.asarray(zip(ref_times[:], ref_times[1:]))\n",
      "    est_inter = np.asarray(zip(est_times[:], est_times[1:]))\n",
      "    p, r, f = mir_eval.boundary.detection(ref_inter, est_inter, trim=trim, window=w)\n",
      "    R2E, E2R = mir_eval.boundary.deviation(ref_inter, est_inter, trim=trim)\n",
      "    print \"R2E: %.2f, E2R: %.2f\" % (R2E, E2R)\n",
      "    return f, p, r\n",
      "    \n",
      "def evaluate_bounds(bound1, bound2, main_title=\"\", transitive=True):\n",
      "    create_jams(bound1, \"test/tmp1.jams\")\n",
      "    create_jams(bound2, \"test/tmp2.jams\")\n",
      "\n",
      "    T0 = tree.SegmentTree(\"test/tmp1.jams\", annotation_id=0)\n",
      "    T1 = tree.SegmentTree(\"test/tmp2.jams\", annotation_id=0)\n",
      "    eval_trees(T0, T1, transitive=transitive, main_title=main_title)\n",
      "\n",
      "# Flat vs flat\n",
      "# f1 = [[0, 10, 20, 30, 40, 50, 60]]\n",
      "# f2 = [[0, 20, 40, 60]]\n",
      "# trim = True\n",
      "# f, p, r = evaluate_flat(f1, f2, 3, trim=trim)\n",
      "# print f*100, p*100, r*100\n",
      "# evaluate_bounds(f1, f2, \"Flat vs Flat\"); show()\n",
      "\n",
      "# Hierarchical vs Flat Large Scale\n",
      "h1 = [[0, 10, 20, 30, 40, 50, 60], [0, 20, 40, 60]]\n",
      "f2 = [[0, 20, 40, 60]]\n",
      "# h1 = [[0, 10, 20, 30, 40], [0, 20, 40]]\n",
      "# f2 = [[0, 20, 40]]\n",
      "evaluate_bounds(h1, f2, transitive=True, main_title=\"Hierarchical vs Flat Large Scale\"); show()\n",
      "\n",
      "# Hierarchical vs Flat Small Scale\n",
      "# h1 = [[0, 10, 20, 30, 40, 50, 60], [0, 20, 40, 60]]\n",
      "# f2 = [[0, 10, 20, 30, 40, 50, 60]]\n",
      "# evaluate_bounds(h1, f2, \"Hierarchical vs Flat Small Scale\"); show()\n",
      "\n",
      "# Hierarchical vs Hierarchical\n",
      "# h1 = [[0, 10, 20, 30, 40, 50, 60], [0, 20, 40, 60]]\n",
      "# h2 = [[0, 10, 20, 30, 40, 50, 60], [0, 20, 40, 60]]\n",
      "# evaluate_bounds(h1, h2, \"Hierarchical vs Hierarchical\"); show()\n",
      "\n",
      "# Hierarchical vs 3-layer Hierarchical\n",
      "# h1 = [[0, 10, 20, 30, 40, 50, 60], [0, 20, 40, 60]]\n",
      "# h2 = [[0, 10, 20, 30, 40, 50, 60], [0, 20, 40, 60], [0, 40, 60]]\n",
      "# evaluate_bounds(h1, h2, \"2-Layer vs 3-Layer\"); show()\n",
      "\n",
      "# Figure 1 example of the paper\n",
      "# h1 = [[0, 10, 20, 30], [0, 20, 30]]\n",
      "# h2 = [[0, 10, 20, 30], [0, 10, 30]]\n",
      "# evaluate_bounds(h1, h2, \"Figure 1\"); show()\n"
     ],
     "language": "python",
     "metadata": {},
     "outputs": [
      {
       "output_type": "stream",
       "stream": "stdout",
       "text": [
        "Window: +-0.50s\n",
        "\tRef=T0, Est=T1: 0.4000\n",
        "\tRef=T1, Est=T0: 1.0000\n",
        "Window: +-3.00s\n",
        "\tRef=T0, Est=T1: 0.4000"
       ]
      },
      {
       "output_type": "stream",
       "stream": "stdout",
       "text": [
        "\n",
        "\tRef=T1, Est=T0: 1.0000\n",
        "Window: +-15.00s\n",
        "\tRef=T0, Est=T1: 0.5101"
       ]
      },
      {
       "output_type": "stream",
       "stream": "stdout",
       "text": [
        "\n",
        "\tRef=T1, Est=T0: 1.0000"
       ]
      },
      {
       "output_type": "stream",
       "stream": "stdout",
       "text": [
        "\n",
        "Window: +-30.00s\n",
        "\tRef=T0, Est=T1: 0.8176"
       ]
      },
      {
       "output_type": "stream",
       "stream": "stdout",
       "text": [
        "\n",
        "\tRef=T1, Est=T0: 1.0000"
       ]
      },
      {
       "output_type": "stream",
       "stream": "stdout",
       "text": [
        "\n",
        "Window: +-0.00s\n",
        "\tRef=T0, Est=T1: 0.8894"
       ]
      },
      {
       "output_type": "stream",
       "stream": "stdout",
       "text": [
        "\n",
        "\tRef=T1, Est=T0: 1.0000"
       ]
      },
      {
       "output_type": "stream",
       "stream": "stdout",
       "text": [
        "\n"
       ]
      }
     ],
     "prompt_number": 88
    },
    {
     "cell_type": "code",
     "collapsed": false,
     "input": [],
     "language": "python",
     "metadata": {},
     "outputs": []
    }
   ],
   "metadata": {}
  }
 ]
}